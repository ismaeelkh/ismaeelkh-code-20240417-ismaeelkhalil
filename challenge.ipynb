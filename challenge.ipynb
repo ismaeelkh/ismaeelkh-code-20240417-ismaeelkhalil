{
 "cells": [
  {
   "cell_type": "markdown",
   "metadata": {
    "toc": true
   },
   "source": [
    "<h1>Table of Contents<span class=\"tocSkip\"></span></h1>\n",
    "<div class=\"toc\"><ul class=\"toc-item\"><li><span><a href=\"#Automated-Approches-for-Data-Cleansing-of-&quot;winner_price&quot;-(Target)\" data-toc-modified-id=\"Automated-Approches-for-Data-Cleansing-of-&quot;winner_price&quot;-(Target)-1\"><span class=\"toc-item-num\">1&nbsp;&nbsp;</span>Automated Approches for Data Cleansing of \"winner_price\" (Target)</a></span><ul class=\"toc-item\"><li><span><a href=\"#Data-Type-Verification\" data-toc-modified-id=\"Data-Type-Verification-1.1\"><span class=\"toc-item-num\">1.1&nbsp;&nbsp;</span>Data Type Verification</a></span></li><li><span><a href=\"#Data-Validation\" data-toc-modified-id=\"Data-Validation-1.2\"><span class=\"toc-item-num\">1.2&nbsp;&nbsp;</span>Data Validation</a></span></li><li><span><a href=\"#Detecting-Outliers\" data-toc-modified-id=\"Detecting-Outliers-1.3\"><span class=\"toc-item-num\">1.3&nbsp;&nbsp;</span>Detecting Outliers</a></span></li><li><span><a href=\"#Missing-Values\" data-toc-modified-id=\"Missing-Values-1.4\"><span class=\"toc-item-num\">1.4&nbsp;&nbsp;</span>Missing Values</a></span></li></ul></li><li><span><a href=\"#Duplicates\" data-toc-modified-id=\"Duplicates-2\"><span class=\"toc-item-num\">2&nbsp;&nbsp;</span>Duplicates</a></span></li><li><span><a href=\"#Manual-Tasks\" data-toc-modified-id=\"Manual-Tasks-3\"><span class=\"toc-item-num\">3&nbsp;&nbsp;</span>Manual Tasks</a></span><ul class=\"toc-item\"><li><span><a href=\"#Data-Review\" data-toc-modified-id=\"Data-Review-3.1\"><span class=\"toc-item-num\">3.1&nbsp;&nbsp;</span>Data Review</a></span><ul class=\"toc-item\"><li><span><a href=\"#Visualise-Random-Samples\" data-toc-modified-id=\"Visualise-Random-Samples-3.1.1\"><span class=\"toc-item-num\">3.1.1&nbsp;&nbsp;</span>Visualise Random Samples</a></span></li><li><span><a href=\"#Validate-that-winner-price-is-always-the-smallest-price\" data-toc-modified-id=\"Validate-that-winner-price-is-always-the-smallest-price-3.1.2\"><span class=\"toc-item-num\">3.1.2&nbsp;&nbsp;</span>Validate that winner price is always the smallest price</a></span></li></ul></li><li><span><a href=\"#Feature-Understanding\" data-toc-modified-id=\"Feature-Understanding-3.2\"><span class=\"toc-item-num\">3.2&nbsp;&nbsp;</span>Feature Understanding</a></span></li><li><span><a href=\"#Business-Rules-Validation:\" data-toc-modified-id=\"Business-Rules-Validation:-3.3\"><span class=\"toc-item-num\">3.3&nbsp;&nbsp;</span>Business Rules Validation:</a></span></li></ul></li><li><span><a href=\"#Long-Term-Improvements-and-Roadmap\" data-toc-modified-id=\"Long-Term-Improvements-and-Roadmap-4\"><span class=\"toc-item-num\">4&nbsp;&nbsp;</span>Long Term Improvements and Roadmap</a></span></li><li><span><a href=\"#Scaling-the-Process\" data-toc-modified-id=\"Scaling-the-Process-5\"><span class=\"toc-item-num\">5&nbsp;&nbsp;</span>Scaling the Process</a></span></li></ul></div>"
   ]
  },
  {
   "cell_type": "code",
   "execution_count": 1,
   "metadata": {},
   "outputs": [],
   "source": [
    "# Import libraries\n",
    "import pandas as pd\n",
    "import numpy as np\n",
    "import plotly.express as px\n",
    "import matplotlib.pyplot as plt\n",
    "\n",
    "from Data_Type import Data_Type\n",
    "from Data_Validation import Data_Validation\n",
    "from Detect_Outliers import Detect_Outliers\n",
    "from Missing_Values import Missing_Values"
   ]
  },
  {
   "cell_type": "code",
   "execution_count": 2,
   "metadata": {},
   "outputs": [],
   "source": [
    "# Set default options\n",
    "\n",
    "# Allow to display all columns of a dataframe\n",
    "pd.set_option('display.max_columns', None)"
   ]
  },
  {
   "cell_type": "markdown",
   "metadata": {},
   "source": [
    "# Automated Approches for Data Cleansing of \"winner_price\" (Target)\n",
    "\n",
    "1. Data Type Verification: Ensure that all entries in \"winner_price\" are of the correct data type (e.g number data type). Automated scripts can conver or reject incorrect data types. \n",
    "\n",
    "2. Data Validation: Check for any values that don't make sense, such as negative prices, extremely high values unlikely to be true, or zero (unless zero can be a valid transaction price). This can be automated using conditional checks in the data processing pipeline. \n",
    "\n",
    "3. Detecting Outliers: Outliers can significantly affect the performance of machine learning models. Automated techniques like interquartile range, Z-score, or machine learning based methods can be employed to detect anomalous values in the winner_price\n",
    "\n",
    "4. Handling Missing Data: Depending on the context and the amount of missing data, we can either impute missing values using statistical methods (mean, median, mode) or model-based imputation, or simply remove records with missing \"winner_price\"\n",
    "\n",
    "5. Handling Duplicates: Depending on the context and the amount of duplicates, we can either automate the process of dropping duplicates from our data or keep it. However, as contract_id is a unique identifier, we should not have two records with the same contract id\n",
    "\n",
    "5. Standardization: If prices are in different currencies or need to be adjusted for inflation, standardization or normalization techniques can be applied automatically.\n"
   ]
  },
  {
   "cell_type": "markdown",
   "metadata": {},
   "source": [
    "## Data Type Verification\n",
    "\n",
    "We need to identify if we have an accepted data type for \"winner_price\"\n",
    "\n",
    "Winner price should be on numerical type."
   ]
  },
  {
   "cell_type": "code",
   "execution_count": 3,
   "metadata": {},
   "outputs": [
    {
     "data": {
      "text/html": [
       "<div>\n",
       "<style scoped>\n",
       "    .dataframe tbody tr th:only-of-type {\n",
       "        vertical-align: middle;\n",
       "    }\n",
       "\n",
       "    .dataframe tbody tr th {\n",
       "        vertical-align: top;\n",
       "    }\n",
       "\n",
       "    .dataframe thead th {\n",
       "        text-align: right;\n",
       "    }\n",
       "</style>\n",
       "<table border=\"1\" class=\"dataframe\">\n",
       "  <thead>\n",
       "    <tr style=\"text-align: right;\">\n",
       "      <th></th>\n",
       "      <th>contract_id</th>\n",
       "      <th>published_date</th>\n",
       "      <th>start_date</th>\n",
       "      <th>duration_extension</th>\n",
       "      <th>outcome</th>\n",
       "      <th>second_place_outcome</th>\n",
       "      <th>buyer</th>\n",
       "      <th>region</th>\n",
       "      <th>atc</th>\n",
       "      <th>duration</th>\n",
       "      <th>contract_type</th>\n",
       "      <th>sku</th>\n",
       "      <th>end_date_extension</th>\n",
       "      <th>participants_no</th>\n",
       "      <th>quantity_annual</th>\n",
       "      <th>quantity_total</th>\n",
       "      <th>maximum_price_allowed</th>\n",
       "      <th>active_ingredient</th>\n",
       "      <th>pack_strength</th>\n",
       "      <th>participants</th>\n",
       "      <th>participants_price</th>\n",
       "      <th>published_date_month</th>\n",
       "      <th>winner</th>\n",
       "      <th>winner_price</th>\n",
       "      <th>second_place</th>\n",
       "      <th>second_place_price</th>\n",
       "    </tr>\n",
       "  </thead>\n",
       "  <tbody>\n",
       "    <tr>\n",
       "      <th>0</th>\n",
       "      <td>1</td>\n",
       "      <td>2013-05-16</td>\n",
       "      <td>2013-05-24</td>\n",
       "      <td>10</td>\n",
       "      <td>won</td>\n",
       "      <td>NaN</td>\n",
       "      <td>buyer_1</td>\n",
       "      <td>region_1</td>\n",
       "      <td>C07AB07</td>\n",
       "      <td>39</td>\n",
       "      <td>regional</td>\n",
       "      <td>molecule_x_10mg_tablet</td>\n",
       "      <td>2017-06-30</td>\n",
       "      <td>1</td>\n",
       "      <td>9860</td>\n",
       "      <td>32966.511085</td>\n",
       "      <td>0.10000</td>\n",
       "      <td>molecule_x</td>\n",
       "      <td>10mg</td>\n",
       "      <td>participants_16</td>\n",
       "      <td>0.0004</td>\n",
       "      <td>2013-05-01</td>\n",
       "      <td>participants_16</td>\n",
       "      <td>0.00040</td>\n",
       "      <td>NaN</td>\n",
       "      <td>NaN</td>\n",
       "    </tr>\n",
       "    <tr>\n",
       "      <th>1</th>\n",
       "      <td>2</td>\n",
       "      <td>2013-04-29</td>\n",
       "      <td>2013-06-21</td>\n",
       "      <td>0</td>\n",
       "      <td>won</td>\n",
       "      <td>NaN</td>\n",
       "      <td>buyer_2</td>\n",
       "      <td>region_2</td>\n",
       "      <td>C07AB07</td>\n",
       "      <td>48</td>\n",
       "      <td>wide area</td>\n",
       "      <td>molecule_x_10mg_tablet</td>\n",
       "      <td>2017-06-30</td>\n",
       "      <td>1</td>\n",
       "      <td>54988</td>\n",
       "      <td>220249.442660</td>\n",
       "      <td>63442.21000</td>\n",
       "      <td>molecule_x</td>\n",
       "      <td>10mg</td>\n",
       "      <td>participants_16</td>\n",
       "      <td>0.007</td>\n",
       "      <td>2013-04-01</td>\n",
       "      <td>participants_16</td>\n",
       "      <td>0.00700</td>\n",
       "      <td>NaN</td>\n",
       "      <td>NaN</td>\n",
       "    </tr>\n",
       "    <tr>\n",
       "      <th>2</th>\n",
       "      <td>3</td>\n",
       "      <td>2013-06-09</td>\n",
       "      <td>2014-08-14</td>\n",
       "      <td>6</td>\n",
       "      <td>won</td>\n",
       "      <td>lost</td>\n",
       "      <td>buyer_3</td>\n",
       "      <td>region_3</td>\n",
       "      <td>C07AB07</td>\n",
       "      <td>12</td>\n",
       "      <td>regional</td>\n",
       "      <td>molecule_x_10mg_tablet</td>\n",
       "      <td>2016-02-14</td>\n",
       "      <td>2</td>\n",
       "      <td>1904</td>\n",
       "      <td>2680.639219</td>\n",
       "      <td>0.11635</td>\n",
       "      <td>molecule_x</td>\n",
       "      <td>10mg</td>\n",
       "      <td>participants_16|participants_23</td>\n",
       "      <td>0.014|0.07071</td>\n",
       "      <td>2013-06-01</td>\n",
       "      <td>participants_16</td>\n",
       "      <td>0.01400</td>\n",
       "      <td>participants_23</td>\n",
       "      <td>0.07071</td>\n",
       "    </tr>\n",
       "    <tr>\n",
       "      <th>3</th>\n",
       "      <td>4</td>\n",
       "      <td>2013-05-04</td>\n",
       "      <td>2013-05-17</td>\n",
       "      <td>19</td>\n",
       "      <td>won</td>\n",
       "      <td>NaN</td>\n",
       "      <td>buyer_4</td>\n",
       "      <td>region_4</td>\n",
       "      <td>C07AB07</td>\n",
       "      <td>36</td>\n",
       "      <td>regional</td>\n",
       "      <td>molecule_x_10mg_tablet</td>\n",
       "      <td>2017-12-31</td>\n",
       "      <td>1</td>\n",
       "      <td>1652</td>\n",
       "      <td>5900.676494</td>\n",
       "      <td>0.03000</td>\n",
       "      <td>molecule_x</td>\n",
       "      <td>10mg</td>\n",
       "      <td>participants_16</td>\n",
       "      <td>0.025</td>\n",
       "      <td>2013-05-01</td>\n",
       "      <td>participants_16</td>\n",
       "      <td>0.02500</td>\n",
       "      <td>NaN</td>\n",
       "      <td>NaN</td>\n",
       "    </tr>\n",
       "    <tr>\n",
       "      <th>4</th>\n",
       "      <td>5</td>\n",
       "      <td>2013-12-18</td>\n",
       "      <td>2013-12-17</td>\n",
       "      <td>6</td>\n",
       "      <td>won</td>\n",
       "      <td>NaN</td>\n",
       "      <td>buyer_5</td>\n",
       "      <td>region_5</td>\n",
       "      <td>C07AB07</td>\n",
       "      <td>36</td>\n",
       "      <td>regional</td>\n",
       "      <td>molecule_x_10mg_tablet</td>\n",
       "      <td>2017-06-30</td>\n",
       "      <td>1</td>\n",
       "      <td>1000</td>\n",
       "      <td>3289.223410</td>\n",
       "      <td>0.00010</td>\n",
       "      <td>molecule_x</td>\n",
       "      <td>10mg</td>\n",
       "      <td>participants_16</td>\n",
       "      <td>1e-05</td>\n",
       "      <td>2013-12-01</td>\n",
       "      <td>participants_16</td>\n",
       "      <td>0.00001</td>\n",
       "      <td>NaN</td>\n",
       "      <td>NaN</td>\n",
       "    </tr>\n",
       "  </tbody>\n",
       "</table>\n",
       "</div>"
      ],
      "text/plain": [
       "   contract_id published_date  start_date  duration_extension outcome  \\\n",
       "0            1     2013-05-16  2013-05-24                  10     won   \n",
       "1            2     2013-04-29  2013-06-21                   0     won   \n",
       "2            3     2013-06-09  2014-08-14                   6     won   \n",
       "3            4     2013-05-04  2013-05-17                  19     won   \n",
       "4            5     2013-12-18  2013-12-17                   6     won   \n",
       "\n",
       "  second_place_outcome    buyer    region      atc  duration contract_type  \\\n",
       "0                  NaN  buyer_1  region_1  C07AB07        39      regional   \n",
       "1                  NaN  buyer_2  region_2  C07AB07        48     wide area   \n",
       "2                 lost  buyer_3  region_3  C07AB07        12      regional   \n",
       "3                  NaN  buyer_4  region_4  C07AB07        36      regional   \n",
       "4                  NaN  buyer_5  region_5  C07AB07        36      regional   \n",
       "\n",
       "                      sku end_date_extension  participants_no  \\\n",
       "0  molecule_x_10mg_tablet         2017-06-30                1   \n",
       "1  molecule_x_10mg_tablet         2017-06-30                1   \n",
       "2  molecule_x_10mg_tablet         2016-02-14                2   \n",
       "3  molecule_x_10mg_tablet         2017-12-31                1   \n",
       "4  molecule_x_10mg_tablet         2017-06-30                1   \n",
       "\n",
       "   quantity_annual  quantity_total  maximum_price_allowed active_ingredient  \\\n",
       "0             9860    32966.511085                0.10000        molecule_x   \n",
       "1            54988   220249.442660            63442.21000        molecule_x   \n",
       "2             1904     2680.639219                0.11635        molecule_x   \n",
       "3             1652     5900.676494                0.03000        molecule_x   \n",
       "4             1000     3289.223410                0.00010        molecule_x   \n",
       "\n",
       "  pack_strength                     participants participants_price  \\\n",
       "0          10mg                  participants_16             0.0004   \n",
       "1          10mg                  participants_16              0.007   \n",
       "2          10mg  participants_16|participants_23      0.014|0.07071   \n",
       "3          10mg                  participants_16              0.025   \n",
       "4          10mg                  participants_16              1e-05   \n",
       "\n",
       "  published_date_month           winner  winner_price     second_place  \\\n",
       "0           2013-05-01  participants_16       0.00040              NaN   \n",
       "1           2013-04-01  participants_16       0.00700              NaN   \n",
       "2           2013-06-01  participants_16       0.01400  participants_23   \n",
       "3           2013-05-01  participants_16       0.02500              NaN   \n",
       "4           2013-12-01  participants_16       0.00001              NaN   \n",
       "\n",
       "   second_place_price  \n",
       "0                 NaN  \n",
       "1                 NaN  \n",
       "2             0.07071  \n",
       "3                 NaN  \n",
       "4                 NaN  "
      ]
     },
     "execution_count": 3,
     "metadata": {},
     "output_type": "execute_result"
    }
   ],
   "source": [
    "# load the dataset\n",
    "df = pd.read_csv(\"vamstar.tsv\" , sep = '\\t')\n",
    "df.head()"
   ]
  },
  {
   "cell_type": "code",
   "execution_count": 4,
   "metadata": {},
   "outputs": [
    {
     "name": "stdout",
     "output_type": "stream",
     "text": [
      "<class 'pandas.core.frame.DataFrame'>\n",
      "RangeIndex: 31 entries, 0 to 30\n",
      "Data columns (total 26 columns):\n",
      " #   Column                 Non-Null Count  Dtype  \n",
      "---  ------                 --------------  -----  \n",
      " 0   contract_id            31 non-null     int64  \n",
      " 1   published_date         31 non-null     object \n",
      " 2   start_date             31 non-null     object \n",
      " 3   duration_extension     31 non-null     int64  \n",
      " 4   outcome                31 non-null     object \n",
      " 5   second_place_outcome   15 non-null     object \n",
      " 6   buyer                  31 non-null     object \n",
      " 7   region                 31 non-null     object \n",
      " 8   atc                    30 non-null     object \n",
      " 9   duration               31 non-null     int64  \n",
      " 10  contract_type          31 non-null     object \n",
      " 11  sku                    31 non-null     object \n",
      " 12  end_date_extension     31 non-null     object \n",
      " 13  participants_no        31 non-null     int64  \n",
      " 14  quantity_annual        31 non-null     int64  \n",
      " 15  quantity_total         31 non-null     float64\n",
      " 16  maximum_price_allowed  31 non-null     float64\n",
      " 17  active_ingredient      31 non-null     object \n",
      " 18  pack_strength          31 non-null     object \n",
      " 19  participants           31 non-null     object \n",
      " 20  participants_price     31 non-null     object \n",
      " 21  published_date_month   31 non-null     object \n",
      " 22  winner                 31 non-null     object \n",
      " 23  winner_price           31 non-null     float64\n",
      " 24  second_place           15 non-null     object \n",
      " 25  second_place_price     15 non-null     float64\n",
      "dtypes: float64(4), int64(5), object(17)\n",
      "memory usage: 6.4+ KB\n"
     ]
    }
   ],
   "source": [
    "# call  info() on the data frame\n",
    "df.info()"
   ]
  },
  {
   "cell_type": "markdown",
   "metadata": {},
   "source": [
    "We can see that the dtype for winner price is already of numeric nature (float64). In this case there is no need to change it.\n",
    "\n",
    "However, since nan and inf are considered as float. For this, we created a Python module (Data_Type) that allows us to check type of certain columns based on a prespecified data type, change a data type of a column, and change inf values for nan values.\n",
    "\n",
    "In the example below we will implement our on duration which takes an int64 type and convert it to float64  \n"
   ]
  },
  {
   "cell_type": "code",
   "execution_count": 5,
   "metadata": {},
   "outputs": [
    {
     "data": {
      "text/plain": [
       "False"
      ]
     },
     "execution_count": 5,
     "metadata": {},
     "output_type": "execute_result"
    }
   ],
   "source": [
    "# Create a Data_Type instance\n",
    "duration_data_type = Data_Type(df = df)\n",
    "\n",
    "# check data type for duration by calling the check_data_type method\n",
    "duration_data_type.check_data_type('duration', 'float64')"
   ]
  },
  {
   "cell_type": "code",
   "execution_count": 6,
   "metadata": {},
   "outputs": [
    {
     "data": {
      "text/plain": [
       "dtype('float64')"
      ]
     },
     "execution_count": 6,
     "metadata": {},
     "output_type": "execute_result"
    }
   ],
   "source": [
    "# Change data type of duration by calling change_data_type method\n",
    "duration_data_type.change_data_type('float64')"
   ]
  },
  {
   "cell_type": "code",
   "execution_count": 7,
   "metadata": {},
   "outputs": [
    {
     "data": {
      "text/html": [
       "<div>\n",
       "<style scoped>\n",
       "    .dataframe tbody tr th:only-of-type {\n",
       "        vertical-align: middle;\n",
       "    }\n",
       "\n",
       "    .dataframe tbody tr th {\n",
       "        vertical-align: top;\n",
       "    }\n",
       "\n",
       "    .dataframe thead th {\n",
       "        text-align: right;\n",
       "    }\n",
       "</style>\n",
       "<table border=\"1\" class=\"dataframe\">\n",
       "  <thead>\n",
       "    <tr style=\"text-align: right;\">\n",
       "      <th></th>\n",
       "      <th>contract_id</th>\n",
       "      <th>published_date</th>\n",
       "      <th>start_date</th>\n",
       "      <th>duration_extension</th>\n",
       "      <th>outcome</th>\n",
       "      <th>second_place_outcome</th>\n",
       "      <th>buyer</th>\n",
       "      <th>region</th>\n",
       "      <th>atc</th>\n",
       "      <th>duration</th>\n",
       "      <th>contract_type</th>\n",
       "      <th>sku</th>\n",
       "      <th>end_date_extension</th>\n",
       "      <th>participants_no</th>\n",
       "      <th>quantity_annual</th>\n",
       "      <th>quantity_total</th>\n",
       "      <th>maximum_price_allowed</th>\n",
       "      <th>active_ingredient</th>\n",
       "      <th>pack_strength</th>\n",
       "      <th>participants</th>\n",
       "      <th>participants_price</th>\n",
       "      <th>published_date_month</th>\n",
       "      <th>winner</th>\n",
       "      <th>winner_price</th>\n",
       "      <th>second_place</th>\n",
       "      <th>second_place_price</th>\n",
       "    </tr>\n",
       "  </thead>\n",
       "  <tbody>\n",
       "    <tr>\n",
       "      <th>0</th>\n",
       "      <td>1</td>\n",
       "      <td>2013-05-16</td>\n",
       "      <td>2013-05-24</td>\n",
       "      <td>10</td>\n",
       "      <td>won</td>\n",
       "      <td>NaN</td>\n",
       "      <td>buyer_1</td>\n",
       "      <td>region_1</td>\n",
       "      <td>C07AB07</td>\n",
       "      <td>39.0</td>\n",
       "      <td>regional</td>\n",
       "      <td>molecule_x_10mg_tablet</td>\n",
       "      <td>2017-06-30</td>\n",
       "      <td>1</td>\n",
       "      <td>9860</td>\n",
       "      <td>32966.511085</td>\n",
       "      <td>0.10000</td>\n",
       "      <td>molecule_x</td>\n",
       "      <td>10mg</td>\n",
       "      <td>participants_16</td>\n",
       "      <td>0.0004</td>\n",
       "      <td>2013-05-01</td>\n",
       "      <td>participants_16</td>\n",
       "      <td>0.00040</td>\n",
       "      <td>NaN</td>\n",
       "      <td>NaN</td>\n",
       "    </tr>\n",
       "    <tr>\n",
       "      <th>1</th>\n",
       "      <td>2</td>\n",
       "      <td>2013-04-29</td>\n",
       "      <td>2013-06-21</td>\n",
       "      <td>0</td>\n",
       "      <td>won</td>\n",
       "      <td>NaN</td>\n",
       "      <td>buyer_2</td>\n",
       "      <td>region_2</td>\n",
       "      <td>C07AB07</td>\n",
       "      <td>48.0</td>\n",
       "      <td>wide area</td>\n",
       "      <td>molecule_x_10mg_tablet</td>\n",
       "      <td>2017-06-30</td>\n",
       "      <td>1</td>\n",
       "      <td>54988</td>\n",
       "      <td>220249.442660</td>\n",
       "      <td>63442.21000</td>\n",
       "      <td>molecule_x</td>\n",
       "      <td>10mg</td>\n",
       "      <td>participants_16</td>\n",
       "      <td>0.007</td>\n",
       "      <td>2013-04-01</td>\n",
       "      <td>participants_16</td>\n",
       "      <td>0.00700</td>\n",
       "      <td>NaN</td>\n",
       "      <td>NaN</td>\n",
       "    </tr>\n",
       "    <tr>\n",
       "      <th>2</th>\n",
       "      <td>3</td>\n",
       "      <td>2013-06-09</td>\n",
       "      <td>2014-08-14</td>\n",
       "      <td>6</td>\n",
       "      <td>won</td>\n",
       "      <td>lost</td>\n",
       "      <td>buyer_3</td>\n",
       "      <td>region_3</td>\n",
       "      <td>C07AB07</td>\n",
       "      <td>12.0</td>\n",
       "      <td>regional</td>\n",
       "      <td>molecule_x_10mg_tablet</td>\n",
       "      <td>2016-02-14</td>\n",
       "      <td>2</td>\n",
       "      <td>1904</td>\n",
       "      <td>2680.639219</td>\n",
       "      <td>0.11635</td>\n",
       "      <td>molecule_x</td>\n",
       "      <td>10mg</td>\n",
       "      <td>participants_16|participants_23</td>\n",
       "      <td>0.014|0.07071</td>\n",
       "      <td>2013-06-01</td>\n",
       "      <td>participants_16</td>\n",
       "      <td>0.01400</td>\n",
       "      <td>participants_23</td>\n",
       "      <td>0.07071</td>\n",
       "    </tr>\n",
       "    <tr>\n",
       "      <th>3</th>\n",
       "      <td>4</td>\n",
       "      <td>2013-05-04</td>\n",
       "      <td>2013-05-17</td>\n",
       "      <td>19</td>\n",
       "      <td>won</td>\n",
       "      <td>NaN</td>\n",
       "      <td>buyer_4</td>\n",
       "      <td>region_4</td>\n",
       "      <td>C07AB07</td>\n",
       "      <td>36.0</td>\n",
       "      <td>regional</td>\n",
       "      <td>molecule_x_10mg_tablet</td>\n",
       "      <td>2017-12-31</td>\n",
       "      <td>1</td>\n",
       "      <td>1652</td>\n",
       "      <td>5900.676494</td>\n",
       "      <td>0.03000</td>\n",
       "      <td>molecule_x</td>\n",
       "      <td>10mg</td>\n",
       "      <td>participants_16</td>\n",
       "      <td>0.025</td>\n",
       "      <td>2013-05-01</td>\n",
       "      <td>participants_16</td>\n",
       "      <td>0.02500</td>\n",
       "      <td>NaN</td>\n",
       "      <td>NaN</td>\n",
       "    </tr>\n",
       "    <tr>\n",
       "      <th>4</th>\n",
       "      <td>5</td>\n",
       "      <td>2013-12-18</td>\n",
       "      <td>2013-12-17</td>\n",
       "      <td>6</td>\n",
       "      <td>won</td>\n",
       "      <td>NaN</td>\n",
       "      <td>buyer_5</td>\n",
       "      <td>region_5</td>\n",
       "      <td>C07AB07</td>\n",
       "      <td>36.0</td>\n",
       "      <td>regional</td>\n",
       "      <td>molecule_x_10mg_tablet</td>\n",
       "      <td>2017-06-30</td>\n",
       "      <td>1</td>\n",
       "      <td>1000</td>\n",
       "      <td>3289.223410</td>\n",
       "      <td>0.00010</td>\n",
       "      <td>molecule_x</td>\n",
       "      <td>10mg</td>\n",
       "      <td>participants_16</td>\n",
       "      <td>1e-05</td>\n",
       "      <td>2013-12-01</td>\n",
       "      <td>participants_16</td>\n",
       "      <td>0.00001</td>\n",
       "      <td>NaN</td>\n",
       "      <td>NaN</td>\n",
       "    </tr>\n",
       "  </tbody>\n",
       "</table>\n",
       "</div>"
      ],
      "text/plain": [
       "   contract_id published_date  start_date  duration_extension outcome  \\\n",
       "0            1     2013-05-16  2013-05-24                  10     won   \n",
       "1            2     2013-04-29  2013-06-21                   0     won   \n",
       "2            3     2013-06-09  2014-08-14                   6     won   \n",
       "3            4     2013-05-04  2013-05-17                  19     won   \n",
       "4            5     2013-12-18  2013-12-17                   6     won   \n",
       "\n",
       "  second_place_outcome    buyer    region      atc  duration contract_type  \\\n",
       "0                  NaN  buyer_1  region_1  C07AB07      39.0      regional   \n",
       "1                  NaN  buyer_2  region_2  C07AB07      48.0     wide area   \n",
       "2                 lost  buyer_3  region_3  C07AB07      12.0      regional   \n",
       "3                  NaN  buyer_4  region_4  C07AB07      36.0      regional   \n",
       "4                  NaN  buyer_5  region_5  C07AB07      36.0      regional   \n",
       "\n",
       "                      sku end_date_extension  participants_no  \\\n",
       "0  molecule_x_10mg_tablet         2017-06-30                1   \n",
       "1  molecule_x_10mg_tablet         2017-06-30                1   \n",
       "2  molecule_x_10mg_tablet         2016-02-14                2   \n",
       "3  molecule_x_10mg_tablet         2017-12-31                1   \n",
       "4  molecule_x_10mg_tablet         2017-06-30                1   \n",
       "\n",
       "   quantity_annual  quantity_total  maximum_price_allowed active_ingredient  \\\n",
       "0             9860    32966.511085                0.10000        molecule_x   \n",
       "1            54988   220249.442660            63442.21000        molecule_x   \n",
       "2             1904     2680.639219                0.11635        molecule_x   \n",
       "3             1652     5900.676494                0.03000        molecule_x   \n",
       "4             1000     3289.223410                0.00010        molecule_x   \n",
       "\n",
       "  pack_strength                     participants participants_price  \\\n",
       "0          10mg                  participants_16             0.0004   \n",
       "1          10mg                  participants_16              0.007   \n",
       "2          10mg  participants_16|participants_23      0.014|0.07071   \n",
       "3          10mg                  participants_16              0.025   \n",
       "4          10mg                  participants_16              1e-05   \n",
       "\n",
       "  published_date_month           winner  winner_price     second_place  \\\n",
       "0           2013-05-01  participants_16       0.00040              NaN   \n",
       "1           2013-04-01  participants_16       0.00700              NaN   \n",
       "2           2013-06-01  participants_16       0.01400  participants_23   \n",
       "3           2013-05-01  participants_16       0.02500              NaN   \n",
       "4           2013-12-01  participants_16       0.00001              NaN   \n",
       "\n",
       "   second_place_price  \n",
       "0                 NaN  \n",
       "1                 NaN  \n",
       "2             0.07071  \n",
       "3                 NaN  \n",
       "4                 NaN  "
      ]
     },
     "execution_count": 7,
     "metadata": {},
     "output_type": "execute_result"
    }
   ],
   "source": [
    "# change inf values to nan values by calling the change_inf_values method\n",
    "df = duration_data_type.change_inf_values()\n",
    "df.head()"
   ]
  },
  {
   "cell_type": "markdown",
   "metadata": {},
   "source": [
    "After finishing with numerical variables, we can notice that date fields are of string type. \n",
    "\n",
    "We will convert those to datetime "
   ]
  },
  {
   "cell_type": "code",
   "execution_count": 8,
   "metadata": {},
   "outputs": [
    {
     "data": {
      "text/html": [
       "<div>\n",
       "<style scoped>\n",
       "    .dataframe tbody tr th:only-of-type {\n",
       "        vertical-align: middle;\n",
       "    }\n",
       "\n",
       "    .dataframe tbody tr th {\n",
       "        vertical-align: top;\n",
       "    }\n",
       "\n",
       "    .dataframe thead th {\n",
       "        text-align: right;\n",
       "    }\n",
       "</style>\n",
       "<table border=\"1\" class=\"dataframe\">\n",
       "  <thead>\n",
       "    <tr style=\"text-align: right;\">\n",
       "      <th></th>\n",
       "      <th>contract_id</th>\n",
       "      <th>published_date</th>\n",
       "      <th>start_date</th>\n",
       "      <th>duration_extension</th>\n",
       "      <th>outcome</th>\n",
       "      <th>second_place_outcome</th>\n",
       "      <th>buyer</th>\n",
       "      <th>region</th>\n",
       "      <th>atc</th>\n",
       "      <th>duration</th>\n",
       "      <th>contract_type</th>\n",
       "      <th>sku</th>\n",
       "      <th>end_date_extension</th>\n",
       "      <th>participants_no</th>\n",
       "      <th>quantity_annual</th>\n",
       "      <th>quantity_total</th>\n",
       "      <th>maximum_price_allowed</th>\n",
       "      <th>active_ingredient</th>\n",
       "      <th>pack_strength</th>\n",
       "      <th>participants</th>\n",
       "      <th>participants_price</th>\n",
       "      <th>published_date_month</th>\n",
       "      <th>winner</th>\n",
       "      <th>winner_price</th>\n",
       "      <th>second_place</th>\n",
       "      <th>second_place_price</th>\n",
       "    </tr>\n",
       "  </thead>\n",
       "  <tbody>\n",
       "    <tr>\n",
       "      <th>0</th>\n",
       "      <td>1</td>\n",
       "      <td>2013-05-16</td>\n",
       "      <td>2013-05-24</td>\n",
       "      <td>10</td>\n",
       "      <td>won</td>\n",
       "      <td>NaN</td>\n",
       "      <td>buyer_1</td>\n",
       "      <td>region_1</td>\n",
       "      <td>C07AB07</td>\n",
       "      <td>39.0</td>\n",
       "      <td>regional</td>\n",
       "      <td>molecule_x_10mg_tablet</td>\n",
       "      <td>2017-06-30</td>\n",
       "      <td>1</td>\n",
       "      <td>9860</td>\n",
       "      <td>32966.511085</td>\n",
       "      <td>0.10000</td>\n",
       "      <td>molecule_x</td>\n",
       "      <td>10mg</td>\n",
       "      <td>participants_16</td>\n",
       "      <td>0.0004</td>\n",
       "      <td>2013-05-01</td>\n",
       "      <td>participants_16</td>\n",
       "      <td>0.00040</td>\n",
       "      <td>NaN</td>\n",
       "      <td>NaN</td>\n",
       "    </tr>\n",
       "    <tr>\n",
       "      <th>1</th>\n",
       "      <td>2</td>\n",
       "      <td>2013-04-29</td>\n",
       "      <td>2013-06-21</td>\n",
       "      <td>0</td>\n",
       "      <td>won</td>\n",
       "      <td>NaN</td>\n",
       "      <td>buyer_2</td>\n",
       "      <td>region_2</td>\n",
       "      <td>C07AB07</td>\n",
       "      <td>48.0</td>\n",
       "      <td>wide area</td>\n",
       "      <td>molecule_x_10mg_tablet</td>\n",
       "      <td>2017-06-30</td>\n",
       "      <td>1</td>\n",
       "      <td>54988</td>\n",
       "      <td>220249.442660</td>\n",
       "      <td>63442.21000</td>\n",
       "      <td>molecule_x</td>\n",
       "      <td>10mg</td>\n",
       "      <td>participants_16</td>\n",
       "      <td>0.007</td>\n",
       "      <td>2013-04-01</td>\n",
       "      <td>participants_16</td>\n",
       "      <td>0.00700</td>\n",
       "      <td>NaN</td>\n",
       "      <td>NaN</td>\n",
       "    </tr>\n",
       "    <tr>\n",
       "      <th>2</th>\n",
       "      <td>3</td>\n",
       "      <td>2013-06-09</td>\n",
       "      <td>2014-08-14</td>\n",
       "      <td>6</td>\n",
       "      <td>won</td>\n",
       "      <td>lost</td>\n",
       "      <td>buyer_3</td>\n",
       "      <td>region_3</td>\n",
       "      <td>C07AB07</td>\n",
       "      <td>12.0</td>\n",
       "      <td>regional</td>\n",
       "      <td>molecule_x_10mg_tablet</td>\n",
       "      <td>2016-02-14</td>\n",
       "      <td>2</td>\n",
       "      <td>1904</td>\n",
       "      <td>2680.639219</td>\n",
       "      <td>0.11635</td>\n",
       "      <td>molecule_x</td>\n",
       "      <td>10mg</td>\n",
       "      <td>participants_16|participants_23</td>\n",
       "      <td>0.014|0.07071</td>\n",
       "      <td>2013-06-01</td>\n",
       "      <td>participants_16</td>\n",
       "      <td>0.01400</td>\n",
       "      <td>participants_23</td>\n",
       "      <td>0.07071</td>\n",
       "    </tr>\n",
       "    <tr>\n",
       "      <th>3</th>\n",
       "      <td>4</td>\n",
       "      <td>2013-05-04</td>\n",
       "      <td>2013-05-17</td>\n",
       "      <td>19</td>\n",
       "      <td>won</td>\n",
       "      <td>NaN</td>\n",
       "      <td>buyer_4</td>\n",
       "      <td>region_4</td>\n",
       "      <td>C07AB07</td>\n",
       "      <td>36.0</td>\n",
       "      <td>regional</td>\n",
       "      <td>molecule_x_10mg_tablet</td>\n",
       "      <td>2017-12-31</td>\n",
       "      <td>1</td>\n",
       "      <td>1652</td>\n",
       "      <td>5900.676494</td>\n",
       "      <td>0.03000</td>\n",
       "      <td>molecule_x</td>\n",
       "      <td>10mg</td>\n",
       "      <td>participants_16</td>\n",
       "      <td>0.025</td>\n",
       "      <td>2013-05-01</td>\n",
       "      <td>participants_16</td>\n",
       "      <td>0.02500</td>\n",
       "      <td>NaN</td>\n",
       "      <td>NaN</td>\n",
       "    </tr>\n",
       "    <tr>\n",
       "      <th>4</th>\n",
       "      <td>5</td>\n",
       "      <td>2013-12-18</td>\n",
       "      <td>2013-12-17</td>\n",
       "      <td>6</td>\n",
       "      <td>won</td>\n",
       "      <td>NaN</td>\n",
       "      <td>buyer_5</td>\n",
       "      <td>region_5</td>\n",
       "      <td>C07AB07</td>\n",
       "      <td>36.0</td>\n",
       "      <td>regional</td>\n",
       "      <td>molecule_x_10mg_tablet</td>\n",
       "      <td>2017-06-30</td>\n",
       "      <td>1</td>\n",
       "      <td>1000</td>\n",
       "      <td>3289.223410</td>\n",
       "      <td>0.00010</td>\n",
       "      <td>molecule_x</td>\n",
       "      <td>10mg</td>\n",
       "      <td>participants_16</td>\n",
       "      <td>1e-05</td>\n",
       "      <td>2013-12-01</td>\n",
       "      <td>participants_16</td>\n",
       "      <td>0.00001</td>\n",
       "      <td>NaN</td>\n",
       "      <td>NaN</td>\n",
       "    </tr>\n",
       "  </tbody>\n",
       "</table>\n",
       "</div>"
      ],
      "text/plain": [
       "   contract_id published_date start_date  duration_extension outcome  \\\n",
       "0            1     2013-05-16 2013-05-24                  10     won   \n",
       "1            2     2013-04-29 2013-06-21                   0     won   \n",
       "2            3     2013-06-09 2014-08-14                   6     won   \n",
       "3            4     2013-05-04 2013-05-17                  19     won   \n",
       "4            5     2013-12-18 2013-12-17                   6     won   \n",
       "\n",
       "  second_place_outcome    buyer    region      atc  duration contract_type  \\\n",
       "0                  NaN  buyer_1  region_1  C07AB07      39.0      regional   \n",
       "1                  NaN  buyer_2  region_2  C07AB07      48.0     wide area   \n",
       "2                 lost  buyer_3  region_3  C07AB07      12.0      regional   \n",
       "3                  NaN  buyer_4  region_4  C07AB07      36.0      regional   \n",
       "4                  NaN  buyer_5  region_5  C07AB07      36.0      regional   \n",
       "\n",
       "                      sku end_date_extension  participants_no  \\\n",
       "0  molecule_x_10mg_tablet         2017-06-30                1   \n",
       "1  molecule_x_10mg_tablet         2017-06-30                1   \n",
       "2  molecule_x_10mg_tablet         2016-02-14                2   \n",
       "3  molecule_x_10mg_tablet         2017-12-31                1   \n",
       "4  molecule_x_10mg_tablet         2017-06-30                1   \n",
       "\n",
       "   quantity_annual  quantity_total  maximum_price_allowed active_ingredient  \\\n",
       "0             9860    32966.511085                0.10000        molecule_x   \n",
       "1            54988   220249.442660            63442.21000        molecule_x   \n",
       "2             1904     2680.639219                0.11635        molecule_x   \n",
       "3             1652     5900.676494                0.03000        molecule_x   \n",
       "4             1000     3289.223410                0.00010        molecule_x   \n",
       "\n",
       "  pack_strength                     participants participants_price  \\\n",
       "0          10mg                  participants_16             0.0004   \n",
       "1          10mg                  participants_16              0.007   \n",
       "2          10mg  participants_16|participants_23      0.014|0.07071   \n",
       "3          10mg                  participants_16              0.025   \n",
       "4          10mg                  participants_16              1e-05   \n",
       "\n",
       "  published_date_month           winner  winner_price     second_place  \\\n",
       "0           2013-05-01  participants_16       0.00040              NaN   \n",
       "1           2013-04-01  participants_16       0.00700              NaN   \n",
       "2           2013-06-01  participants_16       0.01400  participants_23   \n",
       "3           2013-05-01  participants_16       0.02500              NaN   \n",
       "4           2013-12-01  participants_16       0.00001              NaN   \n",
       "\n",
       "   second_place_price  \n",
       "0                 NaN  \n",
       "1                 NaN  \n",
       "2             0.07071  \n",
       "3                 NaN  \n",
       "4                 NaN  "
      ]
     },
     "execution_count": 8,
     "metadata": {},
     "output_type": "execute_result"
    }
   ],
   "source": [
    "df = Data_Type(df = df).change_date_variables()\n",
    "df.head()"
   ]
  },
  {
   "cell_type": "markdown",
   "metadata": {},
   "source": [
    "## Data Validation\n",
    "\n",
    "After checking for data types, we will validate our data. \n",
    "\n",
    "In our case for winner_price we will check the following:\n",
    "\n",
    "1. If the data has negative - Convert to positive\n",
    "2. or, zero prices - Drop contracts with zero prices\n",
    "3. if winner_price is higher than maximum_price_allowed - Drop those contracts"
   ]
  },
  {
   "cell_type": "code",
   "execution_count": 9,
   "metadata": {},
   "outputs": [
    {
     "data": {
      "text/plain": [
       "'No changes'"
      ]
     },
     "execution_count": 9,
     "metadata": {},
     "output_type": "execute_result"
    }
   ],
   "source": [
    "# Change negative values for winner price\n",
    "Data_Validation(df = df).change_to_absolute('winner_price')\n"
   ]
  },
  {
   "cell_type": "code",
   "execution_count": 10,
   "metadata": {},
   "outputs": [
    {
     "name": "stdout",
     "output_type": "stream",
     "text": [
      "Number of dropped contracts with 0.000 winning price is 0\n"
     ]
    }
   ],
   "source": [
    "print(\"Number of dropped contracts with 0.000 winning price is \" + str(Data_Validation(df = df).drop_zero_winner_price('winner_price')))"
   ]
  },
  {
   "cell_type": "code",
   "execution_count": 11,
   "metadata": {},
   "outputs": [
    {
     "name": "stdout",
     "output_type": "stream",
     "text": [
      "Number of dropped contracts with win price above maximum allowed price 0\n"
     ]
    }
   ],
   "source": [
    "print(\"Number of dropped contracts with win price above maximum allowed price \" + str(Data_Validation(df = df).drop_above_maximum()))"
   ]
  },
  {
   "cell_type": "markdown",
   "metadata": {},
   "source": [
    "## Detecting Outliers\n",
    "\n",
    "Identify and handle outliers values in the target variable \"winner_price\". We'll use the IQR method to detect outliers as it's robust against very large or small numbers"
   ]
  },
  {
   "cell_type": "code",
   "execution_count": 12,
   "metadata": {},
   "outputs": [
    {
     "data": {
      "text/html": [
       "<div>\n",
       "<style scoped>\n",
       "    .dataframe tbody tr th:only-of-type {\n",
       "        vertical-align: middle;\n",
       "    }\n",
       "\n",
       "    .dataframe tbody tr th {\n",
       "        vertical-align: top;\n",
       "    }\n",
       "\n",
       "    .dataframe thead th {\n",
       "        text-align: right;\n",
       "    }\n",
       "</style>\n",
       "<table border=\"1\" class=\"dataframe\">\n",
       "  <thead>\n",
       "    <tr style=\"text-align: right;\">\n",
       "      <th></th>\n",
       "      <th>contract_id</th>\n",
       "      <th>published_date</th>\n",
       "      <th>start_date</th>\n",
       "      <th>duration_extension</th>\n",
       "      <th>outcome</th>\n",
       "      <th>second_place_outcome</th>\n",
       "      <th>buyer</th>\n",
       "      <th>region</th>\n",
       "      <th>atc</th>\n",
       "      <th>duration</th>\n",
       "      <th>contract_type</th>\n",
       "      <th>sku</th>\n",
       "      <th>end_date_extension</th>\n",
       "      <th>participants_no</th>\n",
       "      <th>quantity_annual</th>\n",
       "      <th>quantity_total</th>\n",
       "      <th>maximum_price_allowed</th>\n",
       "      <th>active_ingredient</th>\n",
       "      <th>pack_strength</th>\n",
       "      <th>participants</th>\n",
       "      <th>participants_price</th>\n",
       "      <th>published_date_month</th>\n",
       "      <th>winner</th>\n",
       "      <th>winner_price</th>\n",
       "      <th>second_place</th>\n",
       "      <th>second_place_price</th>\n",
       "    </tr>\n",
       "  </thead>\n",
       "  <tbody>\n",
       "    <tr>\n",
       "      <th>0</th>\n",
       "      <td>1</td>\n",
       "      <td>2013-05-16</td>\n",
       "      <td>2013-05-24</td>\n",
       "      <td>10</td>\n",
       "      <td>won</td>\n",
       "      <td>NaN</td>\n",
       "      <td>buyer_1</td>\n",
       "      <td>region_1</td>\n",
       "      <td>C07AB07</td>\n",
       "      <td>39.0</td>\n",
       "      <td>regional</td>\n",
       "      <td>molecule_x_10mg_tablet</td>\n",
       "      <td>2017-06-30</td>\n",
       "      <td>1</td>\n",
       "      <td>9860</td>\n",
       "      <td>3.296651e+04</td>\n",
       "      <td>0.10000</td>\n",
       "      <td>molecule_x</td>\n",
       "      <td>10mg</td>\n",
       "      <td>participants_16</td>\n",
       "      <td>0.0004</td>\n",
       "      <td>2013-05-01</td>\n",
       "      <td>participants_16</td>\n",
       "      <td>0.00040</td>\n",
       "      <td>NaN</td>\n",
       "      <td>NaN</td>\n",
       "    </tr>\n",
       "    <tr>\n",
       "      <th>1</th>\n",
       "      <td>5</td>\n",
       "      <td>2013-12-18</td>\n",
       "      <td>2013-12-17</td>\n",
       "      <td>6</td>\n",
       "      <td>won</td>\n",
       "      <td>NaN</td>\n",
       "      <td>buyer_5</td>\n",
       "      <td>region_5</td>\n",
       "      <td>C07AB07</td>\n",
       "      <td>36.0</td>\n",
       "      <td>regional</td>\n",
       "      <td>molecule_x_10mg_tablet</td>\n",
       "      <td>2017-06-30</td>\n",
       "      <td>1</td>\n",
       "      <td>1000</td>\n",
       "      <td>3.289223e+03</td>\n",
       "      <td>0.00010</td>\n",
       "      <td>molecule_x</td>\n",
       "      <td>10mg</td>\n",
       "      <td>participants_16</td>\n",
       "      <td>1e-05</td>\n",
       "      <td>2013-12-01</td>\n",
       "      <td>participants_16</td>\n",
       "      <td>0.00001</td>\n",
       "      <td>NaN</td>\n",
       "      <td>NaN</td>\n",
       "    </tr>\n",
       "    <tr>\n",
       "      <th>2</th>\n",
       "      <td>7</td>\n",
       "      <td>2014-02-24</td>\n",
       "      <td>2014-01-01</td>\n",
       "      <td>3</td>\n",
       "      <td>won</td>\n",
       "      <td>NaN</td>\n",
       "      <td>buyer_7</td>\n",
       "      <td>region_7</td>\n",
       "      <td>C07AB07</td>\n",
       "      <td>12.0</td>\n",
       "      <td>regional</td>\n",
       "      <td>molecule_x_10mg_tablet</td>\n",
       "      <td>2015-03-31</td>\n",
       "      <td>1</td>\n",
       "      <td>16490</td>\n",
       "      <td>1.728231e+04</td>\n",
       "      <td>0.00005</td>\n",
       "      <td>molecule_x</td>\n",
       "      <td>10mg</td>\n",
       "      <td>participants_16</td>\n",
       "      <td>1e-05</td>\n",
       "      <td>2014-02-01</td>\n",
       "      <td>participants_16</td>\n",
       "      <td>0.00001</td>\n",
       "      <td>NaN</td>\n",
       "      <td>NaN</td>\n",
       "    </tr>\n",
       "    <tr>\n",
       "      <th>3</th>\n",
       "      <td>9</td>\n",
       "      <td>2014-03-18</td>\n",
       "      <td>2014-05-30</td>\n",
       "      <td>6</td>\n",
       "      <td>won</td>\n",
       "      <td>NaN</td>\n",
       "      <td>buyer_9</td>\n",
       "      <td>region_9</td>\n",
       "      <td>C07AB07</td>\n",
       "      <td>24.0</td>\n",
       "      <td>regional</td>\n",
       "      <td>molecule_x_10mg_tablet</td>\n",
       "      <td>2016-11-29</td>\n",
       "      <td>1</td>\n",
       "      <td>17413</td>\n",
       "      <td>3.501392e+04</td>\n",
       "      <td>0.00010</td>\n",
       "      <td>molecule_x</td>\n",
       "      <td>10mg</td>\n",
       "      <td>participants_16</td>\n",
       "      <td>1e-05</td>\n",
       "      <td>2014-03-01</td>\n",
       "      <td>participants_16</td>\n",
       "      <td>0.00001</td>\n",
       "      <td>NaN</td>\n",
       "      <td>NaN</td>\n",
       "    </tr>\n",
       "    <tr>\n",
       "      <th>4</th>\n",
       "      <td>10</td>\n",
       "      <td>2014-09-07</td>\n",
       "      <td>2014-08-31</td>\n",
       "      <td>7</td>\n",
       "      <td>won</td>\n",
       "      <td>NaN</td>\n",
       "      <td>buyer_10</td>\n",
       "      <td>region_10</td>\n",
       "      <td>C07AB07</td>\n",
       "      <td>36.0</td>\n",
       "      <td>regional</td>\n",
       "      <td>molecule_x_10mg_tablet</td>\n",
       "      <td>2020-03-31</td>\n",
       "      <td>1</td>\n",
       "      <td>3467</td>\n",
       "      <td>1.076659e+04</td>\n",
       "      <td>0.00010</td>\n",
       "      <td>molecule_x</td>\n",
       "      <td>10mg</td>\n",
       "      <td>participants_16</td>\n",
       "      <td>0.0001</td>\n",
       "      <td>2014-09-01</td>\n",
       "      <td>participants_16</td>\n",
       "      <td>0.00010</td>\n",
       "      <td>NaN</td>\n",
       "      <td>NaN</td>\n",
       "    </tr>\n",
       "    <tr>\n",
       "      <th>5</th>\n",
       "      <td>11</td>\n",
       "      <td>2014-08-05</td>\n",
       "      <td>2014-10-30</td>\n",
       "      <td>0</td>\n",
       "      <td>won</td>\n",
       "      <td>lost</td>\n",
       "      <td>buyer_2</td>\n",
       "      <td>region_2</td>\n",
       "      <td>C07AB07</td>\n",
       "      <td>36.0</td>\n",
       "      <td>regional</td>\n",
       "      <td>molecule_x_10mg_tablet</td>\n",
       "      <td>2018-10-31</td>\n",
       "      <td>3</td>\n",
       "      <td>339387</td>\n",
       "      <td>1.018263e+06</td>\n",
       "      <td>664493.87000</td>\n",
       "      <td>molecule_x</td>\n",
       "      <td>10mg</td>\n",
       "      <td>participants_6|participants_16|participants_23</td>\n",
       "      <td>0.034|0.04305|0.04214</td>\n",
       "      <td>2014-08-01</td>\n",
       "      <td>participants_6</td>\n",
       "      <td>0.03400</td>\n",
       "      <td>participants_23</td>\n",
       "      <td>0.04214</td>\n",
       "    </tr>\n",
       "    <tr>\n",
       "      <th>6</th>\n",
       "      <td>12</td>\n",
       "      <td>2015-02-17</td>\n",
       "      <td>2015-01-01</td>\n",
       "      <td>3</td>\n",
       "      <td>won</td>\n",
       "      <td>NaN</td>\n",
       "      <td>buyer_7</td>\n",
       "      <td>region_7</td>\n",
       "      <td>C07AB07</td>\n",
       "      <td>12.0</td>\n",
       "      <td>regional</td>\n",
       "      <td>molecule_x_10mg_tablet</td>\n",
       "      <td>2016-03-31</td>\n",
       "      <td>1</td>\n",
       "      <td>16490</td>\n",
       "      <td>1.710790e+04</td>\n",
       "      <td>0.00005</td>\n",
       "      <td>molecule_x</td>\n",
       "      <td>10mg</td>\n",
       "      <td>participants_16</td>\n",
       "      <td>5e-05</td>\n",
       "      <td>2015-02-01</td>\n",
       "      <td>participants_16</td>\n",
       "      <td>0.00005</td>\n",
       "      <td>NaN</td>\n",
       "      <td>NaN</td>\n",
       "    </tr>\n",
       "    <tr>\n",
       "      <th>7</th>\n",
       "      <td>15</td>\n",
       "      <td>2017-12-01</td>\n",
       "      <td>2018-01-22</td>\n",
       "      <td>12</td>\n",
       "      <td>won</td>\n",
       "      <td>NaN</td>\n",
       "      <td>buyer_13</td>\n",
       "      <td>region_13</td>\n",
       "      <td>C07AB07</td>\n",
       "      <td>36.0</td>\n",
       "      <td>regional</td>\n",
       "      <td>molecule_x_10mg_tablet</td>\n",
       "      <td>2022-01-21</td>\n",
       "      <td>1</td>\n",
       "      <td>9608</td>\n",
       "      <td>2.973131e+04</td>\n",
       "      <td>0.10900</td>\n",
       "      <td>molecule_x</td>\n",
       "      <td>10mg</td>\n",
       "      <td>participants_16</td>\n",
       "      <td>0.05</td>\n",
       "      <td>2017-12-01</td>\n",
       "      <td>participants_16</td>\n",
       "      <td>0.05000</td>\n",
       "      <td>NaN</td>\n",
       "      <td>NaN</td>\n",
       "    </tr>\n",
       "    <tr>\n",
       "      <th>8</th>\n",
       "      <td>23</td>\n",
       "      <td>2020-06-20</td>\n",
       "      <td>2020-07-22</td>\n",
       "      <td>0</td>\n",
       "      <td>won</td>\n",
       "      <td>lost</td>\n",
       "      <td>buyer_8</td>\n",
       "      <td>region_8</td>\n",
       "      <td>C07AB07</td>\n",
       "      <td>36.0</td>\n",
       "      <td>multi-region</td>\n",
       "      <td>molecule_x_10mg_tablet</td>\n",
       "      <td>2023-07-21</td>\n",
       "      <td>3</td>\n",
       "      <td>12040</td>\n",
       "      <td>3.674027e+04</td>\n",
       "      <td>0.04000</td>\n",
       "      <td>molecule_x</td>\n",
       "      <td>10mg</td>\n",
       "      <td>participants_19|participants_8|participants_23</td>\n",
       "      <td>0.035|0.038|0.03929</td>\n",
       "      <td>2020-06-01</td>\n",
       "      <td>participants_19</td>\n",
       "      <td>0.03500</td>\n",
       "      <td>participants_8</td>\n",
       "      <td>0.03800</td>\n",
       "    </tr>\n",
       "  </tbody>\n",
       "</table>\n",
       "</div>"
      ],
      "text/plain": [
       "   contract_id published_date start_date  duration_extension outcome  \\\n",
       "0            1     2013-05-16 2013-05-24                  10     won   \n",
       "1            5     2013-12-18 2013-12-17                   6     won   \n",
       "2            7     2014-02-24 2014-01-01                   3     won   \n",
       "3            9     2014-03-18 2014-05-30                   6     won   \n",
       "4           10     2014-09-07 2014-08-31                   7     won   \n",
       "5           11     2014-08-05 2014-10-30                   0     won   \n",
       "6           12     2015-02-17 2015-01-01                   3     won   \n",
       "7           15     2017-12-01 2018-01-22                  12     won   \n",
       "8           23     2020-06-20 2020-07-22                   0     won   \n",
       "\n",
       "  second_place_outcome     buyer     region      atc  duration contract_type  \\\n",
       "0                  NaN   buyer_1   region_1  C07AB07      39.0      regional   \n",
       "1                  NaN   buyer_5   region_5  C07AB07      36.0      regional   \n",
       "2                  NaN   buyer_7   region_7  C07AB07      12.0      regional   \n",
       "3                  NaN   buyer_9   region_9  C07AB07      24.0      regional   \n",
       "4                  NaN  buyer_10  region_10  C07AB07      36.0      regional   \n",
       "5                 lost   buyer_2   region_2  C07AB07      36.0      regional   \n",
       "6                  NaN   buyer_7   region_7  C07AB07      12.0      regional   \n",
       "7                  NaN  buyer_13  region_13  C07AB07      36.0      regional   \n",
       "8                 lost   buyer_8   region_8  C07AB07      36.0  multi-region   \n",
       "\n",
       "                      sku end_date_extension  participants_no  \\\n",
       "0  molecule_x_10mg_tablet         2017-06-30                1   \n",
       "1  molecule_x_10mg_tablet         2017-06-30                1   \n",
       "2  molecule_x_10mg_tablet         2015-03-31                1   \n",
       "3  molecule_x_10mg_tablet         2016-11-29                1   \n",
       "4  molecule_x_10mg_tablet         2020-03-31                1   \n",
       "5  molecule_x_10mg_tablet         2018-10-31                3   \n",
       "6  molecule_x_10mg_tablet         2016-03-31                1   \n",
       "7  molecule_x_10mg_tablet         2022-01-21                1   \n",
       "8  molecule_x_10mg_tablet         2023-07-21                3   \n",
       "\n",
       "   quantity_annual  quantity_total  maximum_price_allowed active_ingredient  \\\n",
       "0             9860    3.296651e+04                0.10000        molecule_x   \n",
       "1             1000    3.289223e+03                0.00010        molecule_x   \n",
       "2            16490    1.728231e+04                0.00005        molecule_x   \n",
       "3            17413    3.501392e+04                0.00010        molecule_x   \n",
       "4             3467    1.076659e+04                0.00010        molecule_x   \n",
       "5           339387    1.018263e+06           664493.87000        molecule_x   \n",
       "6            16490    1.710790e+04                0.00005        molecule_x   \n",
       "7             9608    2.973131e+04                0.10900        molecule_x   \n",
       "8            12040    3.674027e+04                0.04000        molecule_x   \n",
       "\n",
       "  pack_strength                                    participants  \\\n",
       "0          10mg                                 participants_16   \n",
       "1          10mg                                 participants_16   \n",
       "2          10mg                                 participants_16   \n",
       "3          10mg                                 participants_16   \n",
       "4          10mg                                 participants_16   \n",
       "5          10mg  participants_6|participants_16|participants_23   \n",
       "6          10mg                                 participants_16   \n",
       "7          10mg                                 participants_16   \n",
       "8          10mg  participants_19|participants_8|participants_23   \n",
       "\n",
       "      participants_price published_date_month           winner  winner_price  \\\n",
       "0                 0.0004           2013-05-01  participants_16       0.00040   \n",
       "1                  1e-05           2013-12-01  participants_16       0.00001   \n",
       "2                  1e-05           2014-02-01  participants_16       0.00001   \n",
       "3                  1e-05           2014-03-01  participants_16       0.00001   \n",
       "4                 0.0001           2014-09-01  participants_16       0.00010   \n",
       "5  0.034|0.04305|0.04214           2014-08-01   participants_6       0.03400   \n",
       "6                  5e-05           2015-02-01  participants_16       0.00005   \n",
       "7                   0.05           2017-12-01  participants_16       0.05000   \n",
       "8    0.035|0.038|0.03929           2020-06-01  participants_19       0.03500   \n",
       "\n",
       "      second_place  second_place_price  \n",
       "0              NaN                 NaN  \n",
       "1              NaN                 NaN  \n",
       "2              NaN                 NaN  \n",
       "3              NaN                 NaN  \n",
       "4              NaN                 NaN  \n",
       "5  participants_23             0.04214  \n",
       "6              NaN                 NaN  \n",
       "7              NaN                 NaN  \n",
       "8   participants_8             0.03800  "
      ]
     },
     "execution_count": 12,
     "metadata": {},
     "output_type": "execute_result"
    }
   ],
   "source": [
    "# Contracts Data with winning prices considered outliers\n",
    "Detect_Outliers(df = df).detect_outliers(col = 'winner_price', cutoff_bottom=0.25, cutoff_top=0.75, multiplier=1.5)"
   ]
  },
  {
   "cell_type": "code",
   "execution_count": 13,
   "metadata": {},
   "outputs": [
    {
     "data": {
      "text/html": [
       "<div>\n",
       "<style scoped>\n",
       "    .dataframe tbody tr th:only-of-type {\n",
       "        vertical-align: middle;\n",
       "    }\n",
       "\n",
       "    .dataframe tbody tr th {\n",
       "        vertical-align: top;\n",
       "    }\n",
       "\n",
       "    .dataframe thead th {\n",
       "        text-align: right;\n",
       "    }\n",
       "</style>\n",
       "<table border=\"1\" class=\"dataframe\">\n",
       "  <thead>\n",
       "    <tr style=\"text-align: right;\">\n",
       "      <th></th>\n",
       "      <th>contract_id</th>\n",
       "      <th>published_date</th>\n",
       "      <th>start_date</th>\n",
       "      <th>duration_extension</th>\n",
       "      <th>outcome</th>\n",
       "      <th>second_place_outcome</th>\n",
       "      <th>buyer</th>\n",
       "      <th>region</th>\n",
       "      <th>atc</th>\n",
       "      <th>duration</th>\n",
       "      <th>contract_type</th>\n",
       "      <th>sku</th>\n",
       "      <th>end_date_extension</th>\n",
       "      <th>participants_no</th>\n",
       "      <th>quantity_annual</th>\n",
       "      <th>quantity_total</th>\n",
       "      <th>maximum_price_allowed</th>\n",
       "      <th>active_ingredient</th>\n",
       "      <th>pack_strength</th>\n",
       "      <th>participants</th>\n",
       "      <th>participants_price</th>\n",
       "      <th>published_date_month</th>\n",
       "      <th>winner</th>\n",
       "      <th>winner_price</th>\n",
       "      <th>second_place</th>\n",
       "      <th>second_place_price</th>\n",
       "    </tr>\n",
       "  </thead>\n",
       "  <tbody>\n",
       "    <tr>\n",
       "      <th>0</th>\n",
       "      <td>2</td>\n",
       "      <td>2013-04-29</td>\n",
       "      <td>2013-06-21</td>\n",
       "      <td>0</td>\n",
       "      <td>won</td>\n",
       "      <td>NaN</td>\n",
       "      <td>buyer_2</td>\n",
       "      <td>region_2</td>\n",
       "      <td>C07AB07</td>\n",
       "      <td>48.0</td>\n",
       "      <td>wide area</td>\n",
       "      <td>molecule_x_10mg_tablet</td>\n",
       "      <td>2017-06-30</td>\n",
       "      <td>1</td>\n",
       "      <td>54988</td>\n",
       "      <td>220249.442660</td>\n",
       "      <td>63442.21000</td>\n",
       "      <td>molecule_x</td>\n",
       "      <td>10mg</td>\n",
       "      <td>participants_16</td>\n",
       "      <td>0.007</td>\n",
       "      <td>2013-04-01</td>\n",
       "      <td>participants_16</td>\n",
       "      <td>0.007</td>\n",
       "      <td>NaN</td>\n",
       "      <td>NaN</td>\n",
       "    </tr>\n",
       "    <tr>\n",
       "      <th>1</th>\n",
       "      <td>3</td>\n",
       "      <td>2013-06-09</td>\n",
       "      <td>2014-08-14</td>\n",
       "      <td>6</td>\n",
       "      <td>won</td>\n",
       "      <td>lost</td>\n",
       "      <td>buyer_3</td>\n",
       "      <td>region_3</td>\n",
       "      <td>C07AB07</td>\n",
       "      <td>12.0</td>\n",
       "      <td>regional</td>\n",
       "      <td>molecule_x_10mg_tablet</td>\n",
       "      <td>2016-02-14</td>\n",
       "      <td>2</td>\n",
       "      <td>1904</td>\n",
       "      <td>2680.639219</td>\n",
       "      <td>0.11635</td>\n",
       "      <td>molecule_x</td>\n",
       "      <td>10mg</td>\n",
       "      <td>participants_16|participants_23</td>\n",
       "      <td>0.014|0.07071</td>\n",
       "      <td>2013-06-01</td>\n",
       "      <td>participants_16</td>\n",
       "      <td>0.014</td>\n",
       "      <td>participants_23</td>\n",
       "      <td>0.07071</td>\n",
       "    </tr>\n",
       "    <tr>\n",
       "      <th>2</th>\n",
       "      <td>4</td>\n",
       "      <td>2013-05-04</td>\n",
       "      <td>2013-05-17</td>\n",
       "      <td>19</td>\n",
       "      <td>won</td>\n",
       "      <td>NaN</td>\n",
       "      <td>buyer_4</td>\n",
       "      <td>region_4</td>\n",
       "      <td>C07AB07</td>\n",
       "      <td>36.0</td>\n",
       "      <td>regional</td>\n",
       "      <td>molecule_x_10mg_tablet</td>\n",
       "      <td>2017-12-31</td>\n",
       "      <td>1</td>\n",
       "      <td>1652</td>\n",
       "      <td>5900.676494</td>\n",
       "      <td>0.03000</td>\n",
       "      <td>molecule_x</td>\n",
       "      <td>10mg</td>\n",
       "      <td>participants_16</td>\n",
       "      <td>0.025</td>\n",
       "      <td>2013-05-01</td>\n",
       "      <td>participants_16</td>\n",
       "      <td>0.025</td>\n",
       "      <td>NaN</td>\n",
       "      <td>NaN</td>\n",
       "    </tr>\n",
       "    <tr>\n",
       "      <th>3</th>\n",
       "      <td>6</td>\n",
       "      <td>2013-12-06</td>\n",
       "      <td>2014-02-21</td>\n",
       "      <td>14</td>\n",
       "      <td>won</td>\n",
       "      <td>NaN</td>\n",
       "      <td>buyer_6</td>\n",
       "      <td>region_6</td>\n",
       "      <td>C07AB07</td>\n",
       "      <td>48.0</td>\n",
       "      <td>regional</td>\n",
       "      <td>molecule_x_10mg_tablet</td>\n",
       "      <td>2019-04-20</td>\n",
       "      <td>1</td>\n",
       "      <td>2088</td>\n",
       "      <td>9026.168470</td>\n",
       "      <td>0.02550</td>\n",
       "      <td>molecule_x</td>\n",
       "      <td>10mg</td>\n",
       "      <td>participants_16</td>\n",
       "      <td>0.019</td>\n",
       "      <td>2013-12-01</td>\n",
       "      <td>participants_16</td>\n",
       "      <td>0.019</td>\n",
       "      <td>NaN</td>\n",
       "      <td>NaN</td>\n",
       "    </tr>\n",
       "    <tr>\n",
       "      <th>4</th>\n",
       "      <td>8</td>\n",
       "      <td>2014-03-08</td>\n",
       "      <td>2014-05-22</td>\n",
       "      <td>10</td>\n",
       "      <td>won</td>\n",
       "      <td>lost</td>\n",
       "      <td>buyer_8</td>\n",
       "      <td>region_8</td>\n",
       "      <td>C07AB07</td>\n",
       "      <td>36.0</td>\n",
       "      <td>regional</td>\n",
       "      <td>molecule_x_10mg_tablet</td>\n",
       "      <td>2018-03-22</td>\n",
       "      <td>4</td>\n",
       "      <td>10332</td>\n",
       "      <td>31951.791632</td>\n",
       "      <td>0.08000</td>\n",
       "      <td>molecule_x</td>\n",
       "      <td>10mg</td>\n",
       "      <td>participants_16|participants_5|participants_6|...</td>\n",
       "      <td>0.03|0.08|0.034|0.04066</td>\n",
       "      <td>2014-03-01</td>\n",
       "      <td>participants_16</td>\n",
       "      <td>0.030</td>\n",
       "      <td>participants_6</td>\n",
       "      <td>0.03400</td>\n",
       "    </tr>\n",
       "  </tbody>\n",
       "</table>\n",
       "</div>"
      ],
      "text/plain": [
       "   contract_id published_date start_date  duration_extension outcome  \\\n",
       "0            2     2013-04-29 2013-06-21                   0     won   \n",
       "1            3     2013-06-09 2014-08-14                   6     won   \n",
       "2            4     2013-05-04 2013-05-17                  19     won   \n",
       "3            6     2013-12-06 2014-02-21                  14     won   \n",
       "4            8     2014-03-08 2014-05-22                  10     won   \n",
       "\n",
       "  second_place_outcome    buyer    region      atc  duration contract_type  \\\n",
       "0                  NaN  buyer_2  region_2  C07AB07      48.0     wide area   \n",
       "1                 lost  buyer_3  region_3  C07AB07      12.0      regional   \n",
       "2                  NaN  buyer_4  region_4  C07AB07      36.0      regional   \n",
       "3                  NaN  buyer_6  region_6  C07AB07      48.0      regional   \n",
       "4                 lost  buyer_8  region_8  C07AB07      36.0      regional   \n",
       "\n",
       "                      sku end_date_extension  participants_no  \\\n",
       "0  molecule_x_10mg_tablet         2017-06-30                1   \n",
       "1  molecule_x_10mg_tablet         2016-02-14                2   \n",
       "2  molecule_x_10mg_tablet         2017-12-31                1   \n",
       "3  molecule_x_10mg_tablet         2019-04-20                1   \n",
       "4  molecule_x_10mg_tablet         2018-03-22                4   \n",
       "\n",
       "   quantity_annual  quantity_total  maximum_price_allowed active_ingredient  \\\n",
       "0            54988   220249.442660            63442.21000        molecule_x   \n",
       "1             1904     2680.639219                0.11635        molecule_x   \n",
       "2             1652     5900.676494                0.03000        molecule_x   \n",
       "3             2088     9026.168470                0.02550        molecule_x   \n",
       "4            10332    31951.791632                0.08000        molecule_x   \n",
       "\n",
       "  pack_strength                                       participants  \\\n",
       "0          10mg                                    participants_16   \n",
       "1          10mg                    participants_16|participants_23   \n",
       "2          10mg                                    participants_16   \n",
       "3          10mg                                    participants_16   \n",
       "4          10mg  participants_16|participants_5|participants_6|...   \n",
       "\n",
       "        participants_price published_date_month           winner  \\\n",
       "0                    0.007           2013-04-01  participants_16   \n",
       "1            0.014|0.07071           2013-06-01  participants_16   \n",
       "2                    0.025           2013-05-01  participants_16   \n",
       "3                    0.019           2013-12-01  participants_16   \n",
       "4  0.03|0.08|0.034|0.04066           2014-03-01  participants_16   \n",
       "\n",
       "   winner_price     second_place  second_place_price  \n",
       "0         0.007              NaN                 NaN  \n",
       "1         0.014  participants_23             0.07071  \n",
       "2         0.025              NaN                 NaN  \n",
       "3         0.019              NaN                 NaN  \n",
       "4         0.030   participants_6             0.03400  "
      ]
     },
     "execution_count": 13,
     "metadata": {},
     "output_type": "execute_result"
    }
   ],
   "source": [
    "# Contracts with winning prices not considered outliers\n",
    "df = Detect_Outliers(df = df).remove_outliers(col = 'winner_price', cutoff_bottom=0.25, cutoff_top=0.75, multiplier=1.5)\n",
    "df.head()\n"
   ]
  },
  {
   "cell_type": "markdown",
   "metadata": {},
   "source": [
    "## Missing Values\n",
    "\n",
    "Missing values can be treated using different scenarios:\n",
    "\n",
    "1. Drop records with missing values\n",
    "2. Fill missing values with median or mean\n",
    "3. or, use model based imputation like regression\n",
    "\n",
    "The 3rd option is not recommended in our case as we will basing our ML models on target variables that were predicted by ML models. "
   ]
  },
  {
   "cell_type": "code",
   "execution_count": 14,
   "metadata": {},
   "outputs": [
    {
     "data": {
      "text/plain": [
       "contract_id              0\n",
       "published_date           0\n",
       "start_date               0\n",
       "duration_extension       0\n",
       "outcome                  0\n",
       "second_place_outcome     9\n",
       "buyer                    0\n",
       "region                   0\n",
       "atc                      1\n",
       "duration                 0\n",
       "contract_type            0\n",
       "sku                      0\n",
       "end_date_extension       0\n",
       "participants_no          0\n",
       "quantity_annual          0\n",
       "quantity_total           0\n",
       "maximum_price_allowed    0\n",
       "active_ingredient        0\n",
       "pack_strength            0\n",
       "participants             0\n",
       "participants_price       0\n",
       "published_date_month     0\n",
       "winner                   0\n",
       "winner_price             0\n",
       "second_place             9\n",
       "second_place_price       9\n",
       "dtype: int64"
      ]
     },
     "execution_count": 14,
     "metadata": {},
     "output_type": "execute_result"
    }
   ],
   "source": [
    "Missing_Values(df=df).display_missing_values()"
   ]
  },
  {
   "cell_type": "markdown",
   "metadata": {},
   "source": [
    "We can notice that the target variable has no missing values. However, if we scale up our dataset, we might face instances of missing target variables. \n",
    "\n",
    "That said, our Missing_Values model offer methods to deal with missing values:\n",
    "\n",
    "1. fill_mean\n",
    "2. fill_median\n",
    "3. drop_null_values"
   ]
  },
  {
   "cell_type": "code",
   "execution_count": 15,
   "metadata": {},
   "outputs": [
    {
     "data": {
      "text/html": [
       "<div>\n",
       "<style scoped>\n",
       "    .dataframe tbody tr th:only-of-type {\n",
       "        vertical-align: middle;\n",
       "    }\n",
       "\n",
       "    .dataframe tbody tr th {\n",
       "        vertical-align: top;\n",
       "    }\n",
       "\n",
       "    .dataframe thead th {\n",
       "        text-align: right;\n",
       "    }\n",
       "</style>\n",
       "<table border=\"1\" class=\"dataframe\">\n",
       "  <thead>\n",
       "    <tr style=\"text-align: right;\">\n",
       "      <th></th>\n",
       "      <th>contract_id</th>\n",
       "      <th>published_date</th>\n",
       "      <th>start_date</th>\n",
       "      <th>duration_extension</th>\n",
       "      <th>outcome</th>\n",
       "      <th>second_place_outcome</th>\n",
       "      <th>buyer</th>\n",
       "      <th>region</th>\n",
       "      <th>atc</th>\n",
       "      <th>duration</th>\n",
       "      <th>contract_type</th>\n",
       "      <th>sku</th>\n",
       "      <th>end_date_extension</th>\n",
       "      <th>participants_no</th>\n",
       "      <th>quantity_annual</th>\n",
       "      <th>quantity_total</th>\n",
       "      <th>maximum_price_allowed</th>\n",
       "      <th>active_ingredient</th>\n",
       "      <th>pack_strength</th>\n",
       "      <th>participants</th>\n",
       "      <th>participants_price</th>\n",
       "      <th>published_date_month</th>\n",
       "      <th>winner</th>\n",
       "      <th>winner_price</th>\n",
       "      <th>second_place</th>\n",
       "      <th>second_place_price</th>\n",
       "    </tr>\n",
       "  </thead>\n",
       "  <tbody>\n",
       "    <tr>\n",
       "      <th>0</th>\n",
       "      <td>2</td>\n",
       "      <td>2013-04-29</td>\n",
       "      <td>2013-06-21</td>\n",
       "      <td>0</td>\n",
       "      <td>won</td>\n",
       "      <td>NaN</td>\n",
       "      <td>buyer_2</td>\n",
       "      <td>region_2</td>\n",
       "      <td>C07AB07</td>\n",
       "      <td>48.0</td>\n",
       "      <td>wide area</td>\n",
       "      <td>molecule_x_10mg_tablet</td>\n",
       "      <td>2017-06-30</td>\n",
       "      <td>1</td>\n",
       "      <td>54988</td>\n",
       "      <td>220249.442660</td>\n",
       "      <td>63442.21000</td>\n",
       "      <td>molecule_x</td>\n",
       "      <td>10mg</td>\n",
       "      <td>participants_16</td>\n",
       "      <td>0.007</td>\n",
       "      <td>2013-04-01</td>\n",
       "      <td>participants_16</td>\n",
       "      <td>0.007</td>\n",
       "      <td>NaN</td>\n",
       "      <td>NaN</td>\n",
       "    </tr>\n",
       "    <tr>\n",
       "      <th>1</th>\n",
       "      <td>3</td>\n",
       "      <td>2013-06-09</td>\n",
       "      <td>2014-08-14</td>\n",
       "      <td>6</td>\n",
       "      <td>won</td>\n",
       "      <td>lost</td>\n",
       "      <td>buyer_3</td>\n",
       "      <td>region_3</td>\n",
       "      <td>C07AB07</td>\n",
       "      <td>12.0</td>\n",
       "      <td>regional</td>\n",
       "      <td>molecule_x_10mg_tablet</td>\n",
       "      <td>2016-02-14</td>\n",
       "      <td>2</td>\n",
       "      <td>1904</td>\n",
       "      <td>2680.639219</td>\n",
       "      <td>0.11635</td>\n",
       "      <td>molecule_x</td>\n",
       "      <td>10mg</td>\n",
       "      <td>participants_16|participants_23</td>\n",
       "      <td>0.014|0.07071</td>\n",
       "      <td>2013-06-01</td>\n",
       "      <td>participants_16</td>\n",
       "      <td>0.014</td>\n",
       "      <td>participants_23</td>\n",
       "      <td>0.07071</td>\n",
       "    </tr>\n",
       "    <tr>\n",
       "      <th>2</th>\n",
       "      <td>4</td>\n",
       "      <td>2013-05-04</td>\n",
       "      <td>2013-05-17</td>\n",
       "      <td>19</td>\n",
       "      <td>won</td>\n",
       "      <td>NaN</td>\n",
       "      <td>buyer_4</td>\n",
       "      <td>region_4</td>\n",
       "      <td>C07AB07</td>\n",
       "      <td>36.0</td>\n",
       "      <td>regional</td>\n",
       "      <td>molecule_x_10mg_tablet</td>\n",
       "      <td>2017-12-31</td>\n",
       "      <td>1</td>\n",
       "      <td>1652</td>\n",
       "      <td>5900.676494</td>\n",
       "      <td>0.03000</td>\n",
       "      <td>molecule_x</td>\n",
       "      <td>10mg</td>\n",
       "      <td>participants_16</td>\n",
       "      <td>0.025</td>\n",
       "      <td>2013-05-01</td>\n",
       "      <td>participants_16</td>\n",
       "      <td>0.025</td>\n",
       "      <td>NaN</td>\n",
       "      <td>NaN</td>\n",
       "    </tr>\n",
       "    <tr>\n",
       "      <th>3</th>\n",
       "      <td>6</td>\n",
       "      <td>2013-12-06</td>\n",
       "      <td>2014-02-21</td>\n",
       "      <td>14</td>\n",
       "      <td>won</td>\n",
       "      <td>NaN</td>\n",
       "      <td>buyer_6</td>\n",
       "      <td>region_6</td>\n",
       "      <td>C07AB07</td>\n",
       "      <td>48.0</td>\n",
       "      <td>regional</td>\n",
       "      <td>molecule_x_10mg_tablet</td>\n",
       "      <td>2019-04-20</td>\n",
       "      <td>1</td>\n",
       "      <td>2088</td>\n",
       "      <td>9026.168470</td>\n",
       "      <td>0.02550</td>\n",
       "      <td>molecule_x</td>\n",
       "      <td>10mg</td>\n",
       "      <td>participants_16</td>\n",
       "      <td>0.019</td>\n",
       "      <td>2013-12-01</td>\n",
       "      <td>participants_16</td>\n",
       "      <td>0.019</td>\n",
       "      <td>NaN</td>\n",
       "      <td>NaN</td>\n",
       "    </tr>\n",
       "    <tr>\n",
       "      <th>4</th>\n",
       "      <td>8</td>\n",
       "      <td>2014-03-08</td>\n",
       "      <td>2014-05-22</td>\n",
       "      <td>10</td>\n",
       "      <td>won</td>\n",
       "      <td>lost</td>\n",
       "      <td>buyer_8</td>\n",
       "      <td>region_8</td>\n",
       "      <td>C07AB07</td>\n",
       "      <td>36.0</td>\n",
       "      <td>regional</td>\n",
       "      <td>molecule_x_10mg_tablet</td>\n",
       "      <td>2018-03-22</td>\n",
       "      <td>4</td>\n",
       "      <td>10332</td>\n",
       "      <td>31951.791632</td>\n",
       "      <td>0.08000</td>\n",
       "      <td>molecule_x</td>\n",
       "      <td>10mg</td>\n",
       "      <td>participants_16|participants_5|participants_6|...</td>\n",
       "      <td>0.03|0.08|0.034|0.04066</td>\n",
       "      <td>2014-03-01</td>\n",
       "      <td>participants_16</td>\n",
       "      <td>0.030</td>\n",
       "      <td>participants_6</td>\n",
       "      <td>0.03400</td>\n",
       "    </tr>\n",
       "  </tbody>\n",
       "</table>\n",
       "</div>"
      ],
      "text/plain": [
       "   contract_id published_date start_date  duration_extension outcome  \\\n",
       "0            2     2013-04-29 2013-06-21                   0     won   \n",
       "1            3     2013-06-09 2014-08-14                   6     won   \n",
       "2            4     2013-05-04 2013-05-17                  19     won   \n",
       "3            6     2013-12-06 2014-02-21                  14     won   \n",
       "4            8     2014-03-08 2014-05-22                  10     won   \n",
       "\n",
       "  second_place_outcome    buyer    region      atc  duration contract_type  \\\n",
       "0                  NaN  buyer_2  region_2  C07AB07      48.0     wide area   \n",
       "1                 lost  buyer_3  region_3  C07AB07      12.0      regional   \n",
       "2                  NaN  buyer_4  region_4  C07AB07      36.0      regional   \n",
       "3                  NaN  buyer_6  region_6  C07AB07      48.0      regional   \n",
       "4                 lost  buyer_8  region_8  C07AB07      36.0      regional   \n",
       "\n",
       "                      sku end_date_extension  participants_no  \\\n",
       "0  molecule_x_10mg_tablet         2017-06-30                1   \n",
       "1  molecule_x_10mg_tablet         2016-02-14                2   \n",
       "2  molecule_x_10mg_tablet         2017-12-31                1   \n",
       "3  molecule_x_10mg_tablet         2019-04-20                1   \n",
       "4  molecule_x_10mg_tablet         2018-03-22                4   \n",
       "\n",
       "   quantity_annual  quantity_total  maximum_price_allowed active_ingredient  \\\n",
       "0            54988   220249.442660            63442.21000        molecule_x   \n",
       "1             1904     2680.639219                0.11635        molecule_x   \n",
       "2             1652     5900.676494                0.03000        molecule_x   \n",
       "3             2088     9026.168470                0.02550        molecule_x   \n",
       "4            10332    31951.791632                0.08000        molecule_x   \n",
       "\n",
       "  pack_strength                                       participants  \\\n",
       "0          10mg                                    participants_16   \n",
       "1          10mg                    participants_16|participants_23   \n",
       "2          10mg                                    participants_16   \n",
       "3          10mg                                    participants_16   \n",
       "4          10mg  participants_16|participants_5|participants_6|...   \n",
       "\n",
       "        participants_price published_date_month           winner  \\\n",
       "0                    0.007           2013-04-01  participants_16   \n",
       "1            0.014|0.07071           2013-06-01  participants_16   \n",
       "2                    0.025           2013-05-01  participants_16   \n",
       "3                    0.019           2013-12-01  participants_16   \n",
       "4  0.03|0.08|0.034|0.04066           2014-03-01  participants_16   \n",
       "\n",
       "   winner_price     second_place  second_place_price  \n",
       "0         0.007              NaN                 NaN  \n",
       "1         0.014  participants_23             0.07071  \n",
       "2         0.025              NaN                 NaN  \n",
       "3         0.019              NaN                 NaN  \n",
       "4         0.030   participants_6             0.03400  "
      ]
     },
     "execution_count": 15,
     "metadata": {},
     "output_type": "execute_result"
    }
   ],
   "source": [
    "Missing_Values(df = df).fill_mean(col = 'winner_price').head()"
   ]
  },
  {
   "cell_type": "code",
   "execution_count": 16,
   "metadata": {},
   "outputs": [
    {
     "data": {
      "text/html": [
       "<div>\n",
       "<style scoped>\n",
       "    .dataframe tbody tr th:only-of-type {\n",
       "        vertical-align: middle;\n",
       "    }\n",
       "\n",
       "    .dataframe tbody tr th {\n",
       "        vertical-align: top;\n",
       "    }\n",
       "\n",
       "    .dataframe thead th {\n",
       "        text-align: right;\n",
       "    }\n",
       "</style>\n",
       "<table border=\"1\" class=\"dataframe\">\n",
       "  <thead>\n",
       "    <tr style=\"text-align: right;\">\n",
       "      <th></th>\n",
       "      <th>contract_id</th>\n",
       "      <th>published_date</th>\n",
       "      <th>start_date</th>\n",
       "      <th>duration_extension</th>\n",
       "      <th>outcome</th>\n",
       "      <th>second_place_outcome</th>\n",
       "      <th>buyer</th>\n",
       "      <th>region</th>\n",
       "      <th>atc</th>\n",
       "      <th>duration</th>\n",
       "      <th>contract_type</th>\n",
       "      <th>sku</th>\n",
       "      <th>end_date_extension</th>\n",
       "      <th>participants_no</th>\n",
       "      <th>quantity_annual</th>\n",
       "      <th>quantity_total</th>\n",
       "      <th>maximum_price_allowed</th>\n",
       "      <th>active_ingredient</th>\n",
       "      <th>pack_strength</th>\n",
       "      <th>participants</th>\n",
       "      <th>participants_price</th>\n",
       "      <th>published_date_month</th>\n",
       "      <th>winner</th>\n",
       "      <th>winner_price</th>\n",
       "      <th>second_place</th>\n",
       "      <th>second_place_price</th>\n",
       "    </tr>\n",
       "  </thead>\n",
       "  <tbody>\n",
       "    <tr>\n",
       "      <th>0</th>\n",
       "      <td>2</td>\n",
       "      <td>2013-04-29</td>\n",
       "      <td>2013-06-21</td>\n",
       "      <td>0</td>\n",
       "      <td>won</td>\n",
       "      <td>NaN</td>\n",
       "      <td>buyer_2</td>\n",
       "      <td>region_2</td>\n",
       "      <td>C07AB07</td>\n",
       "      <td>48.0</td>\n",
       "      <td>wide area</td>\n",
       "      <td>molecule_x_10mg_tablet</td>\n",
       "      <td>2017-06-30</td>\n",
       "      <td>1</td>\n",
       "      <td>54988</td>\n",
       "      <td>220249.442660</td>\n",
       "      <td>63442.21000</td>\n",
       "      <td>molecule_x</td>\n",
       "      <td>10mg</td>\n",
       "      <td>participants_16</td>\n",
       "      <td>0.007</td>\n",
       "      <td>2013-04-01</td>\n",
       "      <td>participants_16</td>\n",
       "      <td>0.007</td>\n",
       "      <td>NaN</td>\n",
       "      <td>NaN</td>\n",
       "    </tr>\n",
       "    <tr>\n",
       "      <th>1</th>\n",
       "      <td>3</td>\n",
       "      <td>2013-06-09</td>\n",
       "      <td>2014-08-14</td>\n",
       "      <td>6</td>\n",
       "      <td>won</td>\n",
       "      <td>lost</td>\n",
       "      <td>buyer_3</td>\n",
       "      <td>region_3</td>\n",
       "      <td>C07AB07</td>\n",
       "      <td>12.0</td>\n",
       "      <td>regional</td>\n",
       "      <td>molecule_x_10mg_tablet</td>\n",
       "      <td>2016-02-14</td>\n",
       "      <td>2</td>\n",
       "      <td>1904</td>\n",
       "      <td>2680.639219</td>\n",
       "      <td>0.11635</td>\n",
       "      <td>molecule_x</td>\n",
       "      <td>10mg</td>\n",
       "      <td>participants_16|participants_23</td>\n",
       "      <td>0.014|0.07071</td>\n",
       "      <td>2013-06-01</td>\n",
       "      <td>participants_16</td>\n",
       "      <td>0.014</td>\n",
       "      <td>participants_23</td>\n",
       "      <td>0.07071</td>\n",
       "    </tr>\n",
       "    <tr>\n",
       "      <th>2</th>\n",
       "      <td>4</td>\n",
       "      <td>2013-05-04</td>\n",
       "      <td>2013-05-17</td>\n",
       "      <td>19</td>\n",
       "      <td>won</td>\n",
       "      <td>NaN</td>\n",
       "      <td>buyer_4</td>\n",
       "      <td>region_4</td>\n",
       "      <td>C07AB07</td>\n",
       "      <td>36.0</td>\n",
       "      <td>regional</td>\n",
       "      <td>molecule_x_10mg_tablet</td>\n",
       "      <td>2017-12-31</td>\n",
       "      <td>1</td>\n",
       "      <td>1652</td>\n",
       "      <td>5900.676494</td>\n",
       "      <td>0.03000</td>\n",
       "      <td>molecule_x</td>\n",
       "      <td>10mg</td>\n",
       "      <td>participants_16</td>\n",
       "      <td>0.025</td>\n",
       "      <td>2013-05-01</td>\n",
       "      <td>participants_16</td>\n",
       "      <td>0.025</td>\n",
       "      <td>NaN</td>\n",
       "      <td>NaN</td>\n",
       "    </tr>\n",
       "    <tr>\n",
       "      <th>3</th>\n",
       "      <td>6</td>\n",
       "      <td>2013-12-06</td>\n",
       "      <td>2014-02-21</td>\n",
       "      <td>14</td>\n",
       "      <td>won</td>\n",
       "      <td>NaN</td>\n",
       "      <td>buyer_6</td>\n",
       "      <td>region_6</td>\n",
       "      <td>C07AB07</td>\n",
       "      <td>48.0</td>\n",
       "      <td>regional</td>\n",
       "      <td>molecule_x_10mg_tablet</td>\n",
       "      <td>2019-04-20</td>\n",
       "      <td>1</td>\n",
       "      <td>2088</td>\n",
       "      <td>9026.168470</td>\n",
       "      <td>0.02550</td>\n",
       "      <td>molecule_x</td>\n",
       "      <td>10mg</td>\n",
       "      <td>participants_16</td>\n",
       "      <td>0.019</td>\n",
       "      <td>2013-12-01</td>\n",
       "      <td>participants_16</td>\n",
       "      <td>0.019</td>\n",
       "      <td>NaN</td>\n",
       "      <td>NaN</td>\n",
       "    </tr>\n",
       "    <tr>\n",
       "      <th>4</th>\n",
       "      <td>8</td>\n",
       "      <td>2014-03-08</td>\n",
       "      <td>2014-05-22</td>\n",
       "      <td>10</td>\n",
       "      <td>won</td>\n",
       "      <td>lost</td>\n",
       "      <td>buyer_8</td>\n",
       "      <td>region_8</td>\n",
       "      <td>C07AB07</td>\n",
       "      <td>36.0</td>\n",
       "      <td>regional</td>\n",
       "      <td>molecule_x_10mg_tablet</td>\n",
       "      <td>2018-03-22</td>\n",
       "      <td>4</td>\n",
       "      <td>10332</td>\n",
       "      <td>31951.791632</td>\n",
       "      <td>0.08000</td>\n",
       "      <td>molecule_x</td>\n",
       "      <td>10mg</td>\n",
       "      <td>participants_16|participants_5|participants_6|...</td>\n",
       "      <td>0.03|0.08|0.034|0.04066</td>\n",
       "      <td>2014-03-01</td>\n",
       "      <td>participants_16</td>\n",
       "      <td>0.030</td>\n",
       "      <td>participants_6</td>\n",
       "      <td>0.03400</td>\n",
       "    </tr>\n",
       "  </tbody>\n",
       "</table>\n",
       "</div>"
      ],
      "text/plain": [
       "   contract_id published_date start_date  duration_extension outcome  \\\n",
       "0            2     2013-04-29 2013-06-21                   0     won   \n",
       "1            3     2013-06-09 2014-08-14                   6     won   \n",
       "2            4     2013-05-04 2013-05-17                  19     won   \n",
       "3            6     2013-12-06 2014-02-21                  14     won   \n",
       "4            8     2014-03-08 2014-05-22                  10     won   \n",
       "\n",
       "  second_place_outcome    buyer    region      atc  duration contract_type  \\\n",
       "0                  NaN  buyer_2  region_2  C07AB07      48.0     wide area   \n",
       "1                 lost  buyer_3  region_3  C07AB07      12.0      regional   \n",
       "2                  NaN  buyer_4  region_4  C07AB07      36.0      regional   \n",
       "3                  NaN  buyer_6  region_6  C07AB07      48.0      regional   \n",
       "4                 lost  buyer_8  region_8  C07AB07      36.0      regional   \n",
       "\n",
       "                      sku end_date_extension  participants_no  \\\n",
       "0  molecule_x_10mg_tablet         2017-06-30                1   \n",
       "1  molecule_x_10mg_tablet         2016-02-14                2   \n",
       "2  molecule_x_10mg_tablet         2017-12-31                1   \n",
       "3  molecule_x_10mg_tablet         2019-04-20                1   \n",
       "4  molecule_x_10mg_tablet         2018-03-22                4   \n",
       "\n",
       "   quantity_annual  quantity_total  maximum_price_allowed active_ingredient  \\\n",
       "0            54988   220249.442660            63442.21000        molecule_x   \n",
       "1             1904     2680.639219                0.11635        molecule_x   \n",
       "2             1652     5900.676494                0.03000        molecule_x   \n",
       "3             2088     9026.168470                0.02550        molecule_x   \n",
       "4            10332    31951.791632                0.08000        molecule_x   \n",
       "\n",
       "  pack_strength                                       participants  \\\n",
       "0          10mg                                    participants_16   \n",
       "1          10mg                    participants_16|participants_23   \n",
       "2          10mg                                    participants_16   \n",
       "3          10mg                                    participants_16   \n",
       "4          10mg  participants_16|participants_5|participants_6|...   \n",
       "\n",
       "        participants_price published_date_month           winner  \\\n",
       "0                    0.007           2013-04-01  participants_16   \n",
       "1            0.014|0.07071           2013-06-01  participants_16   \n",
       "2                    0.025           2013-05-01  participants_16   \n",
       "3                    0.019           2013-12-01  participants_16   \n",
       "4  0.03|0.08|0.034|0.04066           2014-03-01  participants_16   \n",
       "\n",
       "   winner_price     second_place  second_place_price  \n",
       "0         0.007              NaN                 NaN  \n",
       "1         0.014  participants_23             0.07071  \n",
       "2         0.025              NaN                 NaN  \n",
       "3         0.019              NaN                 NaN  \n",
       "4         0.030   participants_6             0.03400  "
      ]
     },
     "execution_count": 16,
     "metadata": {},
     "output_type": "execute_result"
    }
   ],
   "source": [
    "Missing_Values(df = df).fill_median(col = 'winner_price').head()"
   ]
  },
  {
   "cell_type": "code",
   "execution_count": 17,
   "metadata": {},
   "outputs": [
    {
     "data": {
      "text/html": [
       "<div>\n",
       "<style scoped>\n",
       "    .dataframe tbody tr th:only-of-type {\n",
       "        vertical-align: middle;\n",
       "    }\n",
       "\n",
       "    .dataframe tbody tr th {\n",
       "        vertical-align: top;\n",
       "    }\n",
       "\n",
       "    .dataframe thead th {\n",
       "        text-align: right;\n",
       "    }\n",
       "</style>\n",
       "<table border=\"1\" class=\"dataframe\">\n",
       "  <thead>\n",
       "    <tr style=\"text-align: right;\">\n",
       "      <th></th>\n",
       "      <th>contract_id</th>\n",
       "      <th>published_date</th>\n",
       "      <th>start_date</th>\n",
       "      <th>duration_extension</th>\n",
       "      <th>outcome</th>\n",
       "      <th>second_place_outcome</th>\n",
       "      <th>buyer</th>\n",
       "      <th>region</th>\n",
       "      <th>atc</th>\n",
       "      <th>duration</th>\n",
       "      <th>contract_type</th>\n",
       "      <th>sku</th>\n",
       "      <th>end_date_extension</th>\n",
       "      <th>participants_no</th>\n",
       "      <th>quantity_annual</th>\n",
       "      <th>quantity_total</th>\n",
       "      <th>maximum_price_allowed</th>\n",
       "      <th>active_ingredient</th>\n",
       "      <th>pack_strength</th>\n",
       "      <th>participants</th>\n",
       "      <th>participants_price</th>\n",
       "      <th>published_date_month</th>\n",
       "      <th>winner</th>\n",
       "      <th>winner_price</th>\n",
       "      <th>second_place</th>\n",
       "      <th>second_place_price</th>\n",
       "    </tr>\n",
       "  </thead>\n",
       "  <tbody>\n",
       "    <tr>\n",
       "      <th>0</th>\n",
       "      <td>2</td>\n",
       "      <td>2013-04-29</td>\n",
       "      <td>2013-06-21</td>\n",
       "      <td>0</td>\n",
       "      <td>won</td>\n",
       "      <td>NaN</td>\n",
       "      <td>buyer_2</td>\n",
       "      <td>region_2</td>\n",
       "      <td>C07AB07</td>\n",
       "      <td>48.0</td>\n",
       "      <td>wide area</td>\n",
       "      <td>molecule_x_10mg_tablet</td>\n",
       "      <td>2017-06-30</td>\n",
       "      <td>1</td>\n",
       "      <td>54988</td>\n",
       "      <td>220249.442660</td>\n",
       "      <td>63442.21000</td>\n",
       "      <td>molecule_x</td>\n",
       "      <td>10mg</td>\n",
       "      <td>participants_16</td>\n",
       "      <td>0.007</td>\n",
       "      <td>2013-04-01</td>\n",
       "      <td>participants_16</td>\n",
       "      <td>0.007</td>\n",
       "      <td>NaN</td>\n",
       "      <td>NaN</td>\n",
       "    </tr>\n",
       "    <tr>\n",
       "      <th>1</th>\n",
       "      <td>3</td>\n",
       "      <td>2013-06-09</td>\n",
       "      <td>2014-08-14</td>\n",
       "      <td>6</td>\n",
       "      <td>won</td>\n",
       "      <td>lost</td>\n",
       "      <td>buyer_3</td>\n",
       "      <td>region_3</td>\n",
       "      <td>C07AB07</td>\n",
       "      <td>12.0</td>\n",
       "      <td>regional</td>\n",
       "      <td>molecule_x_10mg_tablet</td>\n",
       "      <td>2016-02-14</td>\n",
       "      <td>2</td>\n",
       "      <td>1904</td>\n",
       "      <td>2680.639219</td>\n",
       "      <td>0.11635</td>\n",
       "      <td>molecule_x</td>\n",
       "      <td>10mg</td>\n",
       "      <td>participants_16|participants_23</td>\n",
       "      <td>0.014|0.07071</td>\n",
       "      <td>2013-06-01</td>\n",
       "      <td>participants_16</td>\n",
       "      <td>0.014</td>\n",
       "      <td>participants_23</td>\n",
       "      <td>0.07071</td>\n",
       "    </tr>\n",
       "    <tr>\n",
       "      <th>2</th>\n",
       "      <td>4</td>\n",
       "      <td>2013-05-04</td>\n",
       "      <td>2013-05-17</td>\n",
       "      <td>19</td>\n",
       "      <td>won</td>\n",
       "      <td>NaN</td>\n",
       "      <td>buyer_4</td>\n",
       "      <td>region_4</td>\n",
       "      <td>C07AB07</td>\n",
       "      <td>36.0</td>\n",
       "      <td>regional</td>\n",
       "      <td>molecule_x_10mg_tablet</td>\n",
       "      <td>2017-12-31</td>\n",
       "      <td>1</td>\n",
       "      <td>1652</td>\n",
       "      <td>5900.676494</td>\n",
       "      <td>0.03000</td>\n",
       "      <td>molecule_x</td>\n",
       "      <td>10mg</td>\n",
       "      <td>participants_16</td>\n",
       "      <td>0.025</td>\n",
       "      <td>2013-05-01</td>\n",
       "      <td>participants_16</td>\n",
       "      <td>0.025</td>\n",
       "      <td>NaN</td>\n",
       "      <td>NaN</td>\n",
       "    </tr>\n",
       "    <tr>\n",
       "      <th>3</th>\n",
       "      <td>6</td>\n",
       "      <td>2013-12-06</td>\n",
       "      <td>2014-02-21</td>\n",
       "      <td>14</td>\n",
       "      <td>won</td>\n",
       "      <td>NaN</td>\n",
       "      <td>buyer_6</td>\n",
       "      <td>region_6</td>\n",
       "      <td>C07AB07</td>\n",
       "      <td>48.0</td>\n",
       "      <td>regional</td>\n",
       "      <td>molecule_x_10mg_tablet</td>\n",
       "      <td>2019-04-20</td>\n",
       "      <td>1</td>\n",
       "      <td>2088</td>\n",
       "      <td>9026.168470</td>\n",
       "      <td>0.02550</td>\n",
       "      <td>molecule_x</td>\n",
       "      <td>10mg</td>\n",
       "      <td>participants_16</td>\n",
       "      <td>0.019</td>\n",
       "      <td>2013-12-01</td>\n",
       "      <td>participants_16</td>\n",
       "      <td>0.019</td>\n",
       "      <td>NaN</td>\n",
       "      <td>NaN</td>\n",
       "    </tr>\n",
       "    <tr>\n",
       "      <th>4</th>\n",
       "      <td>8</td>\n",
       "      <td>2014-03-08</td>\n",
       "      <td>2014-05-22</td>\n",
       "      <td>10</td>\n",
       "      <td>won</td>\n",
       "      <td>lost</td>\n",
       "      <td>buyer_8</td>\n",
       "      <td>region_8</td>\n",
       "      <td>C07AB07</td>\n",
       "      <td>36.0</td>\n",
       "      <td>regional</td>\n",
       "      <td>molecule_x_10mg_tablet</td>\n",
       "      <td>2018-03-22</td>\n",
       "      <td>4</td>\n",
       "      <td>10332</td>\n",
       "      <td>31951.791632</td>\n",
       "      <td>0.08000</td>\n",
       "      <td>molecule_x</td>\n",
       "      <td>10mg</td>\n",
       "      <td>participants_16|participants_5|participants_6|...</td>\n",
       "      <td>0.03|0.08|0.034|0.04066</td>\n",
       "      <td>2014-03-01</td>\n",
       "      <td>participants_16</td>\n",
       "      <td>0.030</td>\n",
       "      <td>participants_6</td>\n",
       "      <td>0.03400</td>\n",
       "    </tr>\n",
       "  </tbody>\n",
       "</table>\n",
       "</div>"
      ],
      "text/plain": [
       "   contract_id published_date start_date  duration_extension outcome  \\\n",
       "0            2     2013-04-29 2013-06-21                   0     won   \n",
       "1            3     2013-06-09 2014-08-14                   6     won   \n",
       "2            4     2013-05-04 2013-05-17                  19     won   \n",
       "3            6     2013-12-06 2014-02-21                  14     won   \n",
       "4            8     2014-03-08 2014-05-22                  10     won   \n",
       "\n",
       "  second_place_outcome    buyer    region      atc  duration contract_type  \\\n",
       "0                  NaN  buyer_2  region_2  C07AB07      48.0     wide area   \n",
       "1                 lost  buyer_3  region_3  C07AB07      12.0      regional   \n",
       "2                  NaN  buyer_4  region_4  C07AB07      36.0      regional   \n",
       "3                  NaN  buyer_6  region_6  C07AB07      48.0      regional   \n",
       "4                 lost  buyer_8  region_8  C07AB07      36.0      regional   \n",
       "\n",
       "                      sku end_date_extension  participants_no  \\\n",
       "0  molecule_x_10mg_tablet         2017-06-30                1   \n",
       "1  molecule_x_10mg_tablet         2016-02-14                2   \n",
       "2  molecule_x_10mg_tablet         2017-12-31                1   \n",
       "3  molecule_x_10mg_tablet         2019-04-20                1   \n",
       "4  molecule_x_10mg_tablet         2018-03-22                4   \n",
       "\n",
       "   quantity_annual  quantity_total  maximum_price_allowed active_ingredient  \\\n",
       "0            54988   220249.442660            63442.21000        molecule_x   \n",
       "1             1904     2680.639219                0.11635        molecule_x   \n",
       "2             1652     5900.676494                0.03000        molecule_x   \n",
       "3             2088     9026.168470                0.02550        molecule_x   \n",
       "4            10332    31951.791632                0.08000        molecule_x   \n",
       "\n",
       "  pack_strength                                       participants  \\\n",
       "0          10mg                                    participants_16   \n",
       "1          10mg                    participants_16|participants_23   \n",
       "2          10mg                                    participants_16   \n",
       "3          10mg                                    participants_16   \n",
       "4          10mg  participants_16|participants_5|participants_6|...   \n",
       "\n",
       "        participants_price published_date_month           winner  \\\n",
       "0                    0.007           2013-04-01  participants_16   \n",
       "1            0.014|0.07071           2013-06-01  participants_16   \n",
       "2                    0.025           2013-05-01  participants_16   \n",
       "3                    0.019           2013-12-01  participants_16   \n",
       "4  0.03|0.08|0.034|0.04066           2014-03-01  participants_16   \n",
       "\n",
       "   winner_price     second_place  second_place_price  \n",
       "0         0.007              NaN                 NaN  \n",
       "1         0.014  participants_23             0.07071  \n",
       "2         0.025              NaN                 NaN  \n",
       "3         0.019              NaN                 NaN  \n",
       "4         0.030   participants_6             0.03400  "
      ]
     },
     "execution_count": 17,
     "metadata": {},
     "output_type": "execute_result"
    }
   ],
   "source": [
    "Missing_Values(df = df).drop_null_values(col = 'winner_price').head()"
   ]
  },
  {
   "cell_type": "markdown",
   "metadata": {},
   "source": [
    "On the other hand, other columns have missing values. For example, second_place related features all have the same number of missing values. \n",
    "\n",
    "In priori, we expect auctions with one participant only to have such a problem.\n",
    "\n",
    "To solve this issue, we can either build an automated script based on our intuition and fill nan values for second place with 0.00, or dig deeper into the data and ensure that those dont have more than 1 participant (confirm our intuition) and fill with 0.00. "
   ]
  },
  {
   "cell_type": "code",
   "execution_count": 18,
   "metadata": {},
   "outputs": [
    {
     "data": {
      "text/html": [
       "<div>\n",
       "<style scoped>\n",
       "    .dataframe tbody tr th:only-of-type {\n",
       "        vertical-align: middle;\n",
       "    }\n",
       "\n",
       "    .dataframe tbody tr th {\n",
       "        vertical-align: top;\n",
       "    }\n",
       "\n",
       "    .dataframe thead th {\n",
       "        text-align: right;\n",
       "    }\n",
       "</style>\n",
       "<table border=\"1\" class=\"dataframe\">\n",
       "  <thead>\n",
       "    <tr style=\"text-align: right;\">\n",
       "      <th></th>\n",
       "      <th>contract_id</th>\n",
       "      <th>published_date</th>\n",
       "      <th>start_date</th>\n",
       "      <th>duration_extension</th>\n",
       "      <th>outcome</th>\n",
       "      <th>second_place_outcome</th>\n",
       "      <th>buyer</th>\n",
       "      <th>region</th>\n",
       "      <th>atc</th>\n",
       "      <th>duration</th>\n",
       "      <th>contract_type</th>\n",
       "      <th>sku</th>\n",
       "      <th>end_date_extension</th>\n",
       "      <th>participants_no</th>\n",
       "      <th>quantity_annual</th>\n",
       "      <th>quantity_total</th>\n",
       "      <th>maximum_price_allowed</th>\n",
       "      <th>active_ingredient</th>\n",
       "      <th>pack_strength</th>\n",
       "      <th>participants</th>\n",
       "      <th>participants_price</th>\n",
       "      <th>published_date_month</th>\n",
       "      <th>winner</th>\n",
       "      <th>winner_price</th>\n",
       "      <th>second_place</th>\n",
       "      <th>second_place_price</th>\n",
       "    </tr>\n",
       "  </thead>\n",
       "  <tbody>\n",
       "    <tr>\n",
       "      <th>0</th>\n",
       "      <td>2</td>\n",
       "      <td>2013-04-29</td>\n",
       "      <td>2013-06-21</td>\n",
       "      <td>0</td>\n",
       "      <td>won</td>\n",
       "      <td>none</td>\n",
       "      <td>buyer_2</td>\n",
       "      <td>region_2</td>\n",
       "      <td>C07AB07</td>\n",
       "      <td>48.0</td>\n",
       "      <td>wide area</td>\n",
       "      <td>molecule_x_10mg_tablet</td>\n",
       "      <td>2017-06-30</td>\n",
       "      <td>1</td>\n",
       "      <td>54988</td>\n",
       "      <td>220249.442660</td>\n",
       "      <td>63442.21000</td>\n",
       "      <td>molecule_x</td>\n",
       "      <td>10mg</td>\n",
       "      <td>participants_16</td>\n",
       "      <td>0.007</td>\n",
       "      <td>2013-04-01</td>\n",
       "      <td>participants_16</td>\n",
       "      <td>0.007</td>\n",
       "      <td>none</td>\n",
       "      <td>0.00000</td>\n",
       "    </tr>\n",
       "    <tr>\n",
       "      <th>1</th>\n",
       "      <td>3</td>\n",
       "      <td>2013-06-09</td>\n",
       "      <td>2014-08-14</td>\n",
       "      <td>6</td>\n",
       "      <td>won</td>\n",
       "      <td>lost</td>\n",
       "      <td>buyer_3</td>\n",
       "      <td>region_3</td>\n",
       "      <td>C07AB07</td>\n",
       "      <td>12.0</td>\n",
       "      <td>regional</td>\n",
       "      <td>molecule_x_10mg_tablet</td>\n",
       "      <td>2016-02-14</td>\n",
       "      <td>2</td>\n",
       "      <td>1904</td>\n",
       "      <td>2680.639219</td>\n",
       "      <td>0.11635</td>\n",
       "      <td>molecule_x</td>\n",
       "      <td>10mg</td>\n",
       "      <td>participants_16|participants_23</td>\n",
       "      <td>0.014|0.07071</td>\n",
       "      <td>2013-06-01</td>\n",
       "      <td>participants_16</td>\n",
       "      <td>0.014</td>\n",
       "      <td>participants_23</td>\n",
       "      <td>0.07071</td>\n",
       "    </tr>\n",
       "    <tr>\n",
       "      <th>2</th>\n",
       "      <td>4</td>\n",
       "      <td>2013-05-04</td>\n",
       "      <td>2013-05-17</td>\n",
       "      <td>19</td>\n",
       "      <td>won</td>\n",
       "      <td>none</td>\n",
       "      <td>buyer_4</td>\n",
       "      <td>region_4</td>\n",
       "      <td>C07AB07</td>\n",
       "      <td>36.0</td>\n",
       "      <td>regional</td>\n",
       "      <td>molecule_x_10mg_tablet</td>\n",
       "      <td>2017-12-31</td>\n",
       "      <td>1</td>\n",
       "      <td>1652</td>\n",
       "      <td>5900.676494</td>\n",
       "      <td>0.03000</td>\n",
       "      <td>molecule_x</td>\n",
       "      <td>10mg</td>\n",
       "      <td>participants_16</td>\n",
       "      <td>0.025</td>\n",
       "      <td>2013-05-01</td>\n",
       "      <td>participants_16</td>\n",
       "      <td>0.025</td>\n",
       "      <td>none</td>\n",
       "      <td>0.00000</td>\n",
       "    </tr>\n",
       "    <tr>\n",
       "      <th>3</th>\n",
       "      <td>6</td>\n",
       "      <td>2013-12-06</td>\n",
       "      <td>2014-02-21</td>\n",
       "      <td>14</td>\n",
       "      <td>won</td>\n",
       "      <td>none</td>\n",
       "      <td>buyer_6</td>\n",
       "      <td>region_6</td>\n",
       "      <td>C07AB07</td>\n",
       "      <td>48.0</td>\n",
       "      <td>regional</td>\n",
       "      <td>molecule_x_10mg_tablet</td>\n",
       "      <td>2019-04-20</td>\n",
       "      <td>1</td>\n",
       "      <td>2088</td>\n",
       "      <td>9026.168470</td>\n",
       "      <td>0.02550</td>\n",
       "      <td>molecule_x</td>\n",
       "      <td>10mg</td>\n",
       "      <td>participants_16</td>\n",
       "      <td>0.019</td>\n",
       "      <td>2013-12-01</td>\n",
       "      <td>participants_16</td>\n",
       "      <td>0.019</td>\n",
       "      <td>none</td>\n",
       "      <td>0.00000</td>\n",
       "    </tr>\n",
       "    <tr>\n",
       "      <th>4</th>\n",
       "      <td>8</td>\n",
       "      <td>2014-03-08</td>\n",
       "      <td>2014-05-22</td>\n",
       "      <td>10</td>\n",
       "      <td>won</td>\n",
       "      <td>lost</td>\n",
       "      <td>buyer_8</td>\n",
       "      <td>region_8</td>\n",
       "      <td>C07AB07</td>\n",
       "      <td>36.0</td>\n",
       "      <td>regional</td>\n",
       "      <td>molecule_x_10mg_tablet</td>\n",
       "      <td>2018-03-22</td>\n",
       "      <td>4</td>\n",
       "      <td>10332</td>\n",
       "      <td>31951.791632</td>\n",
       "      <td>0.08000</td>\n",
       "      <td>molecule_x</td>\n",
       "      <td>10mg</td>\n",
       "      <td>participants_16|participants_5|participants_6|...</td>\n",
       "      <td>0.03|0.08|0.034|0.04066</td>\n",
       "      <td>2014-03-01</td>\n",
       "      <td>participants_16</td>\n",
       "      <td>0.030</td>\n",
       "      <td>participants_6</td>\n",
       "      <td>0.03400</td>\n",
       "    </tr>\n",
       "  </tbody>\n",
       "</table>\n",
       "</div>"
      ],
      "text/plain": [
       "   contract_id published_date start_date  duration_extension outcome  \\\n",
       "0            2     2013-04-29 2013-06-21                   0     won   \n",
       "1            3     2013-06-09 2014-08-14                   6     won   \n",
       "2            4     2013-05-04 2013-05-17                  19     won   \n",
       "3            6     2013-12-06 2014-02-21                  14     won   \n",
       "4            8     2014-03-08 2014-05-22                  10     won   \n",
       "\n",
       "  second_place_outcome    buyer    region      atc  duration contract_type  \\\n",
       "0                 none  buyer_2  region_2  C07AB07      48.0     wide area   \n",
       "1                 lost  buyer_3  region_3  C07AB07      12.0      regional   \n",
       "2                 none  buyer_4  region_4  C07AB07      36.0      regional   \n",
       "3                 none  buyer_6  region_6  C07AB07      48.0      regional   \n",
       "4                 lost  buyer_8  region_8  C07AB07      36.0      regional   \n",
       "\n",
       "                      sku end_date_extension  participants_no  \\\n",
       "0  molecule_x_10mg_tablet         2017-06-30                1   \n",
       "1  molecule_x_10mg_tablet         2016-02-14                2   \n",
       "2  molecule_x_10mg_tablet         2017-12-31                1   \n",
       "3  molecule_x_10mg_tablet         2019-04-20                1   \n",
       "4  molecule_x_10mg_tablet         2018-03-22                4   \n",
       "\n",
       "   quantity_annual  quantity_total  maximum_price_allowed active_ingredient  \\\n",
       "0            54988   220249.442660            63442.21000        molecule_x   \n",
       "1             1904     2680.639219                0.11635        molecule_x   \n",
       "2             1652     5900.676494                0.03000        molecule_x   \n",
       "3             2088     9026.168470                0.02550        molecule_x   \n",
       "4            10332    31951.791632                0.08000        molecule_x   \n",
       "\n",
       "  pack_strength                                       participants  \\\n",
       "0          10mg                                    participants_16   \n",
       "1          10mg                    participants_16|participants_23   \n",
       "2          10mg                                    participants_16   \n",
       "3          10mg                                    participants_16   \n",
       "4          10mg  participants_16|participants_5|participants_6|...   \n",
       "\n",
       "        participants_price published_date_month           winner  \\\n",
       "0                    0.007           2013-04-01  participants_16   \n",
       "1            0.014|0.07071           2013-06-01  participants_16   \n",
       "2                    0.025           2013-05-01  participants_16   \n",
       "3                    0.019           2013-12-01  participants_16   \n",
       "4  0.03|0.08|0.034|0.04066           2014-03-01  participants_16   \n",
       "\n",
       "   winner_price     second_place  second_place_price  \n",
       "0         0.007             none             0.00000  \n",
       "1         0.014  participants_23             0.07071  \n",
       "2         0.025             none             0.00000  \n",
       "3         0.019             none             0.00000  \n",
       "4         0.030   participants_6             0.03400  "
      ]
     },
     "execution_count": 18,
     "metadata": {},
     "output_type": "execute_result"
    }
   ],
   "source": [
    "df = Missing_Values(df = df).fill_none('second_place')\n",
    "df = Missing_Values(df = df).fill_zero(\"second_place_price\")\n",
    "df = Missing_Values(df = df).fill_none(\"second_place_outcome\")\n",
    "df.head()\n"
   ]
  },
  {
   "cell_type": "markdown",
   "metadata": {},
   "source": [
    "Now that we've fixed for second place null values, we shift focus to atc.  \n",
    "\n",
    "It appears to always be the same (ATC may refer to **Anatomical Therapeutic Chemical** code, a classification enforced by the WHO which is uniuqe for a medicine according to the organ or system it works on and how it works).\n",
    "\n",
    "To handle missing values we will create a dictionary that corresponds skus to atc."
   ]
  },
  {
   "cell_type": "code",
   "execution_count": 19,
   "metadata": {},
   "outputs": [
    {
     "data": {
      "text/plain": [
       "contract_id              0\n",
       "published_date           0\n",
       "start_date               0\n",
       "duration_extension       0\n",
       "outcome                  0\n",
       "second_place_outcome     0\n",
       "buyer                    0\n",
       "region                   0\n",
       "atc                      0\n",
       "duration                 0\n",
       "contract_type            0\n",
       "sku                      0\n",
       "end_date_extension       0\n",
       "participants_no          0\n",
       "quantity_annual          0\n",
       "quantity_total           0\n",
       "maximum_price_allowed    0\n",
       "active_ingredient        0\n",
       "pack_strength            0\n",
       "participants             0\n",
       "participants_price       0\n",
       "published_date_month     0\n",
       "winner                   0\n",
       "winner_price             0\n",
       "second_place             0\n",
       "second_place_price       0\n",
       "dtype: int64"
      ]
     },
     "execution_count": 19,
     "metadata": {},
     "output_type": "execute_result"
    }
   ],
   "source": [
    "sku_to_atc = df.dropna().set_index('sku').to_dict()['atc']\n",
    "df['atc'] = df['sku'].map(sku_to_atc)\n",
    "Missing_Values(df = df).display_missing_values()"
   ]
  },
  {
   "cell_type": "markdown",
   "metadata": {},
   "source": [
    "# Duplicates\n",
    "\n",
    "To ensure consistent data, we will use contract_id as a reference to understand if we have duplicates in the dataset or not. "
   ]
  },
  {
   "cell_type": "code",
   "execution_count": 20,
   "metadata": {},
   "outputs": [
    {
     "data": {
      "text/plain": [
       "0"
      ]
     },
     "execution_count": 20,
     "metadata": {},
     "output_type": "execute_result"
    }
   ],
   "source": [
    "Data_Validation(df= df).duplicates(col = 'contract_id')"
   ]
  },
  {
   "cell_type": "code",
   "execution_count": 21,
   "metadata": {},
   "outputs": [
    {
     "data": {
      "text/html": [
       "<div>\n",
       "<style scoped>\n",
       "    .dataframe tbody tr th:only-of-type {\n",
       "        vertical-align: middle;\n",
       "    }\n",
       "\n",
       "    .dataframe tbody tr th {\n",
       "        vertical-align: top;\n",
       "    }\n",
       "\n",
       "    .dataframe thead th {\n",
       "        text-align: right;\n",
       "    }\n",
       "</style>\n",
       "<table border=\"1\" class=\"dataframe\">\n",
       "  <thead>\n",
       "    <tr style=\"text-align: right;\">\n",
       "      <th></th>\n",
       "      <th>contract_id</th>\n",
       "      <th>published_date</th>\n",
       "      <th>start_date</th>\n",
       "      <th>duration_extension</th>\n",
       "      <th>outcome</th>\n",
       "      <th>second_place_outcome</th>\n",
       "      <th>buyer</th>\n",
       "      <th>region</th>\n",
       "      <th>atc</th>\n",
       "      <th>duration</th>\n",
       "      <th>contract_type</th>\n",
       "      <th>sku</th>\n",
       "      <th>end_date_extension</th>\n",
       "      <th>participants_no</th>\n",
       "      <th>quantity_annual</th>\n",
       "      <th>quantity_total</th>\n",
       "      <th>maximum_price_allowed</th>\n",
       "      <th>active_ingredient</th>\n",
       "      <th>pack_strength</th>\n",
       "      <th>participants</th>\n",
       "      <th>participants_price</th>\n",
       "      <th>published_date_month</th>\n",
       "      <th>winner</th>\n",
       "      <th>winner_price</th>\n",
       "      <th>second_place</th>\n",
       "      <th>second_place_price</th>\n",
       "    </tr>\n",
       "  </thead>\n",
       "  <tbody>\n",
       "    <tr>\n",
       "      <th>0</th>\n",
       "      <td>2</td>\n",
       "      <td>2013-04-29</td>\n",
       "      <td>2013-06-21</td>\n",
       "      <td>0</td>\n",
       "      <td>won</td>\n",
       "      <td>none</td>\n",
       "      <td>buyer_2</td>\n",
       "      <td>region_2</td>\n",
       "      <td>C07AB07</td>\n",
       "      <td>48.0</td>\n",
       "      <td>wide area</td>\n",
       "      <td>molecule_x_10mg_tablet</td>\n",
       "      <td>2017-06-30</td>\n",
       "      <td>1</td>\n",
       "      <td>54988</td>\n",
       "      <td>220249.442660</td>\n",
       "      <td>63442.21000</td>\n",
       "      <td>molecule_x</td>\n",
       "      <td>10mg</td>\n",
       "      <td>participants_16</td>\n",
       "      <td>0.007</td>\n",
       "      <td>2013-04-01</td>\n",
       "      <td>participants_16</td>\n",
       "      <td>0.007</td>\n",
       "      <td>none</td>\n",
       "      <td>0.00000</td>\n",
       "    </tr>\n",
       "    <tr>\n",
       "      <th>1</th>\n",
       "      <td>3</td>\n",
       "      <td>2013-06-09</td>\n",
       "      <td>2014-08-14</td>\n",
       "      <td>6</td>\n",
       "      <td>won</td>\n",
       "      <td>lost</td>\n",
       "      <td>buyer_3</td>\n",
       "      <td>region_3</td>\n",
       "      <td>C07AB07</td>\n",
       "      <td>12.0</td>\n",
       "      <td>regional</td>\n",
       "      <td>molecule_x_10mg_tablet</td>\n",
       "      <td>2016-02-14</td>\n",
       "      <td>2</td>\n",
       "      <td>1904</td>\n",
       "      <td>2680.639219</td>\n",
       "      <td>0.11635</td>\n",
       "      <td>molecule_x</td>\n",
       "      <td>10mg</td>\n",
       "      <td>participants_16|participants_23</td>\n",
       "      <td>0.014|0.07071</td>\n",
       "      <td>2013-06-01</td>\n",
       "      <td>participants_16</td>\n",
       "      <td>0.014</td>\n",
       "      <td>participants_23</td>\n",
       "      <td>0.07071</td>\n",
       "    </tr>\n",
       "    <tr>\n",
       "      <th>2</th>\n",
       "      <td>4</td>\n",
       "      <td>2013-05-04</td>\n",
       "      <td>2013-05-17</td>\n",
       "      <td>19</td>\n",
       "      <td>won</td>\n",
       "      <td>none</td>\n",
       "      <td>buyer_4</td>\n",
       "      <td>region_4</td>\n",
       "      <td>C07AB07</td>\n",
       "      <td>36.0</td>\n",
       "      <td>regional</td>\n",
       "      <td>molecule_x_10mg_tablet</td>\n",
       "      <td>2017-12-31</td>\n",
       "      <td>1</td>\n",
       "      <td>1652</td>\n",
       "      <td>5900.676494</td>\n",
       "      <td>0.03000</td>\n",
       "      <td>molecule_x</td>\n",
       "      <td>10mg</td>\n",
       "      <td>participants_16</td>\n",
       "      <td>0.025</td>\n",
       "      <td>2013-05-01</td>\n",
       "      <td>participants_16</td>\n",
       "      <td>0.025</td>\n",
       "      <td>none</td>\n",
       "      <td>0.00000</td>\n",
       "    </tr>\n",
       "    <tr>\n",
       "      <th>3</th>\n",
       "      <td>6</td>\n",
       "      <td>2013-12-06</td>\n",
       "      <td>2014-02-21</td>\n",
       "      <td>14</td>\n",
       "      <td>won</td>\n",
       "      <td>none</td>\n",
       "      <td>buyer_6</td>\n",
       "      <td>region_6</td>\n",
       "      <td>C07AB07</td>\n",
       "      <td>48.0</td>\n",
       "      <td>regional</td>\n",
       "      <td>molecule_x_10mg_tablet</td>\n",
       "      <td>2019-04-20</td>\n",
       "      <td>1</td>\n",
       "      <td>2088</td>\n",
       "      <td>9026.168470</td>\n",
       "      <td>0.02550</td>\n",
       "      <td>molecule_x</td>\n",
       "      <td>10mg</td>\n",
       "      <td>participants_16</td>\n",
       "      <td>0.019</td>\n",
       "      <td>2013-12-01</td>\n",
       "      <td>participants_16</td>\n",
       "      <td>0.019</td>\n",
       "      <td>none</td>\n",
       "      <td>0.00000</td>\n",
       "    </tr>\n",
       "    <tr>\n",
       "      <th>4</th>\n",
       "      <td>8</td>\n",
       "      <td>2014-03-08</td>\n",
       "      <td>2014-05-22</td>\n",
       "      <td>10</td>\n",
       "      <td>won</td>\n",
       "      <td>lost</td>\n",
       "      <td>buyer_8</td>\n",
       "      <td>region_8</td>\n",
       "      <td>C07AB07</td>\n",
       "      <td>36.0</td>\n",
       "      <td>regional</td>\n",
       "      <td>molecule_x_10mg_tablet</td>\n",
       "      <td>2018-03-22</td>\n",
       "      <td>4</td>\n",
       "      <td>10332</td>\n",
       "      <td>31951.791632</td>\n",
       "      <td>0.08000</td>\n",
       "      <td>molecule_x</td>\n",
       "      <td>10mg</td>\n",
       "      <td>participants_16|participants_5|participants_6|...</td>\n",
       "      <td>0.03|0.08|0.034|0.04066</td>\n",
       "      <td>2014-03-01</td>\n",
       "      <td>participants_16</td>\n",
       "      <td>0.030</td>\n",
       "      <td>participants_6</td>\n",
       "      <td>0.03400</td>\n",
       "    </tr>\n",
       "  </tbody>\n",
       "</table>\n",
       "</div>"
      ],
      "text/plain": [
       "   contract_id published_date start_date  duration_extension outcome  \\\n",
       "0            2     2013-04-29 2013-06-21                   0     won   \n",
       "1            3     2013-06-09 2014-08-14                   6     won   \n",
       "2            4     2013-05-04 2013-05-17                  19     won   \n",
       "3            6     2013-12-06 2014-02-21                  14     won   \n",
       "4            8     2014-03-08 2014-05-22                  10     won   \n",
       "\n",
       "  second_place_outcome    buyer    region      atc  duration contract_type  \\\n",
       "0                 none  buyer_2  region_2  C07AB07      48.0     wide area   \n",
       "1                 lost  buyer_3  region_3  C07AB07      12.0      regional   \n",
       "2                 none  buyer_4  region_4  C07AB07      36.0      regional   \n",
       "3                 none  buyer_6  region_6  C07AB07      48.0      regional   \n",
       "4                 lost  buyer_8  region_8  C07AB07      36.0      regional   \n",
       "\n",
       "                      sku end_date_extension  participants_no  \\\n",
       "0  molecule_x_10mg_tablet         2017-06-30                1   \n",
       "1  molecule_x_10mg_tablet         2016-02-14                2   \n",
       "2  molecule_x_10mg_tablet         2017-12-31                1   \n",
       "3  molecule_x_10mg_tablet         2019-04-20                1   \n",
       "4  molecule_x_10mg_tablet         2018-03-22                4   \n",
       "\n",
       "   quantity_annual  quantity_total  maximum_price_allowed active_ingredient  \\\n",
       "0            54988   220249.442660            63442.21000        molecule_x   \n",
       "1             1904     2680.639219                0.11635        molecule_x   \n",
       "2             1652     5900.676494                0.03000        molecule_x   \n",
       "3             2088     9026.168470                0.02550        molecule_x   \n",
       "4            10332    31951.791632                0.08000        molecule_x   \n",
       "\n",
       "  pack_strength                                       participants  \\\n",
       "0          10mg                                    participants_16   \n",
       "1          10mg                    participants_16|participants_23   \n",
       "2          10mg                                    participants_16   \n",
       "3          10mg                                    participants_16   \n",
       "4          10mg  participants_16|participants_5|participants_6|...   \n",
       "\n",
       "        participants_price published_date_month           winner  \\\n",
       "0                    0.007           2013-04-01  participants_16   \n",
       "1            0.014|0.07071           2013-06-01  participants_16   \n",
       "2                    0.025           2013-05-01  participants_16   \n",
       "3                    0.019           2013-12-01  participants_16   \n",
       "4  0.03|0.08|0.034|0.04066           2014-03-01  participants_16   \n",
       "\n",
       "   winner_price     second_place  second_place_price  \n",
       "0         0.007             none             0.00000  \n",
       "1         0.014  participants_23             0.07071  \n",
       "2         0.025             none             0.00000  \n",
       "3         0.019             none             0.00000  \n",
       "4         0.030   participants_6             0.03400  "
      ]
     },
     "execution_count": 21,
     "metadata": {},
     "output_type": "execute_result"
    }
   ],
   "source": [
    "df = Data_Validation(df= df).dedup(col = 'contract_id')\n",
    "df.head()"
   ]
  },
  {
   "cell_type": "markdown",
   "metadata": {},
   "source": [
    "# Manual Tasks"
   ]
  },
  {
   "cell_type": "markdown",
   "metadata": {},
   "source": [
    "## Data Review\n",
    "\n",
    "Despite automation, a manual review of the cleansed data is essential to verify that the automated cleansing processes are working as intended and to check for anomalies that might not have bene caught by automated systems. "
   ]
  },
  {
   "cell_type": "markdown",
   "metadata": {},
   "source": [
    "### Visualise Random Samples\n",
    "\n",
    "Checking Random Samples: After running the automations, it is important to randomly sample data and visualise it to understand how the winner_price is behaving after cleansing."
   ]
  },
  {
   "cell_type": "code",
   "execution_count": 22,
   "metadata": {},
   "outputs": [
    {
     "data": {
      "application/vnd.plotly.v1+json": {
       "config": {
        "plotlyServerURL": "https://plot.ly"
       },
       "data": [
        {
         "alignmentgroup": "True",
         "hovertemplate": "winner_price=%{x}<extra></extra>",
         "legendgroup": "",
         "marker": {
          "color": "#636efa"
         },
         "name": "",
         "notched": false,
         "offsetgroup": "",
         "orientation": "h",
         "showlegend": false,
         "type": "box",
         "x": [
          0.007,
          0.014,
          0.025,
          0.019,
          0.03,
          0.01699,
          0.02,
          0.017,
          0.02,
          0.02,
          0.01786,
          0.01786,
          0.01607,
          0.0125,
          0.0205,
          0.0123,
          0.018,
          0.0122,
          0.015,
          0.02393,
          0.015,
          0.0155
         ],
         "x0": " ",
         "xaxis": "x",
         "y0": " ",
         "yaxis": "y"
        }
       ],
       "layout": {
        "boxmode": "group",
        "legend": {
         "tracegroupgap": 0
        },
        "template": {
         "data": {
          "bar": [
           {
            "error_x": {
             "color": "#2a3f5f"
            },
            "error_y": {
             "color": "#2a3f5f"
            },
            "marker": {
             "line": {
              "color": "#E5ECF6",
              "width": 0.5
             },
             "pattern": {
              "fillmode": "overlay",
              "size": 10,
              "solidity": 0.2
             }
            },
            "type": "bar"
           }
          ],
          "barpolar": [
           {
            "marker": {
             "line": {
              "color": "#E5ECF6",
              "width": 0.5
             },
             "pattern": {
              "fillmode": "overlay",
              "size": 10,
              "solidity": 0.2
             }
            },
            "type": "barpolar"
           }
          ],
          "carpet": [
           {
            "aaxis": {
             "endlinecolor": "#2a3f5f",
             "gridcolor": "white",
             "linecolor": "white",
             "minorgridcolor": "white",
             "startlinecolor": "#2a3f5f"
            },
            "baxis": {
             "endlinecolor": "#2a3f5f",
             "gridcolor": "white",
             "linecolor": "white",
             "minorgridcolor": "white",
             "startlinecolor": "#2a3f5f"
            },
            "type": "carpet"
           }
          ],
          "choropleth": [
           {
            "colorbar": {
             "outlinewidth": 0,
             "ticks": ""
            },
            "type": "choropleth"
           }
          ],
          "contour": [
           {
            "colorbar": {
             "outlinewidth": 0,
             "ticks": ""
            },
            "colorscale": [
             [
              0,
              "#0d0887"
             ],
             [
              0.1111111111111111,
              "#46039f"
             ],
             [
              0.2222222222222222,
              "#7201a8"
             ],
             [
              0.3333333333333333,
              "#9c179e"
             ],
             [
              0.4444444444444444,
              "#bd3786"
             ],
             [
              0.5555555555555556,
              "#d8576b"
             ],
             [
              0.6666666666666666,
              "#ed7953"
             ],
             [
              0.7777777777777778,
              "#fb9f3a"
             ],
             [
              0.8888888888888888,
              "#fdca26"
             ],
             [
              1,
              "#f0f921"
             ]
            ],
            "type": "contour"
           }
          ],
          "contourcarpet": [
           {
            "colorbar": {
             "outlinewidth": 0,
             "ticks": ""
            },
            "type": "contourcarpet"
           }
          ],
          "heatmap": [
           {
            "colorbar": {
             "outlinewidth": 0,
             "ticks": ""
            },
            "colorscale": [
             [
              0,
              "#0d0887"
             ],
             [
              0.1111111111111111,
              "#46039f"
             ],
             [
              0.2222222222222222,
              "#7201a8"
             ],
             [
              0.3333333333333333,
              "#9c179e"
             ],
             [
              0.4444444444444444,
              "#bd3786"
             ],
             [
              0.5555555555555556,
              "#d8576b"
             ],
             [
              0.6666666666666666,
              "#ed7953"
             ],
             [
              0.7777777777777778,
              "#fb9f3a"
             ],
             [
              0.8888888888888888,
              "#fdca26"
             ],
             [
              1,
              "#f0f921"
             ]
            ],
            "type": "heatmap"
           }
          ],
          "heatmapgl": [
           {
            "colorbar": {
             "outlinewidth": 0,
             "ticks": ""
            },
            "colorscale": [
             [
              0,
              "#0d0887"
             ],
             [
              0.1111111111111111,
              "#46039f"
             ],
             [
              0.2222222222222222,
              "#7201a8"
             ],
             [
              0.3333333333333333,
              "#9c179e"
             ],
             [
              0.4444444444444444,
              "#bd3786"
             ],
             [
              0.5555555555555556,
              "#d8576b"
             ],
             [
              0.6666666666666666,
              "#ed7953"
             ],
             [
              0.7777777777777778,
              "#fb9f3a"
             ],
             [
              0.8888888888888888,
              "#fdca26"
             ],
             [
              1,
              "#f0f921"
             ]
            ],
            "type": "heatmapgl"
           }
          ],
          "histogram": [
           {
            "marker": {
             "pattern": {
              "fillmode": "overlay",
              "size": 10,
              "solidity": 0.2
             }
            },
            "type": "histogram"
           }
          ],
          "histogram2d": [
           {
            "colorbar": {
             "outlinewidth": 0,
             "ticks": ""
            },
            "colorscale": [
             [
              0,
              "#0d0887"
             ],
             [
              0.1111111111111111,
              "#46039f"
             ],
             [
              0.2222222222222222,
              "#7201a8"
             ],
             [
              0.3333333333333333,
              "#9c179e"
             ],
             [
              0.4444444444444444,
              "#bd3786"
             ],
             [
              0.5555555555555556,
              "#d8576b"
             ],
             [
              0.6666666666666666,
              "#ed7953"
             ],
             [
              0.7777777777777778,
              "#fb9f3a"
             ],
             [
              0.8888888888888888,
              "#fdca26"
             ],
             [
              1,
              "#f0f921"
             ]
            ],
            "type": "histogram2d"
           }
          ],
          "histogram2dcontour": [
           {
            "colorbar": {
             "outlinewidth": 0,
             "ticks": ""
            },
            "colorscale": [
             [
              0,
              "#0d0887"
             ],
             [
              0.1111111111111111,
              "#46039f"
             ],
             [
              0.2222222222222222,
              "#7201a8"
             ],
             [
              0.3333333333333333,
              "#9c179e"
             ],
             [
              0.4444444444444444,
              "#bd3786"
             ],
             [
              0.5555555555555556,
              "#d8576b"
             ],
             [
              0.6666666666666666,
              "#ed7953"
             ],
             [
              0.7777777777777778,
              "#fb9f3a"
             ],
             [
              0.8888888888888888,
              "#fdca26"
             ],
             [
              1,
              "#f0f921"
             ]
            ],
            "type": "histogram2dcontour"
           }
          ],
          "mesh3d": [
           {
            "colorbar": {
             "outlinewidth": 0,
             "ticks": ""
            },
            "type": "mesh3d"
           }
          ],
          "parcoords": [
           {
            "line": {
             "colorbar": {
              "outlinewidth": 0,
              "ticks": ""
             }
            },
            "type": "parcoords"
           }
          ],
          "pie": [
           {
            "automargin": true,
            "type": "pie"
           }
          ],
          "scatter": [
           {
            "fillpattern": {
             "fillmode": "overlay",
             "size": 10,
             "solidity": 0.2
            },
            "type": "scatter"
           }
          ],
          "scatter3d": [
           {
            "line": {
             "colorbar": {
              "outlinewidth": 0,
              "ticks": ""
             }
            },
            "marker": {
             "colorbar": {
              "outlinewidth": 0,
              "ticks": ""
             }
            },
            "type": "scatter3d"
           }
          ],
          "scattercarpet": [
           {
            "marker": {
             "colorbar": {
              "outlinewidth": 0,
              "ticks": ""
             }
            },
            "type": "scattercarpet"
           }
          ],
          "scattergeo": [
           {
            "marker": {
             "colorbar": {
              "outlinewidth": 0,
              "ticks": ""
             }
            },
            "type": "scattergeo"
           }
          ],
          "scattergl": [
           {
            "marker": {
             "colorbar": {
              "outlinewidth": 0,
              "ticks": ""
             }
            },
            "type": "scattergl"
           }
          ],
          "scattermapbox": [
           {
            "marker": {
             "colorbar": {
              "outlinewidth": 0,
              "ticks": ""
             }
            },
            "type": "scattermapbox"
           }
          ],
          "scatterpolar": [
           {
            "marker": {
             "colorbar": {
              "outlinewidth": 0,
              "ticks": ""
             }
            },
            "type": "scatterpolar"
           }
          ],
          "scatterpolargl": [
           {
            "marker": {
             "colorbar": {
              "outlinewidth": 0,
              "ticks": ""
             }
            },
            "type": "scatterpolargl"
           }
          ],
          "scatterternary": [
           {
            "marker": {
             "colorbar": {
              "outlinewidth": 0,
              "ticks": ""
             }
            },
            "type": "scatterternary"
           }
          ],
          "surface": [
           {
            "colorbar": {
             "outlinewidth": 0,
             "ticks": ""
            },
            "colorscale": [
             [
              0,
              "#0d0887"
             ],
             [
              0.1111111111111111,
              "#46039f"
             ],
             [
              0.2222222222222222,
              "#7201a8"
             ],
             [
              0.3333333333333333,
              "#9c179e"
             ],
             [
              0.4444444444444444,
              "#bd3786"
             ],
             [
              0.5555555555555556,
              "#d8576b"
             ],
             [
              0.6666666666666666,
              "#ed7953"
             ],
             [
              0.7777777777777778,
              "#fb9f3a"
             ],
             [
              0.8888888888888888,
              "#fdca26"
             ],
             [
              1,
              "#f0f921"
             ]
            ],
            "type": "surface"
           }
          ],
          "table": [
           {
            "cells": {
             "fill": {
              "color": "#EBF0F8"
             },
             "line": {
              "color": "white"
             }
            },
            "header": {
             "fill": {
              "color": "#C8D4E3"
             },
             "line": {
              "color": "white"
             }
            },
            "type": "table"
           }
          ]
         },
         "layout": {
          "annotationdefaults": {
           "arrowcolor": "#2a3f5f",
           "arrowhead": 0,
           "arrowwidth": 1
          },
          "autotypenumbers": "strict",
          "coloraxis": {
           "colorbar": {
            "outlinewidth": 0,
            "ticks": ""
           }
          },
          "colorscale": {
           "diverging": [
            [
             0,
             "#8e0152"
            ],
            [
             0.1,
             "#c51b7d"
            ],
            [
             0.2,
             "#de77ae"
            ],
            [
             0.3,
             "#f1b6da"
            ],
            [
             0.4,
             "#fde0ef"
            ],
            [
             0.5,
             "#f7f7f7"
            ],
            [
             0.6,
             "#e6f5d0"
            ],
            [
             0.7,
             "#b8e186"
            ],
            [
             0.8,
             "#7fbc41"
            ],
            [
             0.9,
             "#4d9221"
            ],
            [
             1,
             "#276419"
            ]
           ],
           "sequential": [
            [
             0,
             "#0d0887"
            ],
            [
             0.1111111111111111,
             "#46039f"
            ],
            [
             0.2222222222222222,
             "#7201a8"
            ],
            [
             0.3333333333333333,
             "#9c179e"
            ],
            [
             0.4444444444444444,
             "#bd3786"
            ],
            [
             0.5555555555555556,
             "#d8576b"
            ],
            [
             0.6666666666666666,
             "#ed7953"
            ],
            [
             0.7777777777777778,
             "#fb9f3a"
            ],
            [
             0.8888888888888888,
             "#fdca26"
            ],
            [
             1,
             "#f0f921"
            ]
           ],
           "sequentialminus": [
            [
             0,
             "#0d0887"
            ],
            [
             0.1111111111111111,
             "#46039f"
            ],
            [
             0.2222222222222222,
             "#7201a8"
            ],
            [
             0.3333333333333333,
             "#9c179e"
            ],
            [
             0.4444444444444444,
             "#bd3786"
            ],
            [
             0.5555555555555556,
             "#d8576b"
            ],
            [
             0.6666666666666666,
             "#ed7953"
            ],
            [
             0.7777777777777778,
             "#fb9f3a"
            ],
            [
             0.8888888888888888,
             "#fdca26"
            ],
            [
             1,
             "#f0f921"
            ]
           ]
          },
          "colorway": [
           "#636efa",
           "#EF553B",
           "#00cc96",
           "#ab63fa",
           "#FFA15A",
           "#19d3f3",
           "#FF6692",
           "#B6E880",
           "#FF97FF",
           "#FECB52"
          ],
          "font": {
           "color": "#2a3f5f"
          },
          "geo": {
           "bgcolor": "white",
           "lakecolor": "white",
           "landcolor": "#E5ECF6",
           "showlakes": true,
           "showland": true,
           "subunitcolor": "white"
          },
          "hoverlabel": {
           "align": "left"
          },
          "hovermode": "closest",
          "mapbox": {
           "style": "light"
          },
          "paper_bgcolor": "white",
          "plot_bgcolor": "#E5ECF6",
          "polar": {
           "angularaxis": {
            "gridcolor": "white",
            "linecolor": "white",
            "ticks": ""
           },
           "bgcolor": "#E5ECF6",
           "radialaxis": {
            "gridcolor": "white",
            "linecolor": "white",
            "ticks": ""
           }
          },
          "scene": {
           "xaxis": {
            "backgroundcolor": "#E5ECF6",
            "gridcolor": "white",
            "gridwidth": 2,
            "linecolor": "white",
            "showbackground": true,
            "ticks": "",
            "zerolinecolor": "white"
           },
           "yaxis": {
            "backgroundcolor": "#E5ECF6",
            "gridcolor": "white",
            "gridwidth": 2,
            "linecolor": "white",
            "showbackground": true,
            "ticks": "",
            "zerolinecolor": "white"
           },
           "zaxis": {
            "backgroundcolor": "#E5ECF6",
            "gridcolor": "white",
            "gridwidth": 2,
            "linecolor": "white",
            "showbackground": true,
            "ticks": "",
            "zerolinecolor": "white"
           }
          },
          "shapedefaults": {
           "line": {
            "color": "#2a3f5f"
           }
          },
          "ternary": {
           "aaxis": {
            "gridcolor": "white",
            "linecolor": "white",
            "ticks": ""
           },
           "baxis": {
            "gridcolor": "white",
            "linecolor": "white",
            "ticks": ""
           },
           "bgcolor": "#E5ECF6",
           "caxis": {
            "gridcolor": "white",
            "linecolor": "white",
            "ticks": ""
           }
          },
          "title": {
           "x": 0.05
          },
          "xaxis": {
           "automargin": true,
           "gridcolor": "white",
           "linecolor": "white",
           "ticks": "",
           "title": {
            "standoff": 15
           },
           "zerolinecolor": "white",
           "zerolinewidth": 2
          },
          "yaxis": {
           "automargin": true,
           "gridcolor": "white",
           "linecolor": "white",
           "ticks": "",
           "title": {
            "standoff": 15
           },
           "zerolinecolor": "white",
           "zerolinewidth": 2
          }
         }
        },
        "title": {
         "text": "Winner price Box Plot"
        },
        "xaxis": {
         "anchor": "y",
         "domain": [
          0,
          1
         ],
         "title": {
          "text": "winner_price"
         }
        },
        "yaxis": {
         "anchor": "x",
         "domain": [
          0,
          1
         ]
        }
       }
      }
     },
     "metadata": {},
     "output_type": "display_data"
    }
   ],
   "source": [
    "# box plot the Winner Price\n",
    "px.box(df, x = df['winner_price'], title=\"Winner price Box Plot\")\n",
    "\n"
   ]
  },
  {
   "cell_type": "code",
   "execution_count": 23,
   "metadata": {},
   "outputs": [
    {
     "data": {
      "text/html": [
       "<div>\n",
       "<style scoped>\n",
       "    .dataframe tbody tr th:only-of-type {\n",
       "        vertical-align: middle;\n",
       "    }\n",
       "\n",
       "    .dataframe tbody tr th {\n",
       "        vertical-align: top;\n",
       "    }\n",
       "\n",
       "    .dataframe thead th {\n",
       "        text-align: right;\n",
       "    }\n",
       "</style>\n",
       "<table border=\"1\" class=\"dataframe\">\n",
       "  <thead>\n",
       "    <tr style=\"text-align: right;\">\n",
       "      <th></th>\n",
       "      <th>contract_id</th>\n",
       "      <th>published_date</th>\n",
       "      <th>start_date</th>\n",
       "      <th>duration_extension</th>\n",
       "      <th>outcome</th>\n",
       "      <th>second_place_outcome</th>\n",
       "      <th>buyer</th>\n",
       "      <th>region</th>\n",
       "      <th>atc</th>\n",
       "      <th>duration</th>\n",
       "      <th>contract_type</th>\n",
       "      <th>sku</th>\n",
       "      <th>end_date_extension</th>\n",
       "      <th>participants_no</th>\n",
       "      <th>quantity_annual</th>\n",
       "      <th>quantity_total</th>\n",
       "      <th>maximum_price_allowed</th>\n",
       "      <th>active_ingredient</th>\n",
       "      <th>pack_strength</th>\n",
       "      <th>participants</th>\n",
       "      <th>participants_price</th>\n",
       "      <th>published_date_month</th>\n",
       "      <th>winner</th>\n",
       "      <th>winner_price</th>\n",
       "      <th>second_place</th>\n",
       "      <th>second_place_price</th>\n",
       "    </tr>\n",
       "  </thead>\n",
       "  <tbody>\n",
       "    <tr>\n",
       "      <th>1</th>\n",
       "      <td>3</td>\n",
       "      <td>2013-06-09</td>\n",
       "      <td>2014-08-14</td>\n",
       "      <td>6</td>\n",
       "      <td>won</td>\n",
       "      <td>lost</td>\n",
       "      <td>buyer_3</td>\n",
       "      <td>region_3</td>\n",
       "      <td>C07AB07</td>\n",
       "      <td>12.0</td>\n",
       "      <td>regional</td>\n",
       "      <td>molecule_x_10mg_tablet</td>\n",
       "      <td>2016-02-14</td>\n",
       "      <td>2</td>\n",
       "      <td>1904</td>\n",
       "      <td>2.680639e+03</td>\n",
       "      <td>0.11635</td>\n",
       "      <td>molecule_x</td>\n",
       "      <td>10mg</td>\n",
       "      <td>participants_16|participants_23</td>\n",
       "      <td>0.014|0.07071</td>\n",
       "      <td>2013-06-01</td>\n",
       "      <td>participants_16</td>\n",
       "      <td>0.01400</td>\n",
       "      <td>participants_23</td>\n",
       "      <td>0.070710</td>\n",
       "    </tr>\n",
       "    <tr>\n",
       "      <th>4</th>\n",
       "      <td>8</td>\n",
       "      <td>2014-03-08</td>\n",
       "      <td>2014-05-22</td>\n",
       "      <td>10</td>\n",
       "      <td>won</td>\n",
       "      <td>lost</td>\n",
       "      <td>buyer_8</td>\n",
       "      <td>region_8</td>\n",
       "      <td>C07AB07</td>\n",
       "      <td>36.0</td>\n",
       "      <td>regional</td>\n",
       "      <td>molecule_x_10mg_tablet</td>\n",
       "      <td>2018-03-22</td>\n",
       "      <td>4</td>\n",
       "      <td>10332</td>\n",
       "      <td>3.195179e+04</td>\n",
       "      <td>0.08000</td>\n",
       "      <td>molecule_x</td>\n",
       "      <td>10mg</td>\n",
       "      <td>participants_16|participants_5|participants_6|...</td>\n",
       "      <td>0.03|0.08|0.034|0.04066</td>\n",
       "      <td>2014-03-01</td>\n",
       "      <td>participants_16</td>\n",
       "      <td>0.03000</td>\n",
       "      <td>participants_6</td>\n",
       "      <td>0.034000</td>\n",
       "    </tr>\n",
       "    <tr>\n",
       "      <th>5</th>\n",
       "      <td>13</td>\n",
       "      <td>2016-04-13</td>\n",
       "      <td>2016-06-25</td>\n",
       "      <td>6</td>\n",
       "      <td>won</td>\n",
       "      <td>lost</td>\n",
       "      <td>buyer_11</td>\n",
       "      <td>region_11</td>\n",
       "      <td>C07AB07</td>\n",
       "      <td>36.0</td>\n",
       "      <td>regional</td>\n",
       "      <td>molecule_x_10mg_tablet</td>\n",
       "      <td>2019-12-24</td>\n",
       "      <td>4</td>\n",
       "      <td>2800</td>\n",
       "      <td>8.589313e+03</td>\n",
       "      <td>0.07971</td>\n",
       "      <td>molecule_x</td>\n",
       "      <td>10mg</td>\n",
       "      <td>participants_6|participants_16|participants_23...</td>\n",
       "      <td>0.01699|0.07|0.06802|0.075</td>\n",
       "      <td>2016-04-01</td>\n",
       "      <td>participants_6</td>\n",
       "      <td>0.01699</td>\n",
       "      <td>participants_23</td>\n",
       "      <td>0.068020</td>\n",
       "    </tr>\n",
       "    <tr>\n",
       "      <th>7</th>\n",
       "      <td>16</td>\n",
       "      <td>2017-12-29</td>\n",
       "      <td>2018-03-30</td>\n",
       "      <td>26</td>\n",
       "      <td>won</td>\n",
       "      <td>lost</td>\n",
       "      <td>buyer_14</td>\n",
       "      <td>region_4</td>\n",
       "      <td>C07AB07</td>\n",
       "      <td>48.0</td>\n",
       "      <td>regional</td>\n",
       "      <td>molecule_x_10mg_tablet</td>\n",
       "      <td>2024-05-30</td>\n",
       "      <td>2</td>\n",
       "      <td>14476</td>\n",
       "      <td>5.803268e+04</td>\n",
       "      <td>0.02500</td>\n",
       "      <td>molecule_x</td>\n",
       "      <td>10mg</td>\n",
       "      <td>participants_16|participants_4</td>\n",
       "      <td>0.017|0.0242</td>\n",
       "      <td>2017-12-01</td>\n",
       "      <td>participants_16</td>\n",
       "      <td>0.01700</td>\n",
       "      <td>participants_4</td>\n",
       "      <td>0.024200</td>\n",
       "    </tr>\n",
       "    <tr>\n",
       "      <th>8</th>\n",
       "      <td>17</td>\n",
       "      <td>2018-05-31</td>\n",
       "      <td>2018-04-01</td>\n",
       "      <td>2</td>\n",
       "      <td>won</td>\n",
       "      <td>lost</td>\n",
       "      <td>buyer_5</td>\n",
       "      <td>region_5</td>\n",
       "      <td>C07AB07</td>\n",
       "      <td>24.0</td>\n",
       "      <td>multi-region</td>\n",
       "      <td>molecule_x_10mg_tablet</td>\n",
       "      <td>2020-05-31</td>\n",
       "      <td>2</td>\n",
       "      <td>32875</td>\n",
       "      <td>6.652793e+04</td>\n",
       "      <td>0.02000</td>\n",
       "      <td>molecule_x</td>\n",
       "      <td>10mg</td>\n",
       "      <td>participants_16|participants_7</td>\n",
       "      <td>0.02|0.9993156095718888</td>\n",
       "      <td>2018-05-01</td>\n",
       "      <td>participants_16</td>\n",
       "      <td>0.02000</td>\n",
       "      <td>participants_7</td>\n",
       "      <td>0.999316</td>\n",
       "    </tr>\n",
       "    <tr>\n",
       "      <th>9</th>\n",
       "      <td>18</td>\n",
       "      <td>2019-05-26</td>\n",
       "      <td>2019-07-02</td>\n",
       "      <td>6</td>\n",
       "      <td>won</td>\n",
       "      <td>lost</td>\n",
       "      <td>buyer_3</td>\n",
       "      <td>region_3</td>\n",
       "      <td>C07AB07</td>\n",
       "      <td>36.0</td>\n",
       "      <td>regional</td>\n",
       "      <td>molecule_x_10mg_tablet</td>\n",
       "      <td>2023-01-01</td>\n",
       "      <td>2</td>\n",
       "      <td>20993</td>\n",
       "      <td>6.390429e+04</td>\n",
       "      <td>0.02200</td>\n",
       "      <td>molecule_x</td>\n",
       "      <td>10mg</td>\n",
       "      <td>participants_16|participants_19</td>\n",
       "      <td>0.02|0.8665684755636098</td>\n",
       "      <td>2019-05-01</td>\n",
       "      <td>participants_16</td>\n",
       "      <td>0.02000</td>\n",
       "      <td>participants_19</td>\n",
       "      <td>0.866568</td>\n",
       "    </tr>\n",
       "    <tr>\n",
       "      <th>10</th>\n",
       "      <td>19</td>\n",
       "      <td>2020-01-01</td>\n",
       "      <td>2020-08-04</td>\n",
       "      <td>0</td>\n",
       "      <td>won</td>\n",
       "      <td>lost</td>\n",
       "      <td>buyer_11</td>\n",
       "      <td>region_11</td>\n",
       "      <td>C07AB07</td>\n",
       "      <td>36.0</td>\n",
       "      <td>regional</td>\n",
       "      <td>molecule_x_10mg_tablet</td>\n",
       "      <td>2023-08-03</td>\n",
       "      <td>3</td>\n",
       "      <td>2680</td>\n",
       "      <td>8.426468e+03</td>\n",
       "      <td>0.07971</td>\n",
       "      <td>molecule_x</td>\n",
       "      <td>10mg</td>\n",
       "      <td>participants_19|participants_16|participants_23</td>\n",
       "      <td>0.01786|0.07|0.06511</td>\n",
       "      <td>2020-01-01</td>\n",
       "      <td>participants_19</td>\n",
       "      <td>0.01786</td>\n",
       "      <td>participants_23</td>\n",
       "      <td>0.065110</td>\n",
       "    </tr>\n",
       "    <tr>\n",
       "      <th>11</th>\n",
       "      <td>20</td>\n",
       "      <td>2019-12-19</td>\n",
       "      <td>2020-08-04</td>\n",
       "      <td>0</td>\n",
       "      <td>won</td>\n",
       "      <td>lost</td>\n",
       "      <td>buyer_11</td>\n",
       "      <td>region_11</td>\n",
       "      <td>C07AB07</td>\n",
       "      <td>36.0</td>\n",
       "      <td>regional</td>\n",
       "      <td>molecule_x_10mg_tablet</td>\n",
       "      <td>2023-08-03</td>\n",
       "      <td>3</td>\n",
       "      <td>2680</td>\n",
       "      <td>8.833156e+03</td>\n",
       "      <td>0.07971</td>\n",
       "      <td>molecule_x</td>\n",
       "      <td>10mg</td>\n",
       "      <td>participants_19|participants_16|participants_23</td>\n",
       "      <td>0.01786|0.07|0.06511</td>\n",
       "      <td>2019-12-01</td>\n",
       "      <td>participants_19</td>\n",
       "      <td>0.01786</td>\n",
       "      <td>participants_23</td>\n",
       "      <td>0.065110</td>\n",
       "    </tr>\n",
       "    <tr>\n",
       "      <th>14</th>\n",
       "      <td>24</td>\n",
       "      <td>2020-10-11</td>\n",
       "      <td>2020-11-25</td>\n",
       "      <td>0</td>\n",
       "      <td>won</td>\n",
       "      <td>lost</td>\n",
       "      <td>buyer_2</td>\n",
       "      <td>region_2</td>\n",
       "      <td>C07AB07</td>\n",
       "      <td>49.0</td>\n",
       "      <td>regional</td>\n",
       "      <td>molecule_x_10mg_tablet</td>\n",
       "      <td>2024-12-25</td>\n",
       "      <td>2</td>\n",
       "      <td>288795</td>\n",
       "      <td>1.179787e+06</td>\n",
       "      <td>963542.28000</td>\n",
       "      <td>molecule_x</td>\n",
       "      <td>10mg</td>\n",
       "      <td>participants_19|participants_23</td>\n",
       "      <td>0.0205|0.03929</td>\n",
       "      <td>2020-10-01</td>\n",
       "      <td>participants_19</td>\n",
       "      <td>0.02050</td>\n",
       "      <td>participants_23</td>\n",
       "      <td>0.039290</td>\n",
       "    </tr>\n",
       "    <tr>\n",
       "      <th>18</th>\n",
       "      <td>28</td>\n",
       "      <td>2022-07-02</td>\n",
       "      <td>2022-08-04</td>\n",
       "      <td>12</td>\n",
       "      <td>won</td>\n",
       "      <td>lost</td>\n",
       "      <td>buyer_19</td>\n",
       "      <td>region_6</td>\n",
       "      <td>C07AB07</td>\n",
       "      <td>12.0</td>\n",
       "      <td>regional</td>\n",
       "      <td>molecule_x_10mg_tablet</td>\n",
       "      <td>2024-08-03</td>\n",
       "      <td>2</td>\n",
       "      <td>5488</td>\n",
       "      <td>6.263290e+03</td>\n",
       "      <td>0.01600</td>\n",
       "      <td>molecule_x</td>\n",
       "      <td>10mg</td>\n",
       "      <td>participants_19|participants_23</td>\n",
       "      <td>0.015|0.01571</td>\n",
       "      <td>2022-07-01</td>\n",
       "      <td>participants_19</td>\n",
       "      <td>0.01500</td>\n",
       "      <td>participants_23</td>\n",
       "      <td>0.015710</td>\n",
       "    </tr>\n",
       "    <tr>\n",
       "      <th>20</th>\n",
       "      <td>30</td>\n",
       "      <td>2023-07-09</td>\n",
       "      <td>2023-08-01</td>\n",
       "      <td>0</td>\n",
       "      <td>won</td>\n",
       "      <td>lost</td>\n",
       "      <td>buyer_19</td>\n",
       "      <td>region_6</td>\n",
       "      <td>C07AB07</td>\n",
       "      <td>24.0</td>\n",
       "      <td>regional</td>\n",
       "      <td>molecule_x_10mg_tablet</td>\n",
       "      <td>2025-07-31</td>\n",
       "      <td>3</td>\n",
       "      <td>2820</td>\n",
       "      <td>5.758721e+03</td>\n",
       "      <td>0.03000</td>\n",
       "      <td>molecule_x</td>\n",
       "      <td>10mg</td>\n",
       "      <td>participants_19|participants_16|participants_23</td>\n",
       "      <td>0.015|0.025|0.02679</td>\n",
       "      <td>2023-07-01</td>\n",
       "      <td>participants_19</td>\n",
       "      <td>0.01500</td>\n",
       "      <td>participants_16</td>\n",
       "      <td>0.025000</td>\n",
       "    </tr>\n",
       "    <tr>\n",
       "      <th>21</th>\n",
       "      <td>31</td>\n",
       "      <td>2023-10-24</td>\n",
       "      <td>2023-09-26</td>\n",
       "      <td>6</td>\n",
       "      <td>won</td>\n",
       "      <td>lost</td>\n",
       "      <td>buyer_8</td>\n",
       "      <td>region_8</td>\n",
       "      <td>C07AB07</td>\n",
       "      <td>36.0</td>\n",
       "      <td>regional</td>\n",
       "      <td>molecule_x_10mg_tablet</td>\n",
       "      <td>2027-03-30</td>\n",
       "      <td>4</td>\n",
       "      <td>36360</td>\n",
       "      <td>1.099124e+05</td>\n",
       "      <td>0.09322</td>\n",
       "      <td>molecule_x</td>\n",
       "      <td>10mg</td>\n",
       "      <td>participants_19|participants_7|participants_16...</td>\n",
       "      <td>0.0155|0.06256|0.08|0.09286</td>\n",
       "      <td>2023-10-01</td>\n",
       "      <td>participants_19</td>\n",
       "      <td>0.01550</td>\n",
       "      <td>participants_7</td>\n",
       "      <td>0.062560</td>\n",
       "    </tr>\n",
       "  </tbody>\n",
       "</table>\n",
       "</div>"
      ],
      "text/plain": [
       "    contract_id published_date start_date  duration_extension outcome  \\\n",
       "1             3     2013-06-09 2014-08-14                   6     won   \n",
       "4             8     2014-03-08 2014-05-22                  10     won   \n",
       "5            13     2016-04-13 2016-06-25                   6     won   \n",
       "7            16     2017-12-29 2018-03-30                  26     won   \n",
       "8            17     2018-05-31 2018-04-01                   2     won   \n",
       "9            18     2019-05-26 2019-07-02                   6     won   \n",
       "10           19     2020-01-01 2020-08-04                   0     won   \n",
       "11           20     2019-12-19 2020-08-04                   0     won   \n",
       "14           24     2020-10-11 2020-11-25                   0     won   \n",
       "18           28     2022-07-02 2022-08-04                  12     won   \n",
       "20           30     2023-07-09 2023-08-01                   0     won   \n",
       "21           31     2023-10-24 2023-09-26                   6     won   \n",
       "\n",
       "   second_place_outcome     buyer     region      atc  duration contract_type  \\\n",
       "1                  lost   buyer_3   region_3  C07AB07      12.0      regional   \n",
       "4                  lost   buyer_8   region_8  C07AB07      36.0      regional   \n",
       "5                  lost  buyer_11  region_11  C07AB07      36.0      regional   \n",
       "7                  lost  buyer_14   region_4  C07AB07      48.0      regional   \n",
       "8                  lost   buyer_5   region_5  C07AB07      24.0  multi-region   \n",
       "9                  lost   buyer_3   region_3  C07AB07      36.0      regional   \n",
       "10                 lost  buyer_11  region_11  C07AB07      36.0      regional   \n",
       "11                 lost  buyer_11  region_11  C07AB07      36.0      regional   \n",
       "14                 lost   buyer_2   region_2  C07AB07      49.0      regional   \n",
       "18                 lost  buyer_19   region_6  C07AB07      12.0      regional   \n",
       "20                 lost  buyer_19   region_6  C07AB07      24.0      regional   \n",
       "21                 lost   buyer_8   region_8  C07AB07      36.0      regional   \n",
       "\n",
       "                       sku end_date_extension  participants_no  \\\n",
       "1   molecule_x_10mg_tablet         2016-02-14                2   \n",
       "4   molecule_x_10mg_tablet         2018-03-22                4   \n",
       "5   molecule_x_10mg_tablet         2019-12-24                4   \n",
       "7   molecule_x_10mg_tablet         2024-05-30                2   \n",
       "8   molecule_x_10mg_tablet         2020-05-31                2   \n",
       "9   molecule_x_10mg_tablet         2023-01-01                2   \n",
       "10  molecule_x_10mg_tablet         2023-08-03                3   \n",
       "11  molecule_x_10mg_tablet         2023-08-03                3   \n",
       "14  molecule_x_10mg_tablet         2024-12-25                2   \n",
       "18  molecule_x_10mg_tablet         2024-08-03                2   \n",
       "20  molecule_x_10mg_tablet         2025-07-31                3   \n",
       "21  molecule_x_10mg_tablet         2027-03-30                4   \n",
       "\n",
       "    quantity_annual  quantity_total  maximum_price_allowed active_ingredient  \\\n",
       "1              1904    2.680639e+03                0.11635        molecule_x   \n",
       "4             10332    3.195179e+04                0.08000        molecule_x   \n",
       "5              2800    8.589313e+03                0.07971        molecule_x   \n",
       "7             14476    5.803268e+04                0.02500        molecule_x   \n",
       "8             32875    6.652793e+04                0.02000        molecule_x   \n",
       "9             20993    6.390429e+04                0.02200        molecule_x   \n",
       "10             2680    8.426468e+03                0.07971        molecule_x   \n",
       "11             2680    8.833156e+03                0.07971        molecule_x   \n",
       "14           288795    1.179787e+06           963542.28000        molecule_x   \n",
       "18             5488    6.263290e+03                0.01600        molecule_x   \n",
       "20             2820    5.758721e+03                0.03000        molecule_x   \n",
       "21            36360    1.099124e+05                0.09322        molecule_x   \n",
       "\n",
       "   pack_strength                                       participants  \\\n",
       "1           10mg                    participants_16|participants_23   \n",
       "4           10mg  participants_16|participants_5|participants_6|...   \n",
       "5           10mg  participants_6|participants_16|participants_23...   \n",
       "7           10mg                     participants_16|participants_4   \n",
       "8           10mg                     participants_16|participants_7   \n",
       "9           10mg                    participants_16|participants_19   \n",
       "10          10mg    participants_19|participants_16|participants_23   \n",
       "11          10mg    participants_19|participants_16|participants_23   \n",
       "14          10mg                    participants_19|participants_23   \n",
       "18          10mg                    participants_19|participants_23   \n",
       "20          10mg    participants_19|participants_16|participants_23   \n",
       "21          10mg  participants_19|participants_7|participants_16...   \n",
       "\n",
       "             participants_price published_date_month           winner  \\\n",
       "1                 0.014|0.07071           2013-06-01  participants_16   \n",
       "4       0.03|0.08|0.034|0.04066           2014-03-01  participants_16   \n",
       "5    0.01699|0.07|0.06802|0.075           2016-04-01   participants_6   \n",
       "7                  0.017|0.0242           2017-12-01  participants_16   \n",
       "8       0.02|0.9993156095718888           2018-05-01  participants_16   \n",
       "9       0.02|0.8665684755636098           2019-05-01  participants_16   \n",
       "10         0.01786|0.07|0.06511           2020-01-01  participants_19   \n",
       "11         0.01786|0.07|0.06511           2019-12-01  participants_19   \n",
       "14               0.0205|0.03929           2020-10-01  participants_19   \n",
       "18                0.015|0.01571           2022-07-01  participants_19   \n",
       "20          0.015|0.025|0.02679           2023-07-01  participants_19   \n",
       "21  0.0155|0.06256|0.08|0.09286           2023-10-01  participants_19   \n",
       "\n",
       "    winner_price     second_place  second_place_price  \n",
       "1        0.01400  participants_23            0.070710  \n",
       "4        0.03000   participants_6            0.034000  \n",
       "5        0.01699  participants_23            0.068020  \n",
       "7        0.01700   participants_4            0.024200  \n",
       "8        0.02000   participants_7            0.999316  \n",
       "9        0.02000  participants_19            0.866568  \n",
       "10       0.01786  participants_23            0.065110  \n",
       "11       0.01786  participants_23            0.065110  \n",
       "14       0.02050  participants_23            0.039290  \n",
       "18       0.01500  participants_23            0.015710  \n",
       "20       0.01500  participants_16            0.025000  \n",
       "21       0.01550   participants_7            0.062560  "
      ]
     },
     "execution_count": 23,
     "metadata": {},
     "output_type": "execute_result"
    }
   ],
   "source": [
    "df[df['second_place_outcome'] == 'lost']"
   ]
  },
  {
   "cell_type": "markdown",
   "metadata": {},
   "source": [
    "### Validate that winner price is always the smallest price\n",
    "\n",
    "As a business rule, winner price should always be the smallest among all participants' prices. "
   ]
  },
  {
   "cell_type": "code",
   "execution_count": 24,
   "metadata": {},
   "outputs": [
    {
     "data": {
      "text/plain": [
       "True"
      ]
     },
     "execution_count": 24,
     "metadata": {},
     "output_type": "execute_result"
    }
   ],
   "source": [
    "# Check that the winner price is allways the smallest price\n",
    "(df['participants_price'].apply(lambda x: min(x.split(\"|\"))).astype(float)== df.winner_price).all()"
   ]
  },
  {
   "cell_type": "markdown",
   "metadata": {},
   "source": [
    "The winner price is always the lowest price, however, after doing manual checks we found an edge case. "
   ]
  },
  {
   "cell_type": "code",
   "execution_count": 25,
   "metadata": {},
   "outputs": [
    {
     "data": {
      "text/html": [
       "<div>\n",
       "<style scoped>\n",
       "    .dataframe tbody tr th:only-of-type {\n",
       "        vertical-align: middle;\n",
       "    }\n",
       "\n",
       "    .dataframe tbody tr th {\n",
       "        vertical-align: top;\n",
       "    }\n",
       "\n",
       "    .dataframe thead th {\n",
       "        text-align: right;\n",
       "    }\n",
       "</style>\n",
       "<table border=\"1\" class=\"dataframe\">\n",
       "  <thead>\n",
       "    <tr style=\"text-align: right;\">\n",
       "      <th></th>\n",
       "      <th>outcome</th>\n",
       "      <th>second_place_outcome</th>\n",
       "      <th>participants</th>\n",
       "      <th>participants_price</th>\n",
       "      <th>winner</th>\n",
       "      <th>winner_price</th>\n",
       "      <th>second_place</th>\n",
       "      <th>second_place_price</th>\n",
       "    </tr>\n",
       "  </thead>\n",
       "  <tbody>\n",
       "    <tr>\n",
       "      <th>19</th>\n",
       "      <td>lost</td>\n",
       "      <td>won</td>\n",
       "      <td>participants_19|participants_23</td>\n",
       "      <td>0.034|0.02393</td>\n",
       "      <td>participants_23</td>\n",
       "      <td>0.02393</td>\n",
       "      <td>participants_19</td>\n",
       "      <td>0.034</td>\n",
       "    </tr>\n",
       "  </tbody>\n",
       "</table>\n",
       "</div>"
      ],
      "text/plain": [
       "   outcome second_place_outcome                     participants  \\\n",
       "19    lost                  won  participants_19|participants_23   \n",
       "\n",
       "   participants_price           winner  winner_price     second_place  \\\n",
       "19      0.034|0.02393  participants_23       0.02393  participants_19   \n",
       "\n",
       "    second_place_price  \n",
       "19               0.034  "
      ]
     },
     "execution_count": 25,
     "metadata": {},
     "output_type": "execute_result"
    }
   ],
   "source": [
    "df[df['outcome'] == 'lost'][['outcome', 'second_place_outcome', 'participants','participants_price','winner', 'winner_price','second_place','second_place_price']]"
   ]
  },
  {
   "cell_type": "markdown",
   "metadata": {},
   "source": [
    "This case shows that the contract was lost. however, second_place_outcome is won, which should not be the case as the second place price is higher winner_price. \n",
    "This case could be the result of wrong records.\n"
   ]
  },
  {
   "cell_type": "markdown",
   "metadata": {},
   "source": [
    "## Feature Understanding\n",
    "\n",
    "This involved exploring how winner_price interacts with other features in our dataset to uncover deeper insights or potential anomalis that weren't explicitly modeled by our automated scripts"
   ]
  },
  {
   "cell_type": "code",
   "execution_count": 26,
   "metadata": {},
   "outputs": [
    {
     "data": {
      "text/html": [
       "<div>\n",
       "<style scoped>\n",
       "    .dataframe tbody tr th:only-of-type {\n",
       "        vertical-align: middle;\n",
       "    }\n",
       "\n",
       "    .dataframe tbody tr th {\n",
       "        vertical-align: top;\n",
       "    }\n",
       "\n",
       "    .dataframe thead th {\n",
       "        text-align: right;\n",
       "    }\n",
       "</style>\n",
       "<table border=\"1\" class=\"dataframe\">\n",
       "  <thead>\n",
       "    <tr style=\"text-align: right;\">\n",
       "      <th></th>\n",
       "      <th>duration_extension</th>\n",
       "      <th>duration</th>\n",
       "      <th>participants_no</th>\n",
       "      <th>quantity_annual</th>\n",
       "      <th>quantity_total</th>\n",
       "      <th>maximum_price_allowed</th>\n",
       "      <th>winner_price</th>\n",
       "      <th>second_place_price</th>\n",
       "    </tr>\n",
       "  </thead>\n",
       "  <tbody>\n",
       "    <tr>\n",
       "      <th>duration_extension</th>\n",
       "      <td>1.000000</td>\n",
       "      <td>-0.068026</td>\n",
       "      <td>-0.127556</td>\n",
       "      <td>-0.291385</td>\n",
       "      <td>-0.287332</td>\n",
       "      <td>-0.232188</td>\n",
       "      <td>0.391448</td>\n",
       "      <td>-0.167740</td>\n",
       "    </tr>\n",
       "    <tr>\n",
       "      <th>duration</th>\n",
       "      <td>-0.068026</td>\n",
       "      <td>1.000000</td>\n",
       "      <td>-0.182544</td>\n",
       "      <td>0.376241</td>\n",
       "      <td>0.413840</td>\n",
       "      <td>0.286303</td>\n",
       "      <td>0.074360</td>\n",
       "      <td>-0.173618</td>\n",
       "    </tr>\n",
       "    <tr>\n",
       "      <th>participants_no</th>\n",
       "      <td>-0.127556</td>\n",
       "      <td>-0.182544</td>\n",
       "      <td>1.000000</td>\n",
       "      <td>-0.122790</td>\n",
       "      <td>-0.114929</td>\n",
       "      <td>-0.015217</td>\n",
       "      <td>0.305168</td>\n",
       "      <td>0.080153</td>\n",
       "    </tr>\n",
       "    <tr>\n",
       "      <th>quantity_annual</th>\n",
       "      <td>-0.291385</td>\n",
       "      <td>0.376241</td>\n",
       "      <td>-0.122790</td>\n",
       "      <td>1.000000</td>\n",
       "      <td>0.996529</td>\n",
       "      <td>0.955680</td>\n",
       "      <td>0.050081</td>\n",
       "      <td>-0.028913</td>\n",
       "    </tr>\n",
       "    <tr>\n",
       "      <th>quantity_total</th>\n",
       "      <td>-0.287332</td>\n",
       "      <td>0.413840</td>\n",
       "      <td>-0.114929</td>\n",
       "      <td>0.996529</td>\n",
       "      <td>1.000000</td>\n",
       "      <td>0.960672</td>\n",
       "      <td>0.059399</td>\n",
       "      <td>-0.066486</td>\n",
       "    </tr>\n",
       "    <tr>\n",
       "      <th>maximum_price_allowed</th>\n",
       "      <td>-0.232188</td>\n",
       "      <td>0.286303</td>\n",
       "      <td>-0.015217</td>\n",
       "      <td>0.955680</td>\n",
       "      <td>0.960672</td>\n",
       "      <td>1.000000</td>\n",
       "      <td>0.104390</td>\n",
       "      <td>-0.063353</td>\n",
       "    </tr>\n",
       "    <tr>\n",
       "      <th>winner_price</th>\n",
       "      <td>0.391448</td>\n",
       "      <td>0.074360</td>\n",
       "      <td>0.305168</td>\n",
       "      <td>0.050081</td>\n",
       "      <td>0.059399</td>\n",
       "      <td>0.104390</td>\n",
       "      <td>1.000000</td>\n",
       "      <td>0.175699</td>\n",
       "    </tr>\n",
       "    <tr>\n",
       "      <th>second_place_price</th>\n",
       "      <td>-0.167740</td>\n",
       "      <td>-0.173618</td>\n",
       "      <td>0.080153</td>\n",
       "      <td>-0.028913</td>\n",
       "      <td>-0.066486</td>\n",
       "      <td>-0.063353</td>\n",
       "      <td>0.175699</td>\n",
       "      <td>1.000000</td>\n",
       "    </tr>\n",
       "  </tbody>\n",
       "</table>\n",
       "</div>"
      ],
      "text/plain": [
       "                       duration_extension  duration  participants_no  \\\n",
       "duration_extension               1.000000 -0.068026        -0.127556   \n",
       "duration                        -0.068026  1.000000        -0.182544   \n",
       "participants_no                 -0.127556 -0.182544         1.000000   \n",
       "quantity_annual                 -0.291385  0.376241        -0.122790   \n",
       "quantity_total                  -0.287332  0.413840        -0.114929   \n",
       "maximum_price_allowed           -0.232188  0.286303        -0.015217   \n",
       "winner_price                     0.391448  0.074360         0.305168   \n",
       "second_place_price              -0.167740 -0.173618         0.080153   \n",
       "\n",
       "                       quantity_annual  quantity_total  maximum_price_allowed  \\\n",
       "duration_extension           -0.291385       -0.287332              -0.232188   \n",
       "duration                      0.376241        0.413840               0.286303   \n",
       "participants_no              -0.122790       -0.114929              -0.015217   \n",
       "quantity_annual               1.000000        0.996529               0.955680   \n",
       "quantity_total                0.996529        1.000000               0.960672   \n",
       "maximum_price_allowed         0.955680        0.960672               1.000000   \n",
       "winner_price                  0.050081        0.059399               0.104390   \n",
       "second_place_price           -0.028913       -0.066486              -0.063353   \n",
       "\n",
       "                       winner_price  second_place_price  \n",
       "duration_extension         0.391448           -0.167740  \n",
       "duration                   0.074360           -0.173618  \n",
       "participants_no            0.305168            0.080153  \n",
       "quantity_annual            0.050081           -0.028913  \n",
       "quantity_total             0.059399           -0.066486  \n",
       "maximum_price_allowed      0.104390           -0.063353  \n",
       "winner_price               1.000000            0.175699  \n",
       "second_place_price         0.175699            1.000000  "
      ]
     },
     "execution_count": 26,
     "metadata": {},
     "output_type": "execute_result"
    }
   ],
   "source": [
    "# Correlation matrix\n",
    "df.select_dtypes(include=['number']).iloc[:,1:].corr()"
   ]
  },
  {
   "cell_type": "code",
   "execution_count": 27,
   "metadata": {},
   "outputs": [
    {
     "data": {
      "application/vnd.plotly.v1+json": {
       "config": {
        "plotlyServerURL": "https://plot.ly"
       },
       "data": [
        {
         "hovertemplate": "quantity_total=%{x}<br>winner_price=%{y}<extra></extra>",
         "legendgroup": "",
         "marker": {
          "color": "#636efa",
          "symbol": "circle"
         },
         "mode": "markers",
         "name": "",
         "orientation": "v",
         "showlegend": false,
         "type": "scatter",
         "x": [
          220249.442660143,
          2680.639219211316,
          5900.676493613123,
          9026.168470095074,
          31951.791632038767,
          8589.313285066892,
          302560.0860823963,
          58032.68174512516,
          66527.92798335991,
          63904.29401018482,
          8426.46769286538,
          8833.156206989086,
          65931.00077991649,
          51752.91832382516,
          1179786.6436388672,
          95007.35275064212,
          160968.94435571626,
          56479.37121315684,
          6263.290169290181,
          30548.844410945752,
          5758.720772735226,
          109912.35124851111
         ],
         "xaxis": "x",
         "y": [
          0.007,
          0.014,
          0.025,
          0.019,
          0.03,
          0.01699,
          0.02,
          0.017,
          0.02,
          0.02,
          0.01786,
          0.01786,
          0.01607,
          0.0125,
          0.0205,
          0.0123,
          0.018,
          0.0122,
          0.015,
          0.02393,
          0.015,
          0.0155
         ],
         "yaxis": "y"
        }
       ],
       "layout": {
        "legend": {
         "tracegroupgap": 0
        },
        "template": {
         "data": {
          "bar": [
           {
            "error_x": {
             "color": "#2a3f5f"
            },
            "error_y": {
             "color": "#2a3f5f"
            },
            "marker": {
             "line": {
              "color": "#E5ECF6",
              "width": 0.5
             },
             "pattern": {
              "fillmode": "overlay",
              "size": 10,
              "solidity": 0.2
             }
            },
            "type": "bar"
           }
          ],
          "barpolar": [
           {
            "marker": {
             "line": {
              "color": "#E5ECF6",
              "width": 0.5
             },
             "pattern": {
              "fillmode": "overlay",
              "size": 10,
              "solidity": 0.2
             }
            },
            "type": "barpolar"
           }
          ],
          "carpet": [
           {
            "aaxis": {
             "endlinecolor": "#2a3f5f",
             "gridcolor": "white",
             "linecolor": "white",
             "minorgridcolor": "white",
             "startlinecolor": "#2a3f5f"
            },
            "baxis": {
             "endlinecolor": "#2a3f5f",
             "gridcolor": "white",
             "linecolor": "white",
             "minorgridcolor": "white",
             "startlinecolor": "#2a3f5f"
            },
            "type": "carpet"
           }
          ],
          "choropleth": [
           {
            "colorbar": {
             "outlinewidth": 0,
             "ticks": ""
            },
            "type": "choropleth"
           }
          ],
          "contour": [
           {
            "colorbar": {
             "outlinewidth": 0,
             "ticks": ""
            },
            "colorscale": [
             [
              0,
              "#0d0887"
             ],
             [
              0.1111111111111111,
              "#46039f"
             ],
             [
              0.2222222222222222,
              "#7201a8"
             ],
             [
              0.3333333333333333,
              "#9c179e"
             ],
             [
              0.4444444444444444,
              "#bd3786"
             ],
             [
              0.5555555555555556,
              "#d8576b"
             ],
             [
              0.6666666666666666,
              "#ed7953"
             ],
             [
              0.7777777777777778,
              "#fb9f3a"
             ],
             [
              0.8888888888888888,
              "#fdca26"
             ],
             [
              1,
              "#f0f921"
             ]
            ],
            "type": "contour"
           }
          ],
          "contourcarpet": [
           {
            "colorbar": {
             "outlinewidth": 0,
             "ticks": ""
            },
            "type": "contourcarpet"
           }
          ],
          "heatmap": [
           {
            "colorbar": {
             "outlinewidth": 0,
             "ticks": ""
            },
            "colorscale": [
             [
              0,
              "#0d0887"
             ],
             [
              0.1111111111111111,
              "#46039f"
             ],
             [
              0.2222222222222222,
              "#7201a8"
             ],
             [
              0.3333333333333333,
              "#9c179e"
             ],
             [
              0.4444444444444444,
              "#bd3786"
             ],
             [
              0.5555555555555556,
              "#d8576b"
             ],
             [
              0.6666666666666666,
              "#ed7953"
             ],
             [
              0.7777777777777778,
              "#fb9f3a"
             ],
             [
              0.8888888888888888,
              "#fdca26"
             ],
             [
              1,
              "#f0f921"
             ]
            ],
            "type": "heatmap"
           }
          ],
          "heatmapgl": [
           {
            "colorbar": {
             "outlinewidth": 0,
             "ticks": ""
            },
            "colorscale": [
             [
              0,
              "#0d0887"
             ],
             [
              0.1111111111111111,
              "#46039f"
             ],
             [
              0.2222222222222222,
              "#7201a8"
             ],
             [
              0.3333333333333333,
              "#9c179e"
             ],
             [
              0.4444444444444444,
              "#bd3786"
             ],
             [
              0.5555555555555556,
              "#d8576b"
             ],
             [
              0.6666666666666666,
              "#ed7953"
             ],
             [
              0.7777777777777778,
              "#fb9f3a"
             ],
             [
              0.8888888888888888,
              "#fdca26"
             ],
             [
              1,
              "#f0f921"
             ]
            ],
            "type": "heatmapgl"
           }
          ],
          "histogram": [
           {
            "marker": {
             "pattern": {
              "fillmode": "overlay",
              "size": 10,
              "solidity": 0.2
             }
            },
            "type": "histogram"
           }
          ],
          "histogram2d": [
           {
            "colorbar": {
             "outlinewidth": 0,
             "ticks": ""
            },
            "colorscale": [
             [
              0,
              "#0d0887"
             ],
             [
              0.1111111111111111,
              "#46039f"
             ],
             [
              0.2222222222222222,
              "#7201a8"
             ],
             [
              0.3333333333333333,
              "#9c179e"
             ],
             [
              0.4444444444444444,
              "#bd3786"
             ],
             [
              0.5555555555555556,
              "#d8576b"
             ],
             [
              0.6666666666666666,
              "#ed7953"
             ],
             [
              0.7777777777777778,
              "#fb9f3a"
             ],
             [
              0.8888888888888888,
              "#fdca26"
             ],
             [
              1,
              "#f0f921"
             ]
            ],
            "type": "histogram2d"
           }
          ],
          "histogram2dcontour": [
           {
            "colorbar": {
             "outlinewidth": 0,
             "ticks": ""
            },
            "colorscale": [
             [
              0,
              "#0d0887"
             ],
             [
              0.1111111111111111,
              "#46039f"
             ],
             [
              0.2222222222222222,
              "#7201a8"
             ],
             [
              0.3333333333333333,
              "#9c179e"
             ],
             [
              0.4444444444444444,
              "#bd3786"
             ],
             [
              0.5555555555555556,
              "#d8576b"
             ],
             [
              0.6666666666666666,
              "#ed7953"
             ],
             [
              0.7777777777777778,
              "#fb9f3a"
             ],
             [
              0.8888888888888888,
              "#fdca26"
             ],
             [
              1,
              "#f0f921"
             ]
            ],
            "type": "histogram2dcontour"
           }
          ],
          "mesh3d": [
           {
            "colorbar": {
             "outlinewidth": 0,
             "ticks": ""
            },
            "type": "mesh3d"
           }
          ],
          "parcoords": [
           {
            "line": {
             "colorbar": {
              "outlinewidth": 0,
              "ticks": ""
             }
            },
            "type": "parcoords"
           }
          ],
          "pie": [
           {
            "automargin": true,
            "type": "pie"
           }
          ],
          "scatter": [
           {
            "fillpattern": {
             "fillmode": "overlay",
             "size": 10,
             "solidity": 0.2
            },
            "type": "scatter"
           }
          ],
          "scatter3d": [
           {
            "line": {
             "colorbar": {
              "outlinewidth": 0,
              "ticks": ""
             }
            },
            "marker": {
             "colorbar": {
              "outlinewidth": 0,
              "ticks": ""
             }
            },
            "type": "scatter3d"
           }
          ],
          "scattercarpet": [
           {
            "marker": {
             "colorbar": {
              "outlinewidth": 0,
              "ticks": ""
             }
            },
            "type": "scattercarpet"
           }
          ],
          "scattergeo": [
           {
            "marker": {
             "colorbar": {
              "outlinewidth": 0,
              "ticks": ""
             }
            },
            "type": "scattergeo"
           }
          ],
          "scattergl": [
           {
            "marker": {
             "colorbar": {
              "outlinewidth": 0,
              "ticks": ""
             }
            },
            "type": "scattergl"
           }
          ],
          "scattermapbox": [
           {
            "marker": {
             "colorbar": {
              "outlinewidth": 0,
              "ticks": ""
             }
            },
            "type": "scattermapbox"
           }
          ],
          "scatterpolar": [
           {
            "marker": {
             "colorbar": {
              "outlinewidth": 0,
              "ticks": ""
             }
            },
            "type": "scatterpolar"
           }
          ],
          "scatterpolargl": [
           {
            "marker": {
             "colorbar": {
              "outlinewidth": 0,
              "ticks": ""
             }
            },
            "type": "scatterpolargl"
           }
          ],
          "scatterternary": [
           {
            "marker": {
             "colorbar": {
              "outlinewidth": 0,
              "ticks": ""
             }
            },
            "type": "scatterternary"
           }
          ],
          "surface": [
           {
            "colorbar": {
             "outlinewidth": 0,
             "ticks": ""
            },
            "colorscale": [
             [
              0,
              "#0d0887"
             ],
             [
              0.1111111111111111,
              "#46039f"
             ],
             [
              0.2222222222222222,
              "#7201a8"
             ],
             [
              0.3333333333333333,
              "#9c179e"
             ],
             [
              0.4444444444444444,
              "#bd3786"
             ],
             [
              0.5555555555555556,
              "#d8576b"
             ],
             [
              0.6666666666666666,
              "#ed7953"
             ],
             [
              0.7777777777777778,
              "#fb9f3a"
             ],
             [
              0.8888888888888888,
              "#fdca26"
             ],
             [
              1,
              "#f0f921"
             ]
            ],
            "type": "surface"
           }
          ],
          "table": [
           {
            "cells": {
             "fill": {
              "color": "#EBF0F8"
             },
             "line": {
              "color": "white"
             }
            },
            "header": {
             "fill": {
              "color": "#C8D4E3"
             },
             "line": {
              "color": "white"
             }
            },
            "type": "table"
           }
          ]
         },
         "layout": {
          "annotationdefaults": {
           "arrowcolor": "#2a3f5f",
           "arrowhead": 0,
           "arrowwidth": 1
          },
          "autotypenumbers": "strict",
          "coloraxis": {
           "colorbar": {
            "outlinewidth": 0,
            "ticks": ""
           }
          },
          "colorscale": {
           "diverging": [
            [
             0,
             "#8e0152"
            ],
            [
             0.1,
             "#c51b7d"
            ],
            [
             0.2,
             "#de77ae"
            ],
            [
             0.3,
             "#f1b6da"
            ],
            [
             0.4,
             "#fde0ef"
            ],
            [
             0.5,
             "#f7f7f7"
            ],
            [
             0.6,
             "#e6f5d0"
            ],
            [
             0.7,
             "#b8e186"
            ],
            [
             0.8,
             "#7fbc41"
            ],
            [
             0.9,
             "#4d9221"
            ],
            [
             1,
             "#276419"
            ]
           ],
           "sequential": [
            [
             0,
             "#0d0887"
            ],
            [
             0.1111111111111111,
             "#46039f"
            ],
            [
             0.2222222222222222,
             "#7201a8"
            ],
            [
             0.3333333333333333,
             "#9c179e"
            ],
            [
             0.4444444444444444,
             "#bd3786"
            ],
            [
             0.5555555555555556,
             "#d8576b"
            ],
            [
             0.6666666666666666,
             "#ed7953"
            ],
            [
             0.7777777777777778,
             "#fb9f3a"
            ],
            [
             0.8888888888888888,
             "#fdca26"
            ],
            [
             1,
             "#f0f921"
            ]
           ],
           "sequentialminus": [
            [
             0,
             "#0d0887"
            ],
            [
             0.1111111111111111,
             "#46039f"
            ],
            [
             0.2222222222222222,
             "#7201a8"
            ],
            [
             0.3333333333333333,
             "#9c179e"
            ],
            [
             0.4444444444444444,
             "#bd3786"
            ],
            [
             0.5555555555555556,
             "#d8576b"
            ],
            [
             0.6666666666666666,
             "#ed7953"
            ],
            [
             0.7777777777777778,
             "#fb9f3a"
            ],
            [
             0.8888888888888888,
             "#fdca26"
            ],
            [
             1,
             "#f0f921"
            ]
           ]
          },
          "colorway": [
           "#636efa",
           "#EF553B",
           "#00cc96",
           "#ab63fa",
           "#FFA15A",
           "#19d3f3",
           "#FF6692",
           "#B6E880",
           "#FF97FF",
           "#FECB52"
          ],
          "font": {
           "color": "#2a3f5f"
          },
          "geo": {
           "bgcolor": "white",
           "lakecolor": "white",
           "landcolor": "#E5ECF6",
           "showlakes": true,
           "showland": true,
           "subunitcolor": "white"
          },
          "hoverlabel": {
           "align": "left"
          },
          "hovermode": "closest",
          "mapbox": {
           "style": "light"
          },
          "paper_bgcolor": "white",
          "plot_bgcolor": "#E5ECF6",
          "polar": {
           "angularaxis": {
            "gridcolor": "white",
            "linecolor": "white",
            "ticks": ""
           },
           "bgcolor": "#E5ECF6",
           "radialaxis": {
            "gridcolor": "white",
            "linecolor": "white",
            "ticks": ""
           }
          },
          "scene": {
           "xaxis": {
            "backgroundcolor": "#E5ECF6",
            "gridcolor": "white",
            "gridwidth": 2,
            "linecolor": "white",
            "showbackground": true,
            "ticks": "",
            "zerolinecolor": "white"
           },
           "yaxis": {
            "backgroundcolor": "#E5ECF6",
            "gridcolor": "white",
            "gridwidth": 2,
            "linecolor": "white",
            "showbackground": true,
            "ticks": "",
            "zerolinecolor": "white"
           },
           "zaxis": {
            "backgroundcolor": "#E5ECF6",
            "gridcolor": "white",
            "gridwidth": 2,
            "linecolor": "white",
            "showbackground": true,
            "ticks": "",
            "zerolinecolor": "white"
           }
          },
          "shapedefaults": {
           "line": {
            "color": "#2a3f5f"
           }
          },
          "ternary": {
           "aaxis": {
            "gridcolor": "white",
            "linecolor": "white",
            "ticks": ""
           },
           "baxis": {
            "gridcolor": "white",
            "linecolor": "white",
            "ticks": ""
           },
           "bgcolor": "#E5ECF6",
           "caxis": {
            "gridcolor": "white",
            "linecolor": "white",
            "ticks": ""
           }
          },
          "title": {
           "x": 0.05
          },
          "xaxis": {
           "automargin": true,
           "gridcolor": "white",
           "linecolor": "white",
           "ticks": "",
           "title": {
            "standoff": 15
           },
           "zerolinecolor": "white",
           "zerolinewidth": 2
          },
          "yaxis": {
           "automargin": true,
           "gridcolor": "white",
           "linecolor": "white",
           "ticks": "",
           "title": {
            "standoff": 15
           },
           "zerolinecolor": "white",
           "zerolinewidth": 2
          }
         }
        },
        "title": {
         "text": "Winner price vs. quantity total"
        },
        "xaxis": {
         "anchor": "y",
         "domain": [
          0,
          1
         ],
         "title": {
          "text": "quantity_total"
         }
        },
        "yaxis": {
         "anchor": "x",
         "domain": [
          0,
          1
         ],
         "title": {
          "text": "winner_price"
         }
        }
       }
      }
     },
     "metadata": {},
     "output_type": "display_data"
    }
   ],
   "source": [
    "# Scatter plot winner price vs quantity_total \n",
    "fig = px.scatter(df, y = df['winner_price'],  x=  df['quantity_total'], title = \"Winner price vs. quantity total\",\n",
    "           labels= {'winner_price': 'winner_price', 'quantity_total':'quantity_total'})\n",
    "fig.show()"
   ]
  },
  {
   "cell_type": "markdown",
   "metadata": {},
   "source": [
    "## Business Rules Validation:\n",
    "\n",
    "- Validation Against Contracts: Manually check that no winner price exceeds maximum price allowed. While this have been automated, a manual review, especially for significant contracts, can help catch any anomalies that slipped through. \n",
    "\n",
    "- Compliance Checks: Manually check if certain regulatory frameworks or internal rules impose price ranges on specific products or regions\n"
   ]
  },
  {
   "cell_type": "markdown",
   "metadata": {},
   "source": [
    "# Long Term Improvements and Roadmap\n",
    "\n",
    "1. Feedback Loop: Implement a system where the model's performance can feedback into the data cleansing process, helping to iteratively improve both the model and the data quality. \n",
    "    - Asses model performance based on performance metrics (RMSE, MAE). If certain types of errors are recurrent, analyse if they correlate with specific data quality issues (e.g., outliers in winner_price were not handled appropriately leading to overestimations) - Is removing outliers better than capping them to lower / upper bounds? \n",
    "    - Adjust Cleansing Rules: Based on the insights gained, adjust our data cleansing procedures. For example, if the model is sensitive to slight variations in winner_price near the maximum_price_allowed, refine the outlier detection thresholds or methods specifically around this range.\n",
    "\n",
    "\n",
    "2. Automation Enhancement: Continuously update and enhance the automation scripts as new anomalies or patterns are discovered.\n",
    "    - If new patterns of anomalies are discovered, refine the automation scripts to handle these new patterns.\n",
    "    - Apply more sophisticated unsupervised ML techniques to detect unusual patterns we hadn't previously encoded manually. \n",
    "\n",
    "3. Data Quality Monitoring: Developing tools like dashboards or regular reports ensures that we constantly aware of the state of the data quality.\n",
    "    - Use Tableau to create dashboards that show key data quality metrics, such as % of missing values or frequency of outlier detection.\n",
    "\n",
    "4. Collaboration with Business Teams: Regular interaction with business stakeholders ensures that our data validation rules are aligned with business objectives and can adapt to changing business environments. \n",
    "    - Business Rule Reviews: Work collaboratively with business analysts to continuously update and refine the business rules for data validation, ensuring they remain relevant as new products, markets, or business models are developed.\n",
    "\n",
    "\n",
    "\n",
    "\n"
   ]
  },
  {
   "cell_type": "markdown",
   "metadata": {},
   "source": [
    "# Scaling the Process\n",
    "\n",
    "1. Automate: Need for automation becomes critical because manual data cleansing becomes time-consuming and error-prone\n",
    "    - Automated reporting and alerts: Set up automated systems that general reports and send alers when data quality metrics fall below certain thresholds. For example, an alert could be triggered if % missing values in winner_price >= 5% of the total dataset\n",
    "\n",
    "2. Use of Big Data Tools: For handling and processing large datasets efficiently, leverage big data tools\n",
    "    - Apache Spark for Data Cleansing: clean data across distributed system. Validate winner_price against maximum_price_allowed across millions of rows in real-time.\n",
    "    - Integration with Data Lakes: store raw data in a data lake architecture, where we can use ETL tools like dbt to transform, clean, and process the data before we ingest it into a datawarehouse for ML use.\n",
    "\n",
    "3. Module Pipeline Design: Designing our data pipeline in a modular way ensures that it can scale and adapt to changing requirements without significant overhauls\n",
    "    - Microservice Architecture: Divide the pipeline into small, independent services that handle specific tasks (data ingestion, cleansing, validation, storage).\n",
    "    - Data Pipeline Orchestration: Use workflow orchestration tools like Apache Airflow to manage the interactions between different components of the data pipeline. Eeach worklow can be represented by a DAG such as loading, cleansing, or aggregation. \n",
    "\n",
    "    "
   ]
  }
 ],
 "metadata": {
  "kernelspec": {
   "display_name": "Python 3 (ipykernel)",
   "language": "python",
   "name": "python3"
  },
  "language_info": {
   "codemirror_mode": {
    "name": "ipython",
    "version": 3
   },
   "file_extension": ".py",
   "mimetype": "text/x-python",
   "name": "python",
   "nbconvert_exporter": "python",
   "pygments_lexer": "ipython3",
   "version": "3.9.13"
  },
  "toc": {
   "base_numbering": 1,
   "nav_menu": {},
   "number_sections": true,
   "sideBar": false,
   "skip_h1_title": false,
   "title_cell": "Table of Contents",
   "title_sidebar": "Contents",
   "toc_cell": true,
   "toc_position": {
    "height": "733px",
    "left": "36px",
    "top": "110px",
    "width": "318px"
   },
   "toc_section_display": false,
   "toc_window_display": true
  },
  "varInspector": {
   "cols": {
    "lenName": 16,
    "lenType": 16,
    "lenVar": 40
   },
   "kernels_config": {
    "python": {
     "delete_cmd_postfix": "",
     "delete_cmd_prefix": "del ",
     "library": "var_list.py",
     "varRefreshCmd": "print(var_dic_list())"
    },
    "r": {
     "delete_cmd_postfix": ") ",
     "delete_cmd_prefix": "rm(",
     "library": "var_list.r",
     "varRefreshCmd": "cat(var_dic_list()) "
    }
   },
   "types_to_exclude": [
    "module",
    "function",
    "builtin_function_or_method",
    "instance",
    "_Feature"
   ],
   "window_display": false
  }
 },
 "nbformat": 4,
 "nbformat_minor": 2
}
